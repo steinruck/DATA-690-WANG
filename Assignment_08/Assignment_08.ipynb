{
  "nbformat": 4,
  "nbformat_minor": 0,
  "metadata": {
    "kernelspec": {
      "display_name": "Python 3",
      "language": "python",
      "name": "python3"
    },
    "language_info": {
      "codemirror_mode": {
        "name": "ipython",
        "version": 3
      },
      "file_extension": ".py",
      "mimetype": "text/x-python",
      "name": "python",
      "nbconvert_exporter": "python",
      "pygments_lexer": "ipython3",
      "version": "3.7.4"
    },
    "colab": {
      "name": "Assignment-08",
      "provenance": [],
      "toc_visible": true,
      "include_colab_link": true
    }
  },
  "cells": [
    {
      "cell_type": "markdown",
      "metadata": {
        "id": "view-in-github",
        "colab_type": "text"
      },
      "source": [
        "<a href=\"https://colab.research.google.com/github/steinruck/WANG-690-FALL-2020/blob/master/Assignment_08/Assignment_08.ipynb\" target=\"_parent\"><img src=\"https://colab.research.google.com/assets/colab-badge.svg\" alt=\"Open In Colab\"/></a>"
      ]
    },
    {
      "cell_type": "code",
      "metadata": {
        "id": "HpZckaJR6oI8"
      },
      "source": [
        "# 1 - Import necessary libraries\n",
        "import pandas as pd\n",
        "import seaborn as sns\n",
        "import glob\n",
        "import random\n",
        "import numpy as np\n",
        "import matplotlib.pyplot as plt"
      ],
      "execution_count": 1,
      "outputs": []
    },
    {
      "cell_type": "code",
      "metadata": {
        "id": "6qafjqpb6oJC",
        "outputId": "ba60076a-77db-4e92-bdc7-0376bb95ed6a",
        "colab": {
          "base_uri": "https://localhost:8080/"
        }
      },
      "source": [
        "# 2 - Retrieve the names of the 22 files and assign them to a List variable\n",
        "# You would need to filter out other files\n",
        "# Display the names of these 22 files\n",
        "\n",
        "# unzip CollegeScorecard_Raw_Data\n",
        "!unzip /content/CollegeScorecard_Raw_Data.zip"
      ],
      "execution_count": 2,
      "outputs": [
        {
          "output_type": "stream",
          "text": [
            "Archive:  /content/CollegeScorecard_Raw_Data.zip\n",
            "   creating: CollegeScorecard_Raw_Data/\n",
            "  inflating: CollegeScorecard_Raw_Data/MERGED2011_12_PP.csv  \n",
            "  inflating: CollegeScorecard_Raw_Data/MERGED1999_00_PP.csv  \n",
            "  inflating: CollegeScorecard_Raw_Data/MERGED2006_07_PP.csv  \n",
            "  inflating: CollegeScorecard_Raw_Data/MERGED2014_15_PP.csv  \n",
            "  inflating: CollegeScorecard_Raw_Data/.DS_Store  \n",
            "  inflating: CollegeScorecard_Raw_Data/MERGED2003_04_PP.csv  \n",
            "  inflating: CollegeScorecard_Raw_Data/MERGED1996_97_PP.csv  \n",
            "  inflating: CollegeScorecard_Raw_Data/FieldOfStudyData1516_1617_PP.csv  \n",
            "  inflating: CollegeScorecard_Raw_Data/MERGED2012_13_PP.csv  \n",
            "  inflating: CollegeScorecard_Raw_Data/MERGED2005_06_PP.csv  \n",
            "  inflating: CollegeScorecard_Raw_Data/MERGED2009_10_PP.csv  \n",
            "  inflating: CollegeScorecard_Raw_Data/MERGED2018_19_PP.csv  \n",
            "  inflating: CollegeScorecard_Raw_Data/MERGED2017_18_PP.csv  \n",
            "  inflating: CollegeScorecard_Raw_Data/Crosswalks.zip  \n",
            "  inflating: CollegeScorecard_Raw_Data/MERGED2000_01_PP.csv  \n",
            "  inflating: CollegeScorecard_Raw_Data/MERGED2001_02_PP.csv  \n",
            "  inflating: CollegeScorecard_Raw_Data/MERGED2016_17_PP.csv  \n",
            "  inflating: CollegeScorecard_Raw_Data/MERGED1997_98_PP.csv  \n",
            "  inflating: CollegeScorecard_Raw_Data/MERGED1998_99_PP.csv  \n",
            "  inflating: CollegeScorecard_Raw_Data/data.yaml  \n",
            "  inflating: CollegeScorecard_Raw_Data/MERGED2004_05_PP.csv  \n",
            "  inflating: CollegeScorecard_Raw_Data/MERGED2002_03_PP.csv  \n",
            "  inflating: CollegeScorecard_Raw_Data/MERGED2015_16_PP.csv  \n",
            "  inflating: CollegeScorecard_Raw_Data/MERGED2013_14_PP.csv  \n",
            "  inflating: CollegeScorecard_Raw_Data/MERGED2007_08_PP.csv  \n",
            "  inflating: CollegeScorecard_Raw_Data/MERGED2008_09_PP.csv  \n",
            "  inflating: CollegeScorecard_Raw_Data/MERGED2010_11_PP.csv  \n",
            "  inflating: CollegeScorecard_Raw_Data/FieldOfStudyData1415_1516_PP.csv  \n"
          ],
          "name": "stdout"
        }
      ]
    },
    {
      "cell_type": "code",
      "metadata": {
        "id": "-rf7ePUpEkAV"
      },
      "source": [
        "# Retrieve only useful files\n",
        "file_list = glob.glob('/content/CollegeScorecard_Raw_Data/MERGED*')"
      ],
      "execution_count": 3,
      "outputs": []
    },
    {
      "cell_type": "code",
      "metadata": {
        "id": "rimc9Lr9E1tP",
        "outputId": "58bee04e-c832-426f-d3ed-2b7170ac6c1a",
        "colab": {
          "base_uri": "https://localhost:8080/"
        }
      },
      "source": [
        "# Display 22 files\n",
        "file_list"
      ],
      "execution_count": 4,
      "outputs": [
        {
          "output_type": "execute_result",
          "data": {
            "text/plain": [
              "['/content/CollegeScorecard_Raw_Data/MERGED2015_16_PP.csv',\n",
              " '/content/CollegeScorecard_Raw_Data/MERGED2016_17_PP.csv',\n",
              " '/content/CollegeScorecard_Raw_Data/MERGED2001_02_PP.csv',\n",
              " '/content/CollegeScorecard_Raw_Data/MERGED2007_08_PP.csv',\n",
              " '/content/CollegeScorecard_Raw_Data/MERGED2012_13_PP.csv',\n",
              " '/content/CollegeScorecard_Raw_Data/MERGED2006_07_PP.csv',\n",
              " '/content/CollegeScorecard_Raw_Data/MERGED2011_12_PP.csv',\n",
              " '/content/CollegeScorecard_Raw_Data/MERGED2000_01_PP.csv',\n",
              " '/content/CollegeScorecard_Raw_Data/MERGED2005_06_PP.csv',\n",
              " '/content/CollegeScorecard_Raw_Data/MERGED2004_05_PP.csv',\n",
              " '/content/CollegeScorecard_Raw_Data/MERGED2002_03_PP.csv',\n",
              " '/content/CollegeScorecard_Raw_Data/MERGED2008_09_PP.csv',\n",
              " '/content/CollegeScorecard_Raw_Data/MERGED2014_15_PP.csv',\n",
              " '/content/CollegeScorecard_Raw_Data/MERGED2003_04_PP.csv',\n",
              " '/content/CollegeScorecard_Raw_Data/MERGED1997_98_PP.csv',\n",
              " '/content/CollegeScorecard_Raw_Data/MERGED2017_18_PP.csv',\n",
              " '/content/CollegeScorecard_Raw_Data/MERGED1998_99_PP.csv',\n",
              " '/content/CollegeScorecard_Raw_Data/MERGED1996_97_PP.csv',\n",
              " '/content/CollegeScorecard_Raw_Data/MERGED2013_14_PP.csv',\n",
              " '/content/CollegeScorecard_Raw_Data/MERGED2010_11_PP.csv',\n",
              " '/content/CollegeScorecard_Raw_Data/MERGED1999_00_PP.csv',\n",
              " '/content/CollegeScorecard_Raw_Data/MERGED2009_10_PP.csv',\n",
              " '/content/CollegeScorecard_Raw_Data/MERGED2018_19_PP.csv']"
            ]
          },
          "metadata": {
            "tags": []
          },
          "execution_count": 4
        }
      ]
    },
    {
      "cell_type": "code",
      "metadata": {
        "id": "ft9Rn1lp6oJG",
        "outputId": "bcc21bc8-0777-4776-98cc-4d603bb53821",
        "colab": {
          "base_uri": "https://localhost:8080/",
          "height": 37
        }
      },
      "source": [
        "# 3 - Write code to randomly select one file name out of the 22 files names. \n",
        "# Hint: generate a random integer between 0 and 21 first\n",
        "# Display the file name\n",
        "random_int = random.randrange(0,21)\n",
        "year = file_list[random_int-1]\n",
        "year"
      ],
      "execution_count": 5,
      "outputs": [
        {
          "output_type": "execute_result",
          "data": {
            "application/vnd.google.colaboratory.intrinsic+json": {
              "type": "string"
            },
            "text/plain": [
              "'/content/CollegeScorecard_Raw_Data/MERGED2014_15_PP.csv'"
            ]
          },
          "metadata": {
            "tags": []
          },
          "execution_count": 5
        }
      ]
    },
    {
      "cell_type": "code",
      "metadata": {
        "id": "DJy1hmWM6oJN",
        "outputId": "a4a4c54c-9250-4c57-d722-05c7059a18a7",
        "colab": {
          "base_uri": "https://localhost:8080/",
          "height": 258
        }
      },
      "source": [
        "# 4 - Only read the two columns: college name (INSTNM) and in state tution (\"TUITIONFEE_IN\")\n",
        "read_year = pd.read_csv(year)\n",
        "df = pd.DataFrame(read_year,columns=['INSTNM','TUITIONFEE_IN'])\n",
        "df.head()"
      ],
      "execution_count": 6,
      "outputs": [
        {
          "output_type": "stream",
          "text": [
            "/usr/local/lib/python3.6/dist-packages/IPython/core/interactiveshell.py:2718: DtypeWarning: Columns (6,1537,1540,1542,1589,1606,1610,1614,1615,1729,1909,1910,1911,1912,1913) have mixed types.Specify dtype option on import or set low_memory=False.\n",
            "  interactivity=interactivity, compiler=compiler, result=result)\n"
          ],
          "name": "stderr"
        },
        {
          "output_type": "execute_result",
          "data": {
            "text/html": [
              "<div>\n",
              "<style scoped>\n",
              "    .dataframe tbody tr th:only-of-type {\n",
              "        vertical-align: middle;\n",
              "    }\n",
              "\n",
              "    .dataframe tbody tr th {\n",
              "        vertical-align: top;\n",
              "    }\n",
              "\n",
              "    .dataframe thead th {\n",
              "        text-align: right;\n",
              "    }\n",
              "</style>\n",
              "<table border=\"1\" class=\"dataframe\">\n",
              "  <thead>\n",
              "    <tr style=\"text-align: right;\">\n",
              "      <th></th>\n",
              "      <th>INSTNM</th>\n",
              "      <th>TUITIONFEE_IN</th>\n",
              "    </tr>\n",
              "  </thead>\n",
              "  <tbody>\n",
              "    <tr>\n",
              "      <th>0</th>\n",
              "      <td>Alabama A &amp; M University</td>\n",
              "      <td>9096.0</td>\n",
              "    </tr>\n",
              "    <tr>\n",
              "      <th>1</th>\n",
              "      <td>University of Alabama at Birmingham</td>\n",
              "      <td>7510.0</td>\n",
              "    </tr>\n",
              "    <tr>\n",
              "      <th>2</th>\n",
              "      <td>Amridge University</td>\n",
              "      <td>6900.0</td>\n",
              "    </tr>\n",
              "    <tr>\n",
              "      <th>3</th>\n",
              "      <td>University of Alabama in Huntsville</td>\n",
              "      <td>9158.0</td>\n",
              "    </tr>\n",
              "    <tr>\n",
              "      <th>4</th>\n",
              "      <td>Alabama State University</td>\n",
              "      <td>8720.0</td>\n",
              "    </tr>\n",
              "  </tbody>\n",
              "</table>\n",
              "</div>"
            ],
            "text/plain": [
              "                                INSTNM  TUITIONFEE_IN\n",
              "0             Alabama A & M University         9096.0\n",
              "1  University of Alabama at Birmingham         7510.0\n",
              "2                   Amridge University         6900.0\n",
              "3  University of Alabama in Huntsville         9158.0\n",
              "4             Alabama State University         8720.0"
            ]
          },
          "metadata": {
            "tags": []
          },
          "execution_count": 6
        }
      ]
    },
    {
      "cell_type": "code",
      "metadata": {
        "id": "ppe-PcXfJNr8",
        "outputId": "16df3dd8-089a-4b1f-f147-59d9857047d7",
        "colab": {
          "base_uri": "https://localhost:8080/"
        }
      },
      "source": [
        "# from this file into a data frame aand display use info() function to display a summary information\n",
        "df.info()"
      ],
      "execution_count": 7,
      "outputs": [
        {
          "output_type": "stream",
          "text": [
            "<class 'pandas.core.frame.DataFrame'>\n",
            "RangeIndex: 7766 entries, 0 to 7765\n",
            "Data columns (total 2 columns):\n",
            " #   Column         Non-Null Count  Dtype  \n",
            "---  ------         --------------  -----  \n",
            " 0   INSTNM         7766 non-null   object \n",
            " 1   TUITIONFEE_IN  4407 non-null   float64\n",
            "dtypes: float64(1), object(1)\n",
            "memory usage: 121.5+ KB\n"
          ],
          "name": "stdout"
        }
      ]
    },
    {
      "cell_type": "code",
      "metadata": {
        "id": "wU5Ozu106oJR",
        "outputId": "ade034b3-2934-43f9-c9e4-8133009a7706",
        "colab": {
          "base_uri": "https://localhost:8080/"
        }
      },
      "source": [
        "# 5 - Find out how many observations have missing value.\n",
        "df.isnull().sum()"
      ],
      "execution_count": 8,
      "outputs": [
        {
          "output_type": "execute_result",
          "data": {
            "text/plain": [
              "INSTNM              0\n",
              "TUITIONFEE_IN    3359\n",
              "dtype: int64"
            ]
          },
          "metadata": {
            "tags": []
          },
          "execution_count": 8
        }
      ]
    },
    {
      "cell_type": "code",
      "metadata": {
        "id": "V0MTbBwv6oJW",
        "outputId": "d91f4d3d-cdcf-494d-f694-e2927479a7cc",
        "colab": {
          "base_uri": "https://localhost:8080/"
        }
      },
      "source": [
        "# 6 - Drop those observations with missing value\n",
        "# Disaply the number of observations afterward\n",
        "df = df.dropna()\n",
        "df.info()"
      ],
      "execution_count": 9,
      "outputs": [
        {
          "output_type": "stream",
          "text": [
            "<class 'pandas.core.frame.DataFrame'>\n",
            "Int64Index: 4407 entries, 0 to 7764\n",
            "Data columns (total 2 columns):\n",
            " #   Column         Non-Null Count  Dtype  \n",
            "---  ------         --------------  -----  \n",
            " 0   INSTNM         4407 non-null   object \n",
            " 1   TUITIONFEE_IN  4407 non-null   float64\n",
            "dtypes: float64(1), object(1)\n",
            "memory usage: 103.3+ KB\n"
          ],
          "name": "stdout"
        }
      ]
    },
    {
      "cell_type": "code",
      "metadata": {
        "id": "A-pfpASe6oJb",
        "outputId": "fef75902-bd6b-4d8f-f84d-ed8b7b6df029",
        "colab": {
          "base_uri": "https://localhost:8080/"
        }
      },
      "source": [
        "# 7 - Find out how many observations have 0 tution. \n",
        "zero = df.loc[df['TUITIONFEE_IN'] == 0]\n",
        "zero.info()"
      ],
      "execution_count": 10,
      "outputs": [
        {
          "output_type": "stream",
          "text": [
            "<class 'pandas.core.frame.DataFrame'>\n",
            "Int64Index: 1 entries, 7431 to 7431\n",
            "Data columns (total 2 columns):\n",
            " #   Column         Non-Null Count  Dtype  \n",
            "---  ------         --------------  -----  \n",
            " 0   INSTNM         1 non-null      object \n",
            " 1   TUITIONFEE_IN  1 non-null      float64\n",
            "dtypes: float64(1), object(1)\n",
            "memory usage: 24.0+ bytes\n"
          ],
          "name": "stdout"
        }
      ]
    },
    {
      "cell_type": "code",
      "metadata": {
        "id": "UUp2iUlM6oJk",
        "outputId": "0bdad0d0-181b-4232-efb3-1f7202cda53d",
        "colab": {
          "base_uri": "https://localhost:8080/"
        }
      },
      "source": [
        "# 8 - Drop those observations with 0 tuition\n",
        "# Disaply the number of observations afterward\n",
        "df = df[df.TUITIONFEE_IN != 0]\n",
        "df.info()"
      ],
      "execution_count": 11,
      "outputs": [
        {
          "output_type": "stream",
          "text": [
            "<class 'pandas.core.frame.DataFrame'>\n",
            "Int64Index: 4406 entries, 0 to 7764\n",
            "Data columns (total 2 columns):\n",
            " #   Column         Non-Null Count  Dtype  \n",
            "---  ------         --------------  -----  \n",
            " 0   INSTNM         4406 non-null   object \n",
            " 1   TUITIONFEE_IN  4406 non-null   float64\n",
            "dtypes: float64(1), object(1)\n",
            "memory usage: 103.3+ KB\n"
          ],
          "name": "stdout"
        }
      ]
    },
    {
      "cell_type": "code",
      "metadata": {
        "id": "vXjrc9Km6oJq",
        "outputId": "4ba07ad2-8b17-41af-f7aa-48dcdfd1c84f",
        "colab": {
          "base_uri": "https://localhost:8080/"
        }
      },
      "source": [
        "# 9 - Calculate and display the mean (average) of the tuitions of all the remaining observations \n",
        "mean = np.mean(df['TUITIONFEE_IN'])\n",
        "mean"
      ],
      "execution_count": 12,
      "outputs": [
        {
          "output_type": "execute_result",
          "data": {
            "text/plain": [
              "14151.408533817521"
            ]
          },
          "metadata": {
            "tags": []
          },
          "execution_count": 12
        }
      ]
    },
    {
      "cell_type": "code",
      "metadata": {
        "id": "Yyk1Kx456oJv",
        "outputId": "bcc1b221-1e0e-4146-f64f-331ad6f53ddb",
        "colab": {
          "base_uri": "https://localhost:8080/"
        }
      },
      "source": [
        "# 10 - Randomly select just 1 observation from the data frame.\n",
        "# Display the tuition of that observation. \n",
        "sample = df['TUITIONFEE_IN'].sample()\n",
        "sample"
      ],
      "execution_count": 13,
      "outputs": [
        {
          "output_type": "execute_result",
          "data": {
            "text/plain": [
              "5803    26780.0\n",
              "Name: TUITIONFEE_IN, dtype: float64"
            ]
          },
          "metadata": {
            "tags": []
          },
          "execution_count": 13
        }
      ]
    },
    {
      "cell_type": "code",
      "metadata": {
        "id": "2Jio5eDc6oJ0",
        "outputId": "c8649ba7-9cd0-4f8f-fd24-0ce6742f31fd",
        "colab": {
          "base_uri": "https://localhost:8080/"
        }
      },
      "source": [
        "# 11 - Calculate the different between the tuition of this observation and \n",
        "# the mean tuition off all observations calculated earlier.\n",
        "# Display the difference\n",
        "difference = mean - sample\n",
        "difference\n"
      ],
      "execution_count": 14,
      "outputs": [
        {
          "output_type": "execute_result",
          "data": {
            "text/plain": [
              "5803   -12628.591466\n",
              "Name: TUITIONFEE_IN, dtype: float64"
            ]
          },
          "metadata": {
            "tags": []
          },
          "execution_count": 14
        }
      ]
    },
    {
      "cell_type": "code",
      "metadata": {
        "id": "E7RIjD8E6oJ5",
        "outputId": "187fbd09-988c-4565-ea26-181e969c44e1",
        "colab": {
          "base_uri": "https://localhost:8080/"
        }
      },
      "source": [
        "# 12 - Repeat 10 to 11 several times get the feel of the size of the difference in means\n",
        "difference_10 = (df['TUITIONFEE_IN'].sample(10)) - mean\n",
        "difference_10"
      ],
      "execution_count": 15,
      "outputs": [
        {
          "output_type": "execute_result",
          "data": {
            "text/plain": [
              "6496    -1176.408534\n",
              "2808    12148.591466\n",
              "305    -12835.408534\n",
              "5806     1012.591466\n",
              "3036    -2247.408534\n",
              "5375    -1761.408534\n",
              "1491   -10456.408534\n",
              "995     28078.591466\n",
              "4276   -12132.408534\n",
              "5569      -49.408534\n",
              "Name: TUITIONFEE_IN, dtype: float64"
            ]
          },
          "metadata": {
            "tags": []
          },
          "execution_count": 15
        }
      ]
    },
    {
      "cell_type": "code",
      "metadata": {
        "id": "X7P4DGbi6oJ-",
        "outputId": "13bbef9b-2ce9-4b23-f9c5-413993cb3646",
        "colab": {
          "base_uri": "https://localhost:8080/"
        }
      },
      "source": [
        "# 13 - Randomly select 20 observations, display the tuition of these observation. \n",
        "df_two = df['TUITIONFEE_IN'].sample(20)\n",
        "df_two"
      ],
      "execution_count": 16,
      "outputs": [
        {
          "output_type": "execute_result",
          "data": {
            "text/plain": [
              "3287    38630.0\n",
              "4140     3965.0\n",
              "3076     4148.0\n",
              "4266     6495.0\n",
              "4233     5580.0\n",
              "2836     5210.0\n",
              "6138    12975.0\n",
              "4701    13200.0\n",
              "5318    15000.0\n",
              "99      17050.0\n",
              "2184     6750.0\n",
              "6132    12906.0\n",
              "1065    41645.0\n",
              "359      1326.0\n",
              "940     20015.0\n",
              "3676    17668.0\n",
              "4030     3778.0\n",
              "3689     2295.0\n",
              "3122     3393.0\n",
              "90       1800.0\n",
              "Name: TUITIONFEE_IN, dtype: float64"
            ]
          },
          "metadata": {
            "tags": []
          },
          "execution_count": 16
        }
      ]
    },
    {
      "cell_type": "code",
      "metadata": {
        "id": "2kvz1whj6oKA",
        "outputId": "36d9761f-5928-4c84-ce90-f23e7f4ded49",
        "colab": {
          "base_uri": "https://localhost:8080/"
        }
      },
      "source": [
        "# 14 - Calculate and displat the mean tuition of these 20 observations\n",
        "mean_20 = np.mean(df_two)\n",
        "mean_20"
      ],
      "execution_count": 17,
      "outputs": [
        {
          "output_type": "execute_result",
          "data": {
            "text/plain": [
              "11691.45"
            ]
          },
          "metadata": {
            "tags": []
          },
          "execution_count": 17
        }
      ]
    },
    {
      "cell_type": "code",
      "metadata": {
        "id": "7qZe_Xn-6oKE",
        "outputId": "1081178d-1d9a-40cc-b41c-06e1f9a2fa74",
        "colab": {
          "base_uri": "https://localhost:8080/"
        }
      },
      "source": [
        "# 15 - Calculate  the different between the average tuition of these 20 observations \n",
        "# and the mean tuition off all observations calculated earlier.\n",
        "# Display the difference\n",
        "difference_mean_20 = mean_20 - mean\n",
        "difference_mean_20"
      ],
      "execution_count": 18,
      "outputs": [
        {
          "output_type": "execute_result",
          "data": {
            "text/plain": [
              "-2459.95853381752"
            ]
          },
          "metadata": {
            "tags": []
          },
          "execution_count": 18
        }
      ]
    },
    {
      "cell_type": "code",
      "metadata": {
        "id": "V7xgI6GU6oKH",
        "outputId": "f040e027-3a47-4352-bf08-f9edd889e32a",
        "colab": {
          "base_uri": "https://localhost:8080/"
        }
      },
      "source": [
        "# 16 - Repeat 13 to 15 several times and get the feel of the size of the difference in means \n",
        "# Compare these differences with the differences calculated earlier with just 1 observation\n",
        "# Describe your hunch/conclusion\n",
        "difference_mean_list = []\n",
        "for i in range(10):\n",
        "  difference_mean_20 = (np.mean((df['TUITIONFEE_IN'].sample(20)))) - mean\n",
        "  difference_mean_list.append(difference_mean_20)\n",
        "difference_mean_list"
      ],
      "execution_count": 19,
      "outputs": [
        {
          "output_type": "execute_result",
          "data": {
            "text/plain": [
              "[6292.341466182479,\n",
              " 1088.7914661824798,\n",
              " 2476.4914661824805,\n",
              " 838.9414661824794,\n",
              " -572.158533817521,\n",
              " -363.40853381752095,\n",
              " 4762.04146618248,\n",
              " 5498.341466182479,\n",
              " -3315.95853381752,\n",
              " 6146.04146618248]"
            ]
          },
          "metadata": {
            "tags": []
          },
          "execution_count": 19
        }
      ]
    },
    {
      "cell_type": "markdown",
      "metadata": {
        "id": "Tm-7Pz19nUp-"
      },
      "source": [
        "### - from these observations it appears that the difference in means calculated with a sample size of 20 tends to be closer to the mean of the total population compared to the difference between just one value and the total mean. "
      ]
    },
    {
      "cell_type": "markdown",
      "metadata": {
        "id": "0i4lLySc6oKK"
      },
      "source": [
        "Write a function that take two input parameters:\n",
        "- x (number of observations) \n",
        "- y (the name of the dataframe). \n",
        "\n",
        "The function will perform the following: \n",
        "- Randomly select x observations from y\n",
        "- Calculate the mean of these x observations \n",
        "- Calculate the mean of all observations\n",
        "- Calculate the difference between the two means \n",
        "- Return the difference"
      ]
    },
    {
      "cell_type": "code",
      "metadata": {
        "id": "ZblkuSq46oKL"
      },
      "source": [
        "# 17 - write function Code here\n",
        "def mean_op(x,y):\n",
        "    sample_mean = np.mean((y.sample(20)))\n",
        "    total_mean = np.mean(df['TUITIONFEE_IN'])\n",
        "    diff_mean = total_mean - sample_mean\n",
        "    return diff_mean"
      ],
      "execution_count": 21,
      "outputs": []
    },
    {
      "cell_type": "code",
      "metadata": {
        "id": "rCtsaGCy6oKN",
        "outputId": "70648c13-504a-4591-bd03-2762fac07e7f",
        "colab": {
          "base_uri": "https://localhost:8080/"
        }
      },
      "source": [
        "# 18 - test the function by passing a sample size and the name of the dataframe\n",
        "# Dsplay the return of the function\n",
        "mean_op(20,df['TUITIONFEE_IN'])"
      ],
      "execution_count": 22,
      "outputs": [
        {
          "output_type": "execute_result",
          "data": {
            "text/plain": [
              "1196.3085338175206"
            ]
          },
          "metadata": {
            "tags": []
          },
          "execution_count": 22
        }
      ]
    },
    {
      "cell_type": "code",
      "metadata": {
        "id": "0I58wyGH6oKP",
        "outputId": "6ed636e5-ee8b-44fc-c9ba-8ed0815a537e",
        "colab": {
          "base_uri": "https://localhost:8080/"
        }
      },
      "source": [
        "# 19 - Create a list of sequence numbers from 1 to 50, name it \"sample_sizes\";\n",
        "# display it to make sure its members are from 1 to 50\n",
        "sample_size = []\n",
        "for i in range(1,51):\n",
        "    sample_size.append(i)\n",
        "sample_size"
      ],
      "execution_count": 23,
      "outputs": [
        {
          "output_type": "execute_result",
          "data": {
            "text/plain": [
              "[1,\n",
              " 2,\n",
              " 3,\n",
              " 4,\n",
              " 5,\n",
              " 6,\n",
              " 7,\n",
              " 8,\n",
              " 9,\n",
              " 10,\n",
              " 11,\n",
              " 12,\n",
              " 13,\n",
              " 14,\n",
              " 15,\n",
              " 16,\n",
              " 17,\n",
              " 18,\n",
              " 19,\n",
              " 20,\n",
              " 21,\n",
              " 22,\n",
              " 23,\n",
              " 24,\n",
              " 25,\n",
              " 26,\n",
              " 27,\n",
              " 28,\n",
              " 29,\n",
              " 30,\n",
              " 31,\n",
              " 32,\n",
              " 33,\n",
              " 34,\n",
              " 35,\n",
              " 36,\n",
              " 37,\n",
              " 38,\n",
              " 39,\n",
              " 40,\n",
              " 41,\n",
              " 42,\n",
              " 43,\n",
              " 44,\n",
              " 45,\n",
              " 46,\n",
              " 47,\n",
              " 48,\n",
              " 49,\n",
              " 50]"
            ]
          },
          "metadata": {
            "tags": []
          },
          "execution_count": 23
        }
      ]
    },
    {
      "cell_type": "code",
      "metadata": {
        "id": "sBWwbejh6oKR",
        "outputId": "fa07992a-9fe8-420f-fffe-607eddb4733e",
        "colab": {
          "base_uri": "https://localhost:8080/"
        }
      },
      "source": [
        "# 20 - Create an empty list and name it \"means_diff\" for differences of population mean and sample means;\n",
        "# Loop through the list sample_sizes:\n",
        "# For each element in the sample size list, obtain a random sample of that size from the data frame;\n",
        "# Calculate the sample mean \n",
        "# Calculate the difference between the population mean and the sample mean\n",
        "# Append the difference to the list \"means_diff\"\n",
        "# Display the list \"means_diff\" after the loop is completed\n",
        "\n",
        "means_diff = []\n",
        "for i in sample_size:\n",
        "    sample1 = np.mean((df['TUITIONFEE_IN'].sample(i)))\n",
        "    pop_mean = np.mean(df['TUITIONFEE_IN'])\n",
        "    diff_means = pop_mean - sample1\n",
        "    means_diff.append(diff_means)\n",
        "print(means_diff)\n"
      ],
      "execution_count": 24,
      "outputs": [
        {
          "output_type": "stream",
          "text": [
            "[10401.408533817521, 578.408533817521, 10527.408533817521, 5854.658533817521, 2225.20853381752, 5597.908533817521, -3519.1628947539066, -749.091466182479, 5268.186311595298, -1103.4914661824787, -3995.318738909751, -1509.258132849145, -8647.206850797862, 999.9799623889503, -1615.924799515813, 615.596033817521, -4672.767936770713, -1129.4803550713677, -1205.1704135509008, -3353.1414661824783, 1133.7894861984732, -1878.136920727933, -1151.591466182479, 343.9918671508549, -1486.4714661824783, -1510.3222354132486, -1951.5173921084042, 2950.301390960378, 824.5464648520028, -1366.924799515813, -1310.946304892157, 1959.002283817521, 450.37823078721703, -6147.8855838295385, -2478.1628947539066, 1333.8807560397436, -528.6995742905874, -1067.5125188140573, -457.12992772094003, -1938.8914661824783, 807.408533817521, -1956.6628947539084, -590.4054196708512, -537.6369207279331, 1088.7863115952987, 387.038968600129, -770.6552959697128, 1627.846033817521, -530.1220784273773, 907.5085338175213]\n"
          ],
          "name": "stdout"
        }
      ]
    },
    {
      "cell_type": "code",
      "metadata": {
        "id": "CZxUYK6b6oKU",
        "outputId": "45ec85ee-5916-4205-e75d-724ac96fff28",
        "colab": {
          "base_uri": "https://localhost:8080/",
          "height": 567
        }
      },
      "source": [
        "# 21 - Make a scatter plot with sample size on the x-axs and  mean difference on the y-axis\n",
        "# Observe as the sample size increases, the sample means converge to the population mean.\n",
        "# Make sure you make the plot large enough \n",
        "sns.set_style('ticks')\n",
        "fig, ax = plt.subplots()\n",
        "fig.set_size_inches(10, 8)\n",
        "sns.regplot(sample_size, means_diff, ax=ax)\n",
        "sns.despine()\n",
        "plt.xlabel(\"Sample Size\")\n",
        "plt.ylabel(\"Mean Differences\")\n",
        "plt.title(\"Difference in Means With Sample Size 1-50\")\n",
        "plt.show()"
      ],
      "execution_count": 25,
      "outputs": [
        {
          "output_type": "stream",
          "text": [
            "/usr/local/lib/python3.6/dist-packages/seaborn/_decorators.py:43: FutureWarning: Pass the following variables as keyword args: x, y. From version 0.12, the only valid positional argument will be `data`, and passing other arguments without an explicit keyword will result in an error or misinterpretation.\n",
            "  FutureWarning\n"
          ],
          "name": "stderr"
        },
        {
          "output_type": "display_data",
          "data": {
            "image/png": "[encoded data removed]",
            "text/plain": [
              "<Figure size 720x576 with 1 Axes>"
            ]
          },
          "metadata": {
            "tags": []
          }
        }
      ]
    },
    {
      "cell_type": "code",
      "metadata": {
        "id": "tD8z_VyB6oKW",
        "outputId": "ee227fa1-b1db-45f5-8f6f-90e5b4c50c18",
        "colab": {
          "base_uri": "https://localhost:8080/"
        }
      },
      "source": [
        "# 22 - repeat 18 to 21 by replacing 50 with a larger number. For example, 300, or even 1000.\n",
        "# and see how the plot looks.\n",
        "sample_size2 = []\n",
        "for i in range(1,501):\n",
        "    sample_size2.append(i)\n",
        "sample_size2"
      ],
      "execution_count": 26,
      "outputs": [
        {
          "output_type": "execute_result",
          "data": {
            "text/plain": [
              "[1,\n",
              " 2,\n",
              " 3,\n",
              " 4,\n",
              " 5,\n",
              " 6,\n",
              " 7,\n",
              " 8,\n",
              " 9,\n",
              " 10,\n",
              " 11,\n",
              " 12,\n",
              " 13,\n",
              " 14,\n",
              " 15,\n",
              " 16,\n",
              " 17,\n",
              " 18,\n",
              " 19,\n",
              " 20,\n",
              " 21,\n",
              " 22,\n",
              " 23,\n",
              " 24,\n",
              " 25,\n",
              " 26,\n",
              " 27,\n",
              " 28,\n",
              " 29,\n",
              " 30,\n",
              " 31,\n",
              " 32,\n",
              " 33,\n",
              " 34,\n",
              " 35,\n",
              " 36,\n",
              " 37,\n",
              " 38,\n",
              " 39,\n",
              " 40,\n",
              " 41,\n",
              " 42,\n",
              " 43,\n",
              " 44,\n",
              " 45,\n",
              " 46,\n",
              " 47,\n",
              " 48,\n",
              " 49,\n",
              " 50,\n",
              " 51,\n",
              " 52,\n",
              " 53,\n",
              " 54,\n",
              " 55,\n",
              " 56,\n",
              " 57,\n",
              " 58,\n",
              " 59,\n",
              " 60,\n",
              " 61,\n",
              " 62,\n",
              " 63,\n",
              " 64,\n",
              " 65,\n",
              " 66,\n",
              " 67,\n",
              " 68,\n",
              " 69,\n",
              " 70,\n",
              " 71,\n",
              " 72,\n",
              " 73,\n",
              " 74,\n",
              " 75,\n",
              " 76,\n",
              " 77,\n",
              " 78,\n",
              " 79,\n",
              " 80,\n",
              " 81,\n",
              " 82,\n",
              " 83,\n",
              " 84,\n",
              " 85,\n",
              " 86,\n",
              " 87,\n",
              " 88,\n",
              " 89,\n",
              " 90,\n",
              " 91,\n",
              " 92,\n",
              " 93,\n",
              " 94,\n",
              " 95,\n",
              " 96,\n",
              " 97,\n",
              " 98,\n",
              " 99,\n",
              " 100,\n",
              " 101,\n",
              " 102,\n",
              " 103,\n",
              " 104,\n",
              " 105,\n",
              " 106,\n",
              " 107,\n",
              " 108,\n",
              " 109,\n",
              " 110,\n",
              " 111,\n",
              " 112,\n",
              " 113,\n",
              " 114,\n",
              " 115,\n",
              " 116,\n",
              " 117,\n",
              " 118,\n",
              " 119,\n",
              " 120,\n",
              " 121,\n",
              " 122,\n",
              " 123,\n",
              " 124,\n",
              " 125,\n",
              " 126,\n",
              " 127,\n",
              " 128,\n",
              " 129,\n",
              " 130,\n",
              " 131,\n",
              " 132,\n",
              " 133,\n",
              " 134,\n",
              " 135,\n",
              " 136,\n",
              " 137,\n",
              " 138,\n",
              " 139,\n",
              " 140,\n",
              " 141,\n",
              " 142,\n",
              " 143,\n",
              " 144,\n",
              " 145,\n",
              " 146,\n",
              " 147,\n",
              " 148,\n",
              " 149,\n",
              " 150,\n",
              " 151,\n",
              " 152,\n",
              " 153,\n",
              " 154,\n",
              " 155,\n",
              " 156,\n",
              " 157,\n",
              " 158,\n",
              " 159,\n",
              " 160,\n",
              " 161,\n",
              " 162,\n",
              " 163,\n",
              " 164,\n",
              " 165,\n",
              " 166,\n",
              " 167,\n",
              " 168,\n",
              " 169,\n",
              " 170,\n",
              " 171,\n",
              " 172,\n",
              " 173,\n",
              " 174,\n",
              " 175,\n",
              " 176,\n",
              " 177,\n",
              " 178,\n",
              " 179,\n",
              " 180,\n",
              " 181,\n",
              " 182,\n",
              " 183,\n",
              " 184,\n",
              " 185,\n",
              " 186,\n",
              " 187,\n",
              " 188,\n",
              " 189,\n",
              " 190,\n",
              " 191,\n",
              " 192,\n",
              " 193,\n",
              " 194,\n",
              " 195,\n",
              " 196,\n",
              " 197,\n",
              " 198,\n",
              " 199,\n",
              " 200,\n",
              " 201,\n",
              " 202,\n",
              " 203,\n",
              " 204,\n",
              " 205,\n",
              " 206,\n",
              " 207,\n",
              " 208,\n",
              " 209,\n",
              " 210,\n",
              " 211,\n",
              " 212,\n",
              " 213,\n",
              " 214,\n",
              " 215,\n",
              " 216,\n",
              " 217,\n",
              " 218,\n",
              " 219,\n",
              " 220,\n",
              " 221,\n",
              " 222,\n",
              " 223,\n",
              " 224,\n",
              " 225,\n",
              " 226,\n",
              " 227,\n",
              " 228,\n",
              " 229,\n",
              " 230,\n",
              " 231,\n",
              " 232,\n",
              " 233,\n",
              " 234,\n",
              " 235,\n",
              " 236,\n",
              " 237,\n",
              " 238,\n",
              " 239,\n",
              " 240,\n",
              " 241,\n",
              " 242,\n",
              " 243,\n",
              " 244,\n",
              " 245,\n",
              " 246,\n",
              " 247,\n",
              " 248,\n",
              " 249,\n",
              " 250,\n",
              " 251,\n",
              " 252,\n",
              " 253,\n",
              " 254,\n",
              " 255,\n",
              " 256,\n",
              " 257,\n",
              " 258,\n",
              " 259,\n",
              " 260,\n",
              " 261,\n",
              " 262,\n",
              " 263,\n",
              " 264,\n",
              " 265,\n",
              " 266,\n",
              " 267,\n",
              " 268,\n",
              " 269,\n",
              " 270,\n",
              " 271,\n",
              " 272,\n",
              " 273,\n",
              " 274,\n",
              " 275,\n",
              " 276,\n",
              " 277,\n",
              " 278,\n",
              " 279,\n",
              " 280,\n",
              " 281,\n",
              " 282,\n",
              " 283,\n",
              " 284,\n",
              " 285,\n",
              " 286,\n",
              " 287,\n",
              " 288,\n",
              " 289,\n",
              " 290,\n",
              " 291,\n",
              " 292,\n",
              " 293,\n",
              " 294,\n",
              " 295,\n",
              " 296,\n",
              " 297,\n",
              " 298,\n",
              " 299,\n",
              " 300,\n",
              " 301,\n",
              " 302,\n",
              " 303,\n",
              " 304,\n",
              " 305,\n",
              " 306,\n",
              " 307,\n",
              " 308,\n",
              " 309,\n",
              " 310,\n",
              " 311,\n",
              " 312,\n",
              " 313,\n",
              " 314,\n",
              " 315,\n",
              " 316,\n",
              " 317,\n",
              " 318,\n",
              " 319,\n",
              " 320,\n",
              " 321,\n",
              " 322,\n",
              " 323,\n",
              " 324,\n",
              " 325,\n",
              " 326,\n",
              " 327,\n",
              " 328,\n",
              " 329,\n",
              " 330,\n",
              " 331,\n",
              " 332,\n",
              " 333,\n",
              " 334,\n",
              " 335,\n",
              " 336,\n",
              " 337,\n",
              " 338,\n",
              " 339,\n",
              " 340,\n",
              " 341,\n",
              " 342,\n",
              " 343,\n",
              " 344,\n",
              " 345,\n",
              " 346,\n",
              " 347,\n",
              " 348,\n",
              " 349,\n",
              " 350,\n",
              " 351,\n",
              " 352,\n",
              " 353,\n",
              " 354,\n",
              " 355,\n",
              " 356,\n",
              " 357,\n",
              " 358,\n",
              " 359,\n",
              " 360,\n",
              " 361,\n",
              " 362,\n",
              " 363,\n",
              " 364,\n",
              " 365,\n",
              " 366,\n",
              " 367,\n",
              " 368,\n",
              " 369,\n",
              " 370,\n",
              " 371,\n",
              " 372,\n",
              " 373,\n",
              " 374,\n",
              " 375,\n",
              " 376,\n",
              " 377,\n",
              " 378,\n",
              " 379,\n",
              " 380,\n",
              " 381,\n",
              " 382,\n",
              " 383,\n",
              " 384,\n",
              " 385,\n",
              " 386,\n",
              " 387,\n",
              " 388,\n",
              " 389,\n",
              " 390,\n",
              " 391,\n",
              " 392,\n",
              " 393,\n",
              " 394,\n",
              " 395,\n",
              " 396,\n",
              " 397,\n",
              " 398,\n",
              " 399,\n",
              " 400,\n",
              " 401,\n",
              " 402,\n",
              " 403,\n",
              " 404,\n",
              " 405,\n",
              " 406,\n",
              " 407,\n",
              " 408,\n",
              " 409,\n",
              " 410,\n",
              " 411,\n",
              " 412,\n",
              " 413,\n",
              " 414,\n",
              " 415,\n",
              " 416,\n",
              " 417,\n",
              " 418,\n",
              " 419,\n",
              " 420,\n",
              " 421,\n",
              " 422,\n",
              " 423,\n",
              " 424,\n",
              " 425,\n",
              " 426,\n",
              " 427,\n",
              " 428,\n",
              " 429,\n",
              " 430,\n",
              " 431,\n",
              " 432,\n",
              " 433,\n",
              " 434,\n",
              " 435,\n",
              " 436,\n",
              " 437,\n",
              " 438,\n",
              " 439,\n",
              " 440,\n",
              " 441,\n",
              " 442,\n",
              " 443,\n",
              " 444,\n",
              " 445,\n",
              " 446,\n",
              " 447,\n",
              " 448,\n",
              " 449,\n",
              " 450,\n",
              " 451,\n",
              " 452,\n",
              " 453,\n",
              " 454,\n",
              " 455,\n",
              " 456,\n",
              " 457,\n",
              " 458,\n",
              " 459,\n",
              " 460,\n",
              " 461,\n",
              " 462,\n",
              " 463,\n",
              " 464,\n",
              " 465,\n",
              " 466,\n",
              " 467,\n",
              " 468,\n",
              " 469,\n",
              " 470,\n",
              " 471,\n",
              " 472,\n",
              " 473,\n",
              " 474,\n",
              " 475,\n",
              " 476,\n",
              " 477,\n",
              " 478,\n",
              " 479,\n",
              " 480,\n",
              " 481,\n",
              " 482,\n",
              " 483,\n",
              " 484,\n",
              " 485,\n",
              " 486,\n",
              " 487,\n",
              " 488,\n",
              " 489,\n",
              " 490,\n",
              " 491,\n",
              " 492,\n",
              " 493,\n",
              " 494,\n",
              " 495,\n",
              " 496,\n",
              " 497,\n",
              " 498,\n",
              " 499,\n",
              " 500]"
            ]
          },
          "metadata": {
            "tags": []
          },
          "execution_count": 26
        }
      ]
    },
    {
      "cell_type": "code",
      "metadata": {
        "id": "Tr1RsTHJ0XhW",
        "outputId": "7849ab0a-d5e2-45b0-9454-d1f8d3f3d799",
        "colab": {
          "base_uri": "https://localhost:8080/"
        }
      },
      "source": [
        "# function to find difference in mean between the total population and 500 random samples\n",
        "means_diff1 = []\n",
        "for i in sample_size2:\n",
        "    sample1 = np.mean((df['TUITIONFEE_IN'].sample(i)))\n",
        "    pop_mean = np.mean(df['TUITIONFEE_IN'])\n",
        "    diff_means = pop_mean - sample1\n",
        "    means_diff1.append(diff_means)\n",
        "print(means_diff1)"
      ],
      "execution_count": 27,
      "outputs": [
        {
          "output_type": "stream",
          "text": [
            "[-12816.591466182479, 7937.408533817521, 2255.075200484187, 4586.158533817521, 2982.20853381752, -119.25813284914511, -4968.44860903962, -2654.216466182479, -4668.147021738034, -4021.4914661824805, 4119.408533817521, 4591.491867150855, 223.87007227905997, 3271.3371052460916, 4888.408533817521, 512.283533817521, 7101.7026514645795, 3034.575200484187, -702.9072556561641, -281.6414661824783, -1400.8295614205745, 519.590351999339, 2121.886794687087, 529.2418671508549, 1554.6085338175217, 775.0239184329057, 518.5937190027053, 1587.1228195318072, 2630.33956830028, -1887.758132849145, -85.78501456957565, 2942.564783817521, -5795.015708606723, -682.3267603001259, 1364.9513909603775, -1071.341466182479, 1288.6247500337377, -3433.801992498269, -2452.591466182479, -1076.8664661824787, -295.1280515483322, 1480.6942481032347, 1908.7341152128702, -1663.727829818843, 2047.5196449286323, 890.430272947955, 467.5787465834783, 695.137700484187, 494.32690116445883, 5.70853381752022, 874.330102444972, -1751.053004644018, 1460.6538168363895, -2746.8692439602564, -214.71873890975257, -732.3950376110497, -250.24058898949625, 574.6499131278651, 1091.6966694107414, -1505.6914661824794, 1319.3921403748973, -865.5269500534469, -455.9406725316858, 165.23665881752095, -3688.960696951708, -1747.091466182479, 644.1995785936397, 1036.8938279351678, -71.8668285013191, -51.13432332533557, -34.07033942191629, 1125.991867150855, -82.74215111398553, 689.6652905742776, 254.92853381752138, 1338.224323291206, -315.6693882604013, -362.5145431055553, -2888.2117193470367, -3418.79146618248, -2919.640848898529, -67.70122228004038, -1096.711948110189, -802.3890852300974, 333.40853381752095, -575.7193731592233, -493.637443193973, -1211.2505570915691, 278.16134280628467, 384.39742270641, 799.0239184329057, 765.571577295781, 1164.5268133874142, -672.5063597994995, -749.6862030245848, 270.668950484187, -1235.0656929866036, 1250.8473093277244, -73.0056075966204, -781.9414661824794, -860.6013671725777, 1400.4771612685017, -861.6594273475275, -1366.4087738747876, 818.0656766746633, -201.32731523908296, 270.6889076492971, 375.59371900270526, -128.28871388890184, 178.453988362975, -521.654529245543, -1145.2253947539084, -1599.8215546780539, -96.37216793686457, 2852.2694033827374, 739.8654303692456, 803.9469953559819, 649.9593812751482, 206.8371052460916, 640.9418671508538, 1669.2515090241322, -1495.7062202808393, 528.5060947931306, 548.5053080110702, 360.36053381752026, -674.9089264999402, -1154.339497678542, -64.31021618247905, -910.35115610496, 328.91622612521314, -1394.0647486252274, -244.97782981884302, -1883.2305639268397, -472.8601228988973, 732.7566819656695, 343.19529852340384, -374.08781654744234, -756.9392922694351, -495.51232949183213, 506.4013909603782, -54.41416121793918, -1160.3449873092395, 0.9679743769611378, 551.1863115952983, -1058.901811010066, -946.8243428948081, 128.95955422568477, 364.09096624995254, 1140.6232989181917, -512.4381328491454, -619.9490820765186, -292.275676708794, 487.1209521181754, -931.9291285201416, 927.4020822046168, -346.36069695170954, 447.9626739449086, 421.927521159294, 1265.2324331885902, 1013.8085338175206, 1175.8867946870869, 149.24803999035976, 602.7459571304043, -1253.591466182479, 1306.8691398781266, -983.8745987126003, -687.2321847453532, 1454.890676674664, 139.08900719030134, -683.7797014765965, 918.4962531157671, -687.4170475778283, 263.5067997134738, -156.5282477916753, 119.1799623889492, 1418.777851999339, 37.27294059718224, 1416.8972978624643, 557.1850701303701, -728.4636884047013, 1140.712401220835, 120.43051183949865, 622.189954582549, 364.038968600129, 400.79772300670993, 821.1612219895633, -201.99253570119618, -491.2776363952453, 1767.6095920185799, -409.05462407721643, 1463.115340100243, 64.65332548418701, 1102.5743369263291, -1243.5296105123762, 1156.623918432906, -264.50983352941694, -890.9467961317168, -140.75308234409567, -868.2296571372535, 331.3885338175205, 191.42843431503388, -450.53701073693446, 68.01444514756986, 511.97716126850173, 639.4036557687396, 764.8988250796574, 911.408533817521, -1910.4472354132486, 432.71475391321474, -653.4771804681932, -491.9943097843752, 1423.8519300439366, -39.643109374967025, -1169.8998773974326, -137.45658246154926, -217.5081328491451, 426.2380269050791, -836.0868790265158, 1021.2943785663792, -566.9187389097515, 487.2049139080191, -187.8121869032002, -60.68563658606581, -258.4575376110497, -108.01368840470059, 730.8731355874334, -601.1068846846811, 907.513796975416, -1405.0587150907759, -1040.9479879216087, -169.88150947252325, 637.2016372657963, -317.16657347861656, 376.9940039029916, -536.3701895867343, 492.3534490717575, 634.7207701044408, -157.70911324130248, 721.0487011815385, -95.88729951581263, -297.1848271783292, -588.1162595709084, 214.97643505208907, 1380.8224682437503, 105.8820032052754, -960.9004092719097, -180.42142569664975, 554.2069209142956, -163.7601408812734, -806.0874661824782, 355.73921110835727, -501.6470217380338, 1628.511300615939, -922.3709937415333, -107.31303480992938, 500.61556506752095, -311.1089759101051, 1067.0480687012423, -642.6648252558389, 509.67007227905924, 880.5158135110069, -447.6601684725556, 35.93705092778691, 1395.393382302369, -1041.4141076919132, 152.60402253932625, 654.3074102220162, -723.7519139436736, 750.7728460851795, 56.68260789159467, 457.0948806809902, -1098.2385250060088, 764.4964459054336, -21.992926036493373, -336.4132843642965, 208.03172222331887, -1024.068000478508, -560.8864302112561, -535.4086704835536, -707.9271804681939, 297.17721709154284, 463.60002317922226, -687.8600174192288, 1487.7113507189297, -808.9388346035321, -393.9551025461151, 106.16114705793916, 1513.4779782619662, 1186.8929628832648, -245.93629376868557, 517.8621420649433, -747.8620141276842, 10.19351675267535, 32.31329572228242, -211.3338390638346, -750.6049796959924, 718.1997796087671, -90.01428497442612, -119.0128708647535, -388.3081328491462, -113.04993794327675, 343.3058848108976, 233.77817078121734, 1712.5499811859427, 193.2872223421109, 498.9412135560833, -118.8129645538138, 381.7526896616764, 661.5606373773917, 757.1311144626816, 957.2606238496755, -123.96646618247905, 645.082655223272, -36.52777191496352, -32.75337094438328, 685.2313186276479, 76.37383350206437, -372.3147366227313, 487.2079068582734, -270.6820911824798, -254.99022007656095, -530.1380500334108, 208.31875053578733, 1042.9208794965325, 537.6362261252125, -2.2417729309454444, 368.7938549184382, 24.40548503703394, -577.7647184621146, -73.35510254611472, -142.8633695057415, 185.6645579139058, 437.73586114484897, 446.0612284282997, -145.09594379442024, 304.41448619847324, -145.30066499553504, 15.245811924029113, -1520.8274543830685, 280.29971028810905, 732.267771354178, 458.01379697541597, 153.9187378991537, -59.87925688015275, 453.2607077305638, 200.292926881104, -915.6865670470324, -786.2380179066167, 233.36841920434017, -198.4086090396213, 547.9583913673778, -222.17953436429707, -766.4044973439522, -182.99259612598144, -282.6055506895209, -616.672926856636, -279.5298415326197, 61.03702543763211, 272.079843009722, -860.4997995158119, 288.5664285543626, -651.6411899393843, -599.1396755488695, -404.6216859626984, -728.3366716619312, 429.5861294459355, -357.7086323950134, 512.615055556651, -1229.1578618464355, 343.9706959796822, 691.9314448687346, -568.5780253222638, -447.17591658462334, -16.33210789370969, -736.4101328491452, 325.6345976473076, 667.3581359395375, 762.0169994259868, -615.7999094542465, -407.5677819719531, 705.6762503529535, -88.50507874792493, 190.09782885668574, -231.487299515813, 795.1799623889492, -37.49561126019944, 687.0674485462023, -473.3105383474267, 160.79670862471903, 314.84186715085343, -645.8702385609959, 234.34475830731753, -354.33701325627044, -154.28435958349473, -298.68260542298594, 619.3984328074202, 851.4715061097122, 21.586925777319266, -291.38344613235313, -755.9314661824792, 280.8150176080453, 135.2319169020975, -402.95126767131296, -415.3290899448548, -765.2754167997628, 725.4159229800825, -478.7044882955015, -862.4027406922833, 266.9268712258345, 888.9865825980087, 942.52045595864, 79.10999012820139, 388.96543454391394, 875.365055556651, 1418.61335309463, -104.12992772094003, -612.6897875254053, 514.7338926691955, 1546.033832146877, -963.2271804681932, 594.840837855525, -21.363978030820363, -237.76167894843638, 237.606647025068, 638.730886758698, 220.2770784184595, -470.7835036532051, -797.2363259955637, 543.3152937242812, 38.08760358496329, -43.27592093885869, -692.2349847009973, 745.8080719237569, 390.97304994655315, -370.9753742284556, 77.47504757898969, -602.5640062282455, 579.0112735435487, 156.59532197241788, -189.83692072793383, 444.5151097812395, 86.35197273154881, 1589.950294539869, -354.2693941104062, -38.946522362253745, -45.530928065887565, -434.47513508628253, 510.26790881752095, 341.8561952874534, 73.43297826196613, -215.07705376562808, -25.63350158070898, -757.6223712597421, 921.428357606068, -138.79146618247978, -277.81953635791797, -440.9481401430912, -666.1678853964531, -408.39756640034466, 516.3150555566517, 732.1981216700151, -832.4789120699243, -457.58930635526485, -799.9298282514446, 957.2042327422514, -136.54640180479691, 670.5755573721253, -80.02095336196544, 657.9522438388431, 123.01066147709571, 604.3873023950164, -124.55756787739483, -388.51112791609376, 321.8241456318665, -856.0883082877426, 276.3749203721436, 45.672684760917036, -660.7358176469133, 890.7008093916338, -303.1602161824794, -116.12992772094003, -322.56864460571524, -536.5127912342396, 559.8568809249591, 341.3714204154585, 159.18219636896174, -1046.3368460592756, -64.51154814969232, 415.7848119361297, -143.6628947539084, -186.554806304679, -526.3597588654065, 568.1225297607252, 397.46116539646755, -451.2601530511656, 332.79966284977854, 274.55541510524745, -63.07540192545093, -235.97222770552435, 664.8645338175211]\n"
          ],
          "name": "stdout"
        }
      ]
    },
    {
      "cell_type": "code",
      "metadata": {
        "id": "5NqoL95bzhqr",
        "outputId": "95f6dc10-9215-46a5-9c6d-880e4011526b",
        "colab": {
          "base_uri": "https://localhost:8080/",
          "height": 567
        }
      },
      "source": [
        "sns.set_style('ticks')\n",
        "fig, ax = plt.subplots()\n",
        "fig.set_size_inches(10, 8)\n",
        "sns.regplot(sample_size2, means_diff1, ax=ax)\n",
        "sns.despine()\n",
        "plt.xlabel(\"Sample Size\")\n",
        "plt.ylabel(\"Mean Differences\")\n",
        "plt.title(\"Difference in Means With Sample Size 1-500\")\n",
        "plt.show()"
      ],
      "execution_count": 28,
      "outputs": [
        {
          "output_type": "stream",
          "text": [
            "/usr/local/lib/python3.6/dist-packages/seaborn/_decorators.py:43: FutureWarning: Pass the following variables as keyword args: x, y. From version 0.12, the only valid positional argument will be `data`, and passing other arguments without an explicit keyword will result in an error or misinterpretation.\n",
            "  FutureWarning\n"
          ],
          "name": "stderr"
        },
        {
          "output_type": "display_data",
          "data": {
            "image/png": "[encoded data removed]",
            "text/plain": [
              "<Figure size 720x576 with 1 Axes>"
            ]
          },
          "metadata": {
            "tags": []
          }
        }
      ]
    },
    {
      "cell_type": "code",
      "metadata": {
        "id": "MjqbewGC6oKZ"
      },
      "source": [
        "# The end - Give yourself a pat on the back!"
      ],
      "execution_count": null,
      "outputs": []
    }
  ]
}