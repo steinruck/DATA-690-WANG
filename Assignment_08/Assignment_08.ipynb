{
  "nbformat": 4,
  "nbformat_minor": 0,
  "metadata": {
    "kernelspec": {
      "display_name": "Python 3",
      "language": "python",
      "name": "python3"
    },
    "language_info": {
      "codemirror_mode": {
        "name": "ipython",
        "version": 3
      },
      "file_extension": ".py",
      "mimetype": "text/x-python",
      "name": "python",
      "nbconvert_exporter": "python",
      "pygments_lexer": "ipython3",
      "version": "3.7.4"
    },
    "colab": {
      "name": "Assignment-08",
      "provenance": [],
      "toc_visible": true,
      "include_colab_link": true
    }
  },
  "cells": [
    {
      "cell_type": "markdown",
      "metadata": {
        "id": "view-in-github",
        "colab_type": "text"
      },
      "source": [
        "<a href=\"https://colab.research.google.com/github/steinruck/WANG-690-FALL-2020/blob/master/Assignment_08/Assignment_08.ipynb\" target=\"_parent\"><img src=\"https://colab.research.google.com/assets/colab-badge.svg\" alt=\"Open In Colab\"/></a>"
      ]
    },
    {
      "cell_type": "code",
      "metadata": {
        "id": "HpZckaJR6oI8"
      },
      "source": [
        "# 1 - Import necessary libraries\n",
        "import pandas as pd\n",
        "import seaborn as sns\n",
        "import glob\n",
        "import random\n",
        "import numpy as np\n",
        "import matplotlib.pyplot as plt"
      ],
      "execution_count": 128,
      "outputs": []
    },
    {
      "cell_type": "code",
      "metadata": {
        "id": "6qafjqpb6oJC",
        "outputId": "e86ddedd-646d-4a29-ceaf-e985bb402963",
        "colab": {
          "base_uri": "https://localhost:8080/"
        }
      },
      "source": [
        "# 2 - Retrieve the names of the 22 files and assign them to a List variable\n",
        "# You would need to filter out other files\n",
        "# Display the names of these 22 files\n",
        "\n",
        "# unzip CollegeScorecard_Raw_Data\n",
        "!unzip /content/CollegeScorecard_Raw_Data.zip"
      ],
      "execution_count": 4,
      "outputs": [
        {
          "output_type": "stream",
          "text": [
            "Archive:  /content/CollegeScorecard_Raw_Data.zip\n",
            "   creating: CollegeScorecard_Raw_Data/\n",
            "  inflating: CollegeScorecard_Raw_Data/MERGED2011_12_PP.csv  \n",
            "  inflating: CollegeScorecard_Raw_Data/MERGED1999_00_PP.csv  \n",
            "  inflating: CollegeScorecard_Raw_Data/MERGED2006_07_PP.csv  \n",
            "  inflating: CollegeScorecard_Raw_Data/MERGED2014_15_PP.csv  \n",
            "  inflating: CollegeScorecard_Raw_Data/.DS_Store  \n",
            "  inflating: CollegeScorecard_Raw_Data/MERGED2003_04_PP.csv  \n",
            "  inflating: CollegeScorecard_Raw_Data/MERGED1996_97_PP.csv  \n",
            "  inflating: CollegeScorecard_Raw_Data/FieldOfStudyData1516_1617_PP.csv  \n",
            "  inflating: CollegeScorecard_Raw_Data/MERGED2012_13_PP.csv  \n",
            "  inflating: CollegeScorecard_Raw_Data/MERGED2005_06_PP.csv  \n",
            "  inflating: CollegeScorecard_Raw_Data/MERGED2009_10_PP.csv  \n",
            "  inflating: CollegeScorecard_Raw_Data/MERGED2018_19_PP.csv  \n",
            "  inflating: CollegeScorecard_Raw_Data/MERGED2017_18_PP.csv  \n",
            "  inflating: CollegeScorecard_Raw_Data/Crosswalks.zip  \n",
            "  inflating: CollegeScorecard_Raw_Data/MERGED2000_01_PP.csv  \n",
            "  inflating: CollegeScorecard_Raw_Data/MERGED2001_02_PP.csv  \n",
            "  inflating: CollegeScorecard_Raw_Data/MERGED2016_17_PP.csv  \n",
            "  inflating: CollegeScorecard_Raw_Data/MERGED1997_98_PP.csv  \n",
            "  inflating: CollegeScorecard_Raw_Data/MERGED1998_99_PP.csv  \n",
            "  inflating: CollegeScorecard_Raw_Data/data.yaml  \n",
            "  inflating: CollegeScorecard_Raw_Data/MERGED2004_05_PP.csv  \n",
            "  inflating: CollegeScorecard_Raw_Data/MERGED2002_03_PP.csv  \n",
            "  inflating: CollegeScorecard_Raw_Data/MERGED2015_16_PP.csv  \n",
            "  inflating: CollegeScorecard_Raw_Data/MERGED2013_14_PP.csv  \n",
            "  inflating: CollegeScorecard_Raw_Data/MERGED2007_08_PP.csv  \n",
            "  inflating: CollegeScorecard_Raw_Data/MERGED2008_09_PP.csv  \n",
            "  inflating: CollegeScorecard_Raw_Data/MERGED2010_11_PP.csv  \n",
            "  inflating: CollegeScorecard_Raw_Data/FieldOfStudyData1415_1516_PP.csv  \n"
          ],
          "name": "stdout"
        }
      ]
    },
    {
      "cell_type": "code",
      "metadata": {
        "id": "-rf7ePUpEkAV"
      },
      "source": [
        "# Retrieve only useful files\n",
        "file_list = glob.glob('/content/CollegeScorecard_Raw_Data/MERGED*')"
      ],
      "execution_count": 7,
      "outputs": []
    },
    {
      "cell_type": "code",
      "metadata": {
        "id": "rimc9Lr9E1tP",
        "outputId": "2ab03cd5-b0af-4f39-c86a-c061d481dc76",
        "colab": {
          "base_uri": "https://localhost:8080/"
        }
      },
      "source": [
        "# Display 22 files\n",
        "file_list"
      ],
      "execution_count": 8,
      "outputs": [
        {
          "output_type": "execute_result",
          "data": {
            "text/plain": [
              "['/content/CollegeScorecard_Raw_Data/MERGED2015_16_PP.csv',\n",
              " '/content/CollegeScorecard_Raw_Data/MERGED2016_17_PP.csv',\n",
              " '/content/CollegeScorecard_Raw_Data/MERGED2001_02_PP.csv',\n",
              " '/content/CollegeScorecard_Raw_Data/MERGED2007_08_PP.csv',\n",
              " '/content/CollegeScorecard_Raw_Data/MERGED2012_13_PP.csv',\n",
              " '/content/CollegeScorecard_Raw_Data/MERGED2006_07_PP.csv',\n",
              " '/content/CollegeScorecard_Raw_Data/MERGED2011_12_PP.csv',\n",
              " '/content/CollegeScorecard_Raw_Data/MERGED2000_01_PP.csv',\n",
              " '/content/CollegeScorecard_Raw_Data/MERGED2005_06_PP.csv',\n",
              " '/content/CollegeScorecard_Raw_Data/MERGED2004_05_PP.csv',\n",
              " '/content/CollegeScorecard_Raw_Data/MERGED2002_03_PP.csv',\n",
              " '/content/CollegeScorecard_Raw_Data/MERGED2008_09_PP.csv',\n",
              " '/content/CollegeScorecard_Raw_Data/MERGED2014_15_PP.csv',\n",
              " '/content/CollegeScorecard_Raw_Data/MERGED2003_04_PP.csv',\n",
              " '/content/CollegeScorecard_Raw_Data/MERGED1997_98_PP.csv',\n",
              " '/content/CollegeScorecard_Raw_Data/MERGED2017_18_PP.csv',\n",
              " '/content/CollegeScorecard_Raw_Data/MERGED1998_99_PP.csv',\n",
              " '/content/CollegeScorecard_Raw_Data/MERGED1996_97_PP.csv',\n",
              " '/content/CollegeScorecard_Raw_Data/MERGED2013_14_PP.csv',\n",
              " '/content/CollegeScorecard_Raw_Data/MERGED2010_11_PP.csv',\n",
              " '/content/CollegeScorecard_Raw_Data/MERGED1999_00_PP.csv',\n",
              " '/content/CollegeScorecard_Raw_Data/MERGED2009_10_PP.csv',\n",
              " '/content/CollegeScorecard_Raw_Data/MERGED2018_19_PP.csv']"
            ]
          },
          "metadata": {
            "tags": []
          },
          "execution_count": 8
        }
      ]
    },
    {
      "cell_type": "code",
      "metadata": {
        "id": "ft9Rn1lp6oJG",
        "outputId": "c810f6df-e4ee-4a6a-aed5-49d5b6b81f1a",
        "colab": {
          "base_uri": "https://localhost:8080/",
          "height": 37
        }
      },
      "source": [
        "# 3 - Write code to randomly select one file name out of the 22 files names. \n",
        "# Hint: generate a random integer between 0 and 21 first\n",
        "# Display the file name\n",
        "random_int = random.randrange(0,21)\n",
        "year = file_list[random_int-1]\n",
        "year"
      ],
      "execution_count": 21,
      "outputs": [
        {
          "output_type": "execute_result",
          "data": {
            "application/vnd.google.colaboratory.intrinsic+json": {
              "type": "string"
            },
            "text/plain": [
              "'/content/CollegeScorecard_Raw_Data/MERGED2002_03_PP.csv'"
            ]
          },
          "metadata": {
            "tags": []
          },
          "execution_count": 21
        }
      ]
    },
    {
      "cell_type": "code",
      "metadata": {
        "id": "DJy1hmWM6oJN",
        "outputId": "3ffd3900-9358-41be-ec8d-3b56eed1bc23",
        "colab": {
          "base_uri": "https://localhost:8080/",
          "height": 258
        }
      },
      "source": [
        "# 4 - Only read the two columns: college name (INSTNM) and in state tution (\"TUITIONFEE_IN\")\n",
        "read_year = pd.read_csv(year)\n",
        "df = pd.DataFrame(read_year,columns=['INSTNM','TUITIONFEE_IN'])\n",
        "df.head()"
      ],
      "execution_count": 154,
      "outputs": [
        {
          "output_type": "stream",
          "text": [
            "/usr/local/lib/python3.6/dist-packages/IPython/core/interactiveshell.py:2718: DtypeWarning: Columns (1) have mixed types.Specify dtype option on import or set low_memory=False.\n",
            "  interactivity=interactivity, compiler=compiler, result=result)\n"
          ],
          "name": "stderr"
        },
        {
          "output_type": "execute_result",
          "data": {
            "text/html": [
              "<div>\n",
              "<style scoped>\n",
              "    .dataframe tbody tr th:only-of-type {\n",
              "        vertical-align: middle;\n",
              "    }\n",
              "\n",
              "    .dataframe tbody tr th {\n",
              "        vertical-align: top;\n",
              "    }\n",
              "\n",
              "    .dataframe thead th {\n",
              "        text-align: right;\n",
              "    }\n",
              "</style>\n",
              "<table border=\"1\" class=\"dataframe\">\n",
              "  <thead>\n",
              "    <tr style=\"text-align: right;\">\n",
              "      <th></th>\n",
              "      <th>INSTNM</th>\n",
              "      <th>TUITIONFEE_IN</th>\n",
              "    </tr>\n",
              "  </thead>\n",
              "  <tbody>\n",
              "    <tr>\n",
              "      <th>0</th>\n",
              "      <td>Community College of the Air Force</td>\n",
              "      <td>NaN</td>\n",
              "    </tr>\n",
              "    <tr>\n",
              "      <th>1</th>\n",
              "      <td>Alabama A &amp; M University</td>\n",
              "      <td>3040.0</td>\n",
              "    </tr>\n",
              "    <tr>\n",
              "      <th>2</th>\n",
              "      <td>University of Alabama at Birmingham</td>\n",
              "      <td>3880.0</td>\n",
              "    </tr>\n",
              "    <tr>\n",
              "      <th>3</th>\n",
              "      <td>Amridge University</td>\n",
              "      <td>8960.0</td>\n",
              "    </tr>\n",
              "    <tr>\n",
              "      <th>4</th>\n",
              "      <td>University of Alabama in Huntsville</td>\n",
              "      <td>3764.0</td>\n",
              "    </tr>\n",
              "  </tbody>\n",
              "</table>\n",
              "</div>"
            ],
            "text/plain": [
              "                                INSTNM  TUITIONFEE_IN\n",
              "0   Community College of the Air Force            NaN\n",
              "1             Alabama A & M University         3040.0\n",
              "2  University of Alabama at Birmingham         3880.0\n",
              "3                   Amridge University         8960.0\n",
              "4  University of Alabama in Huntsville         3764.0"
            ]
          },
          "metadata": {
            "tags": []
          },
          "execution_count": 154
        }
      ]
    },
    {
      "cell_type": "code",
      "metadata": {
        "id": "ppe-PcXfJNr8",
        "outputId": "fdfcec83-27f6-4394-d92e-77036a733231",
        "colab": {
          "base_uri": "https://localhost:8080/"
        }
      },
      "source": [
        "# from this file into a data frame aand display use info() function to display a summary information\n",
        "df.info()"
      ],
      "execution_count": 155,
      "outputs": [
        {
          "output_type": "stream",
          "text": [
            "<class 'pandas.core.frame.DataFrame'>\n",
            "RangeIndex: 6652 entries, 0 to 6651\n",
            "Data columns (total 2 columns):\n",
            " #   Column         Non-Null Count  Dtype  \n",
            "---  ------         --------------  -----  \n",
            " 0   INSTNM         6652 non-null   object \n",
            " 1   TUITIONFEE_IN  4049 non-null   float64\n",
            "dtypes: float64(1), object(1)\n",
            "memory usage: 104.1+ KB\n"
          ],
          "name": "stdout"
        }
      ]
    },
    {
      "cell_type": "code",
      "metadata": {
        "id": "wU5Ozu106oJR",
        "outputId": "34036f43-0357-48e3-f005-06a59f5e701d",
        "colab": {
          "base_uri": "https://localhost:8080/"
        }
      },
      "source": [
        "# 5 - Find out how many observations have missing value.\n",
        "df.isnull().sum()"
      ],
      "execution_count": 156,
      "outputs": [
        {
          "output_type": "execute_result",
          "data": {
            "text/plain": [
              "INSTNM              0\n",
              "TUITIONFEE_IN    2603\n",
              "dtype: int64"
            ]
          },
          "metadata": {
            "tags": []
          },
          "execution_count": 156
        }
      ]
    },
    {
      "cell_type": "code",
      "metadata": {
        "id": "V0MTbBwv6oJW",
        "outputId": "e3a557cc-6935-4950-aefc-e839e933f5cc",
        "colab": {
          "base_uri": "https://localhost:8080/"
        }
      },
      "source": [
        "# 6 - Drop those observations with missing value\n",
        "# Disaply the number of observations afterward\n",
        "df = df.dropna()\n",
        "df.info()"
      ],
      "execution_count": 157,
      "outputs": [
        {
          "output_type": "stream",
          "text": [
            "<class 'pandas.core.frame.DataFrame'>\n",
            "Int64Index: 4049 entries, 1 to 6650\n",
            "Data columns (total 2 columns):\n",
            " #   Column         Non-Null Count  Dtype  \n",
            "---  ------         --------------  -----  \n",
            " 0   INSTNM         4049 non-null   object \n",
            " 1   TUITIONFEE_IN  4049 non-null   float64\n",
            "dtypes: float64(1), object(1)\n",
            "memory usage: 94.9+ KB\n"
          ],
          "name": "stdout"
        }
      ]
    },
    {
      "cell_type": "code",
      "metadata": {
        "id": "A-pfpASe6oJb",
        "outputId": "d9e79dc8-7a20-4c99-9ea6-ca3330e8d06d",
        "colab": {
          "base_uri": "https://localhost:8080/"
        }
      },
      "source": [
        "# 7 - Find out how many observations have 0 tution. \n",
        "zero = df.loc[df['TUITIONFEE_IN'] == 0]\n",
        "zero.info()"
      ],
      "execution_count": 159,
      "outputs": [
        {
          "output_type": "stream",
          "text": [
            "<class 'pandas.core.frame.DataFrame'>\n",
            "Int64Index: 4 entries, 734 to 3087\n",
            "Data columns (total 2 columns):\n",
            " #   Column         Non-Null Count  Dtype  \n",
            "---  ------         --------------  -----  \n",
            " 0   INSTNM         4 non-null      object \n",
            " 1   TUITIONFEE_IN  4 non-null      float64\n",
            "dtypes: float64(1), object(1)\n",
            "memory usage: 96.0+ bytes\n"
          ],
          "name": "stdout"
        }
      ]
    },
    {
      "cell_type": "code",
      "metadata": {
        "id": "UUp2iUlM6oJk",
        "outputId": "3638d62e-a762-4d0d-cc21-83cb3cfeb8de",
        "colab": {
          "base_uri": "https://localhost:8080/"
        }
      },
      "source": [
        "# 8 - Drop those observations with 0 tuition\n",
        "# Disaply the number of observations afterward\n",
        "df = df[df.TUITIONFEE_IN != 0]\n",
        "df.info()"
      ],
      "execution_count": 161,
      "outputs": [
        {
          "output_type": "stream",
          "text": [
            "<class 'pandas.core.frame.DataFrame'>\n",
            "Int64Index: 4045 entries, 1 to 6650\n",
            "Data columns (total 2 columns):\n",
            " #   Column         Non-Null Count  Dtype  \n",
            "---  ------         --------------  -----  \n",
            " 0   INSTNM         4045 non-null   object \n",
            " 1   TUITIONFEE_IN  4045 non-null   float64\n",
            "dtypes: float64(1), object(1)\n",
            "memory usage: 94.8+ KB\n"
          ],
          "name": "stdout"
        }
      ]
    },
    {
      "cell_type": "code",
      "metadata": {
        "id": "vXjrc9Km6oJq",
        "outputId": "00c282ba-5746-436b-f604-25428d4fd105",
        "colab": {
          "base_uri": "https://localhost:8080/"
        }
      },
      "source": [
        "# 9 - Calculate and display the mean (average) of the tuitions of all the remaining observations \n",
        "mean = np.mean(df['TUITIONFEE_IN'])\n",
        "mean"
      ],
      "execution_count": 162,
      "outputs": [
        {
          "output_type": "execute_result",
          "data": {
            "text/plain": [
              "7857.799505562422"
            ]
          },
          "metadata": {
            "tags": []
          },
          "execution_count": 162
        }
      ]
    },
    {
      "cell_type": "code",
      "metadata": {
        "id": "Yyk1Kx456oJv",
        "outputId": "15477c48-f58a-4b47-d6de-6c8304684b48",
        "colab": {
          "base_uri": "https://localhost:8080/"
        }
      },
      "source": [
        "# 10 - Randomly select just 1 observation from the data frame.\n",
        "# Display the tuition of that observation. \n",
        "sample = df['TUITIONFEE_IN'].sample()\n",
        "sample"
      ],
      "execution_count": 164,
      "outputs": [
        {
          "output_type": "execute_result",
          "data": {
            "text/plain": [
              "3097    4300.0\n",
              "Name: TUITIONFEE_IN, dtype: float64"
            ]
          },
          "metadata": {
            "tags": []
          },
          "execution_count": 164
        }
      ]
    },
    {
      "cell_type": "code",
      "metadata": {
        "id": "2Jio5eDc6oJ0",
        "outputId": "160b35e6-7a3c-4d67-9652-cc65c44c7b45",
        "colab": {
          "base_uri": "https://localhost:8080/"
        }
      },
      "source": [
        "# 11 - Calculate the different between the tuition of this observation and \n",
        "# the mean tuition off all observations calculated earlier.\n",
        "# Display the difference\n",
        "difference = mean - sample\n",
        "difference\n"
      ],
      "execution_count": 53,
      "outputs": [
        {
          "output_type": "execute_result",
          "data": {
            "text/plain": [
              "3564    6248.799506\n",
              "Name: TUITIONFEE_IN, dtype: float64"
            ]
          },
          "metadata": {
            "tags": []
          },
          "execution_count": 53
        }
      ]
    },
    {
      "cell_type": "code",
      "metadata": {
        "id": "E7RIjD8E6oJ5",
        "outputId": "f1f9261d-9d33-413c-e095-407f5c10daba",
        "colab": {
          "base_uri": "https://localhost:8080/"
        }
      },
      "source": [
        "# 12 - Repeat 10 to 11 several times get the feel of the size of the difference in means\n",
        "difference_10 = (df['TUITIONFEE_IN'].sample(10)) - mean\n",
        "difference_10"
      ],
      "execution_count": 76,
      "outputs": [
        {
          "output_type": "execute_result",
          "data": {
            "text/plain": [
              "2749    -5268.799506\n",
              "1920     4940.200494\n",
              "1089    -6744.799506\n",
              "74      -4880.799506\n",
              "2336     9514.200494\n",
              "3907    19704.200494\n",
              "5502       -9.799506\n",
              "3236     6092.200494\n",
              "1694    -5937.799506\n",
              "1750    -6395.799506\n",
              "Name: TUITIONFEE_IN, dtype: float64"
            ]
          },
          "metadata": {
            "tags": []
          },
          "execution_count": 76
        }
      ]
    },
    {
      "cell_type": "code",
      "metadata": {
        "id": "X7P4DGbi6oJ-",
        "outputId": "9ab781f0-445b-4050-e1f4-cdbedfbe050e",
        "colab": {
          "base_uri": "https://localhost:8080/"
        }
      },
      "source": [
        "# 13 - Randomly select 20 observations, display the tuition of these observation. \n",
        "df_two = df['TUITIONFEE_IN'].sample(20)\n",
        "df_two"
      ],
      "execution_count": 165,
      "outputs": [
        {
          "output_type": "execute_result",
          "data": {
            "text/plain": [
              "146      1114.0\n",
              "2725     2184.0\n",
              "5875     6738.0\n",
              "2236    23772.0\n",
              "5143     1152.0\n",
              "3852    18744.0\n",
              "1363     7088.0\n",
              "2171     7429.0\n",
              "1458    17490.0\n",
              "4537     4780.0\n",
              "3200     7340.0\n",
              "4835     1245.0\n",
              "2383     9600.0\n",
              "2372     6910.0\n",
              "2045     8000.0\n",
              "2060    26702.0\n",
              "322       348.0\n",
              "1401     7770.0\n",
              "4001    16341.0\n",
              "1051     3936.0\n",
              "Name: TUITIONFEE_IN, dtype: float64"
            ]
          },
          "metadata": {
            "tags": []
          },
          "execution_count": 165
        }
      ]
    },
    {
      "cell_type": "code",
      "metadata": {
        "id": "2kvz1whj6oKA",
        "outputId": "f5857cf0-52d9-41fe-f36c-394b98e6859c",
        "colab": {
          "base_uri": "https://localhost:8080/"
        }
      },
      "source": [
        "# 14 - Calculate and displat the mean tuition of these 20 observations\n",
        "mean_20 = np.mean(df_two)\n",
        "mean_20"
      ],
      "execution_count": 166,
      "outputs": [
        {
          "output_type": "execute_result",
          "data": {
            "text/plain": [
              "8934.15"
            ]
          },
          "metadata": {
            "tags": []
          },
          "execution_count": 166
        }
      ]
    },
    {
      "cell_type": "code",
      "metadata": {
        "id": "7qZe_Xn-6oKE",
        "outputId": "a9051567-7453-408d-ef6a-d6696d4222a4",
        "colab": {
          "base_uri": "https://localhost:8080/"
        }
      },
      "source": [
        "# 15 - Calculate  the different between the average tuition of these 20 observations \n",
        "# and the mean tuition off all observations calculated earlier.\n",
        "# Display the difference\n",
        "difference_mean_20 = mean_20 - mean\n",
        "difference_mean_20\n"
      ],
      "execution_count": 167,
      "outputs": [
        {
          "output_type": "execute_result",
          "data": {
            "text/plain": [
              "1076.3504944375773"
            ]
          },
          "metadata": {
            "tags": []
          },
          "execution_count": 167
        }
      ]
    },
    {
      "cell_type": "code",
      "metadata": {
        "id": "V7xgI6GU6oKH",
        "outputId": "f9971339-d0c7-4bbb-c568-454515b6f50e",
        "colab": {
          "base_uri": "https://localhost:8080/"
        }
      },
      "source": [
        "# 16 - Repeat 13 to 15 several times and get the feel of the size of the difference in means \n",
        "# Compare these differences with the differences calculated earlier with just 1 observation\n",
        "# Describe your hunch/conclusion\n",
        "difference_mean_list = []\n",
        "for i in range(10):\n",
        "  difference_mean_20 = (np.mean((df['TUITIONFEE_IN'].sample(20)))) - mean\n",
        "  difference_mean_list.append(difference_mean_20)\n",
        "difference_mean_list"
      ],
      "execution_count": 169,
      "outputs": [
        {
          "output_type": "execute_result",
          "data": {
            "text/plain": [
              "[-608.5995055624226,\n",
              " 1461.300494437578,\n",
              " 721.8504944375773,\n",
              " 1417.2004944375776,\n",
              " -1300.199505562422,\n",
              " 847.8504944375773,\n",
              " -1111.9995055624222,\n",
              " 954.8504944375773,\n",
              " 1202.4004944375783,\n",
              " -1617.0995055624226]"
            ]
          },
          "metadata": {
            "tags": []
          },
          "execution_count": 169
        }
      ]
    },
    {
      "cell_type": "markdown",
      "metadata": {
        "id": "Tm-7Pz19nUp-"
      },
      "source": [
        "### - from these observations it appears that the difference in means calculated with a sample size of 20 tends to be closer to the mean of the whole list compared to the difference between just one value and the total mean. "
      ]
    },
    {
      "cell_type": "markdown",
      "metadata": {
        "id": "0i4lLySc6oKK"
      },
      "source": [
        "Write a function that take two input parameters:\n",
        "- x (number of observations) \n",
        "- y (the name of the dataframe). \n",
        "\n",
        "The function will perform the following: \n",
        "- Randomly select x observations from y\n",
        "- Calculate the mean of these x observations \n",
        "- Calculate the mean of all observations\n",
        "- Calculate the difference between the two means \n",
        "- Return the difference"
      ]
    },
    {
      "cell_type": "code",
      "metadata": {
        "id": "ZblkuSq46oKL"
      },
      "source": [
        "# 17 - write function Code here\n",
        "def mean_op(x,y):\n",
        "    sample_mean = np.mean((y.sample(20)))\n",
        "    total_mean = np.mean(df['TUITIONFEE_IN'])\n",
        "    diff_mean = total_mean - sample_mean\n",
        "    return diff_mean"
      ],
      "execution_count": 171,
      "outputs": []
    },
    {
      "cell_type": "code",
      "metadata": {
        "id": "rCtsaGCy6oKN",
        "outputId": "e7958804-0e5a-4279-fcfc-fa044b371cd1",
        "colab": {
          "base_uri": "https://localhost:8080/"
        }
      },
      "source": [
        "# 18 - test the function by passing a sample size and the name of the dataframe\n",
        "# Dsplay the return of the function\n",
        "mean_op(20,df['TUITIONFEE_IN'])"
      ],
      "execution_count": 172,
      "outputs": [
        {
          "output_type": "execute_result",
          "data": {
            "text/plain": [
              "-1411.250494437577"
            ]
          },
          "metadata": {
            "tags": []
          },
          "execution_count": 172
        }
      ]
    },
    {
      "cell_type": "code",
      "metadata": {
        "id": "0I58wyGH6oKP",
        "outputId": "b371f7ed-724d-490c-f882-3731b39c9980",
        "colab": {
          "base_uri": "https://localhost:8080/"
        }
      },
      "source": [
        "# 19 - Create a list of sequence numbers from 1 to 50, name it \"sample_sizes\";\n",
        "# display it to make sure its members are from 1 to 50\n",
        "sample_size = []\n",
        "for i in range(1,51):\n",
        "    sample_size.append(i)\n",
        "sample_size"
      ],
      "execution_count": 144,
      "outputs": [
        {
          "output_type": "execute_result",
          "data": {
            "text/plain": [
              "[1,\n",
              " 2,\n",
              " 3,\n",
              " 4,\n",
              " 5,\n",
              " 6,\n",
              " 7,\n",
              " 8,\n",
              " 9,\n",
              " 10,\n",
              " 11,\n",
              " 12,\n",
              " 13,\n",
              " 14,\n",
              " 15,\n",
              " 16,\n",
              " 17,\n",
              " 18,\n",
              " 19,\n",
              " 20,\n",
              " 21,\n",
              " 22,\n",
              " 23,\n",
              " 24,\n",
              " 25,\n",
              " 26,\n",
              " 27,\n",
              " 28,\n",
              " 29,\n",
              " 30,\n",
              " 31,\n",
              " 32,\n",
              " 33,\n",
              " 34,\n",
              " 35,\n",
              " 36,\n",
              " 37,\n",
              " 38,\n",
              " 39,\n",
              " 40,\n",
              " 41,\n",
              " 42,\n",
              " 43,\n",
              " 44,\n",
              " 45,\n",
              " 46,\n",
              " 47,\n",
              " 48,\n",
              " 49,\n",
              " 50]"
            ]
          },
          "metadata": {
            "tags": []
          },
          "execution_count": 144
        }
      ]
    },
    {
      "cell_type": "code",
      "metadata": {
        "id": "sBWwbejh6oKR",
        "outputId": "51703612-b300-483e-8d18-9bfb1fbca2e7",
        "colab": {
          "base_uri": "https://localhost:8080/"
        }
      },
      "source": [
        "# 20 - Create an empty list and name it \"means_diff\" for differences of population mean and sample means;\n",
        "# Loop through the list sample_sizes:\n",
        "# For each element in the sample size list, obtain a random sample of that size from the data frame;\n",
        "# Calculate the sample mean \n",
        "# Calculate the difference between the population mean and the sample mean\n",
        "# Append the difference to the list \"means_diff\"\n",
        "# Display the list \"means_diff\" after the loop is completed\n",
        "\n",
        "means_diff = []\n",
        "for i in sample_size:\n",
        "    sample1 = np.mean((df['TUITIONFEE_IN'].sample(i)))\n",
        "    pop_mean = np.mean(df['TUITIONFEE_IN'])\n",
        "    diff_means = pop_mean - sample1\n",
        "    means_diff.append(diff_means)\n",
        "print(means_diff)\n"
      ],
      "execution_count": 173,
      "outputs": [
        {
          "output_type": "stream",
          "text": [
            "[-1102.2004944375776, 6345.299505562422, -4176.200494437578, -546.7004944375776, 96.39950556242275, -857.3671611042437, 1005.7995055624224, -3034.4504944375776, -1862.978272215355, -1560.9004944375783, 1031.3449601078773, 1407.5495055624224, -769.2004944375776, -3426.5576372947207, 1571.3328388957561, -2006.9504944375776, 1776.2112702683044, -1166.311605548689, -2204.253126016524, 737.3995055624227, -1072.5338277709116, 59.75405101696742, -1442.7222335680117, 1653.0911722290894, -2933.2804944375775, -705.4312636683471, 559.5772833401998, 1571.2995055624224, 1732.5926090106987, -867.0004944375769, 1112.9607958850029, -1434.2942444375776, -465.9277671648497, -196.5828473787542, 1005.5423627052796, 180.60506111797804, 568.7724785353957, 522.4047687203174, -25.482545719629343, 194.59950556242256, -241.56634809611387, -2219.0338277709116, -372.34002932129897, 777.5495055624224, -1123.311605548689, -48.7222335680126, -435.15794124608783, -440.6796611042437, 844.7995055624224, -920.4604944375778]\n"
          ],
          "name": "stdout"
        }
      ]
    },
    {
      "cell_type": "code",
      "metadata": {
        "id": "CZxUYK6b6oKU",
        "outputId": "77a3c841-06a8-4393-b968-1c94a4d5667d",
        "colab": {
          "base_uri": "https://localhost:8080/",
          "height": 567
        }
      },
      "source": [
        "# 21 - Make a scatter plot with sample size on the x-axs and  mean difference on the y-axis\n",
        "# Observe as the sample size increases, the sample means converge to the population mean.\n",
        "# Make sure you make the plot large enough \n",
        "sns.set_style('ticks')\n",
        "fig, ax = plt.subplots()\n",
        "fig.set_size_inches(10, 8)\n",
        "sns.regplot(sample_size, means_diff, ax=ax)\n",
        "sns.despine()\n",
        "plt.xlabel(\"Sample Size\")\n",
        "plt.ylabel(\"Mean Differences\")\n",
        "plt.title(\"Difference in Means With Sample Size 1-50\")\n",
        "plt.show()"
      ],
      "execution_count": 174,
      "outputs": [
        {
          "output_type": "stream",
          "text": [
            "/usr/local/lib/python3.6/dist-packages/seaborn/_decorators.py:43: FutureWarning: Pass the following variables as keyword args: x, y. From version 0.12, the only valid positional argument will be `data`, and passing other arguments without an explicit keyword will result in an error or misinterpretation.\n",
            "  FutureWarning\n"
          ],
          "name": "stderr"
        },
        {
          "output_type": "display_data",
          "data": {
            "image/png": "[encoded data removed]",
            "text/plain": [
              "<Figure size 720x576 with 1 Axes>"
            ]
          },
          "metadata": {
            "tags": []
          }
        }
      ]
    },
    {
      "cell_type": "code",
      "metadata": {
        "id": "5NqoL95bzhqr",
        "outputId": "2e149994-fc1c-4f2b-c87a-6bbba119fdbf",
        "colab": {
          "base_uri": "https://localhost:8080/"
        }
      },
      "source": [
        "sample_size2 = []\n",
        "for i in range(1,501):\n",
        "    sample_size2.append(i)\n",
        "sample_size2"
      ],
      "execution_count": 175,
      "outputs": [
        {
          "output_type": "execute_result",
          "data": {
            "text/plain": [
              "[1,\n",
              " 2,\n",
              " 3,\n",
              " 4,\n",
              " 5,\n",
              " 6,\n",
              " 7,\n",
              " 8,\n",
              " 9,\n",
              " 10,\n",
              " 11,\n",
              " 12,\n",
              " 13,\n",
              " 14,\n",
              " 15,\n",
              " 16,\n",
              " 17,\n",
              " 18,\n",
              " 19,\n",
              " 20,\n",
              " 21,\n",
              " 22,\n",
              " 23,\n",
              " 24,\n",
              " 25,\n",
              " 26,\n",
              " 27,\n",
              " 28,\n",
              " 29,\n",
              " 30,\n",
              " 31,\n",
              " 32,\n",
              " 33,\n",
              " 34,\n",
              " 35,\n",
              " 36,\n",
              " 37,\n",
              " 38,\n",
              " 39,\n",
              " 40,\n",
              " 41,\n",
              " 42,\n",
              " 43,\n",
              " 44,\n",
              " 45,\n",
              " 46,\n",
              " 47,\n",
              " 48,\n",
              " 49,\n",
              " 50,\n",
              " 51,\n",
              " 52,\n",
              " 53,\n",
              " 54,\n",
              " 55,\n",
              " 56,\n",
              " 57,\n",
              " 58,\n",
              " 59,\n",
              " 60,\n",
              " 61,\n",
              " 62,\n",
              " 63,\n",
              " 64,\n",
              " 65,\n",
              " 66,\n",
              " 67,\n",
              " 68,\n",
              " 69,\n",
              " 70,\n",
              " 71,\n",
              " 72,\n",
              " 73,\n",
              " 74,\n",
              " 75,\n",
              " 76,\n",
              " 77,\n",
              " 78,\n",
              " 79,\n",
              " 80,\n",
              " 81,\n",
              " 82,\n",
              " 83,\n",
              " 84,\n",
              " 85,\n",
              " 86,\n",
              " 87,\n",
              " 88,\n",
              " 89,\n",
              " 90,\n",
              " 91,\n",
              " 92,\n",
              " 93,\n",
              " 94,\n",
              " 95,\n",
              " 96,\n",
              " 97,\n",
              " 98,\n",
              " 99,\n",
              " 100,\n",
              " 101,\n",
              " 102,\n",
              " 103,\n",
              " 104,\n",
              " 105,\n",
              " 106,\n",
              " 107,\n",
              " 108,\n",
              " 109,\n",
              " 110,\n",
              " 111,\n",
              " 112,\n",
              " 113,\n",
              " 114,\n",
              " 115,\n",
              " 116,\n",
              " 117,\n",
              " 118,\n",
              " 119,\n",
              " 120,\n",
              " 121,\n",
              " 122,\n",
              " 123,\n",
              " 124,\n",
              " 125,\n",
              " 126,\n",
              " 127,\n",
              " 128,\n",
              " 129,\n",
              " 130,\n",
              " 131,\n",
              " 132,\n",
              " 133,\n",
              " 134,\n",
              " 135,\n",
              " 136,\n",
              " 137,\n",
              " 138,\n",
              " 139,\n",
              " 140,\n",
              " 141,\n",
              " 142,\n",
              " 143,\n",
              " 144,\n",
              " 145,\n",
              " 146,\n",
              " 147,\n",
              " 148,\n",
              " 149,\n",
              " 150,\n",
              " 151,\n",
              " 152,\n",
              " 153,\n",
              " 154,\n",
              " 155,\n",
              " 156,\n",
              " 157,\n",
              " 158,\n",
              " 159,\n",
              " 160,\n",
              " 161,\n",
              " 162,\n",
              " 163,\n",
              " 164,\n",
              " 165,\n",
              " 166,\n",
              " 167,\n",
              " 168,\n",
              " 169,\n",
              " 170,\n",
              " 171,\n",
              " 172,\n",
              " 173,\n",
              " 174,\n",
              " 175,\n",
              " 176,\n",
              " 177,\n",
              " 178,\n",
              " 179,\n",
              " 180,\n",
              " 181,\n",
              " 182,\n",
              " 183,\n",
              " 184,\n",
              " 185,\n",
              " 186,\n",
              " 187,\n",
              " 188,\n",
              " 189,\n",
              " 190,\n",
              " 191,\n",
              " 192,\n",
              " 193,\n",
              " 194,\n",
              " 195,\n",
              " 196,\n",
              " 197,\n",
              " 198,\n",
              " 199,\n",
              " 200,\n",
              " 201,\n",
              " 202,\n",
              " 203,\n",
              " 204,\n",
              " 205,\n",
              " 206,\n",
              " 207,\n",
              " 208,\n",
              " 209,\n",
              " 210,\n",
              " 211,\n",
              " 212,\n",
              " 213,\n",
              " 214,\n",
              " 215,\n",
              " 216,\n",
              " 217,\n",
              " 218,\n",
              " 219,\n",
              " 220,\n",
              " 221,\n",
              " 222,\n",
              " 223,\n",
              " 224,\n",
              " 225,\n",
              " 226,\n",
              " 227,\n",
              " 228,\n",
              " 229,\n",
              " 230,\n",
              " 231,\n",
              " 232,\n",
              " 233,\n",
              " 234,\n",
              " 235,\n",
              " 236,\n",
              " 237,\n",
              " 238,\n",
              " 239,\n",
              " 240,\n",
              " 241,\n",
              " 242,\n",
              " 243,\n",
              " 244,\n",
              " 245,\n",
              " 246,\n",
              " 247,\n",
              " 248,\n",
              " 249,\n",
              " 250,\n",
              " 251,\n",
              " 252,\n",
              " 253,\n",
              " 254,\n",
              " 255,\n",
              " 256,\n",
              " 257,\n",
              " 258,\n",
              " 259,\n",
              " 260,\n",
              " 261,\n",
              " 262,\n",
              " 263,\n",
              " 264,\n",
              " 265,\n",
              " 266,\n",
              " 267,\n",
              " 268,\n",
              " 269,\n",
              " 270,\n",
              " 271,\n",
              " 272,\n",
              " 273,\n",
              " 274,\n",
              " 275,\n",
              " 276,\n",
              " 277,\n",
              " 278,\n",
              " 279,\n",
              " 280,\n",
              " 281,\n",
              " 282,\n",
              " 283,\n",
              " 284,\n",
              " 285,\n",
              " 286,\n",
              " 287,\n",
              " 288,\n",
              " 289,\n",
              " 290,\n",
              " 291,\n",
              " 292,\n",
              " 293,\n",
              " 294,\n",
              " 295,\n",
              " 296,\n",
              " 297,\n",
              " 298,\n",
              " 299,\n",
              " 300,\n",
              " 301,\n",
              " 302,\n",
              " 303,\n",
              " 304,\n",
              " 305,\n",
              " 306,\n",
              " 307,\n",
              " 308,\n",
              " 309,\n",
              " 310,\n",
              " 311,\n",
              " 312,\n",
              " 313,\n",
              " 314,\n",
              " 315,\n",
              " 316,\n",
              " 317,\n",
              " 318,\n",
              " 319,\n",
              " 320,\n",
              " 321,\n",
              " 322,\n",
              " 323,\n",
              " 324,\n",
              " 325,\n",
              " 326,\n",
              " 327,\n",
              " 328,\n",
              " 329,\n",
              " 330,\n",
              " 331,\n",
              " 332,\n",
              " 333,\n",
              " 334,\n",
              " 335,\n",
              " 336,\n",
              " 337,\n",
              " 338,\n",
              " 339,\n",
              " 340,\n",
              " 341,\n",
              " 342,\n",
              " 343,\n",
              " 344,\n",
              " 345,\n",
              " 346,\n",
              " 347,\n",
              " 348,\n",
              " 349,\n",
              " 350,\n",
              " 351,\n",
              " 352,\n",
              " 353,\n",
              " 354,\n",
              " 355,\n",
              " 356,\n",
              " 357,\n",
              " 358,\n",
              " 359,\n",
              " 360,\n",
              " 361,\n",
              " 362,\n",
              " 363,\n",
              " 364,\n",
              " 365,\n",
              " 366,\n",
              " 367,\n",
              " 368,\n",
              " 369,\n",
              " 370,\n",
              " 371,\n",
              " 372,\n",
              " 373,\n",
              " 374,\n",
              " 375,\n",
              " 376,\n",
              " 377,\n",
              " 378,\n",
              " 379,\n",
              " 380,\n",
              " 381,\n",
              " 382,\n",
              " 383,\n",
              " 384,\n",
              " 385,\n",
              " 386,\n",
              " 387,\n",
              " 388,\n",
              " 389,\n",
              " 390,\n",
              " 391,\n",
              " 392,\n",
              " 393,\n",
              " 394,\n",
              " 395,\n",
              " 396,\n",
              " 397,\n",
              " 398,\n",
              " 399,\n",
              " 400,\n",
              " 401,\n",
              " 402,\n",
              " 403,\n",
              " 404,\n",
              " 405,\n",
              " 406,\n",
              " 407,\n",
              " 408,\n",
              " 409,\n",
              " 410,\n",
              " 411,\n",
              " 412,\n",
              " 413,\n",
              " 414,\n",
              " 415,\n",
              " 416,\n",
              " 417,\n",
              " 418,\n",
              " 419,\n",
              " 420,\n",
              " 421,\n",
              " 422,\n",
              " 423,\n",
              " 424,\n",
              " 425,\n",
              " 426,\n",
              " 427,\n",
              " 428,\n",
              " 429,\n",
              " 430,\n",
              " 431,\n",
              " 432,\n",
              " 433,\n",
              " 434,\n",
              " 435,\n",
              " 436,\n",
              " 437,\n",
              " 438,\n",
              " 439,\n",
              " 440,\n",
              " 441,\n",
              " 442,\n",
              " 443,\n",
              " 444,\n",
              " 445,\n",
              " 446,\n",
              " 447,\n",
              " 448,\n",
              " 449,\n",
              " 450,\n",
              " 451,\n",
              " 452,\n",
              " 453,\n",
              " 454,\n",
              " 455,\n",
              " 456,\n",
              " 457,\n",
              " 458,\n",
              " 459,\n",
              " 460,\n",
              " 461,\n",
              " 462,\n",
              " 463,\n",
              " 464,\n",
              " 465,\n",
              " 466,\n",
              " 467,\n",
              " 468,\n",
              " 469,\n",
              " 470,\n",
              " 471,\n",
              " 472,\n",
              " 473,\n",
              " 474,\n",
              " 475,\n",
              " 476,\n",
              " 477,\n",
              " 478,\n",
              " 479,\n",
              " 480,\n",
              " 481,\n",
              " 482,\n",
              " 483,\n",
              " 484,\n",
              " 485,\n",
              " 486,\n",
              " 487,\n",
              " 488,\n",
              " 489,\n",
              " 490,\n",
              " 491,\n",
              " 492,\n",
              " 493,\n",
              " 494,\n",
              " 495,\n",
              " 496,\n",
              " 497,\n",
              " 498,\n",
              " 499,\n",
              " 500]"
            ]
          },
          "metadata": {
            "tags": []
          },
          "execution_count": 175
        }
      ]
    },
    {
      "cell_type": "code",
      "metadata": {
        "id": "Tr1RsTHJ0XhW",
        "outputId": "35aed48e-76e8-487b-b44f-d221acf998b3",
        "colab": {
          "base_uri": "https://localhost:8080/"
        }
      },
      "source": [
        "means_diff1 = []\n",
        "for i in sample_size2:\n",
        "    sample1 = np.mean((df['TUITIONFEE_IN'].sample(i)))\n",
        "    pop_mean = np.mean(df['TUITIONFEE_IN'])\n",
        "    diff_means = pop_mean - sample1\n",
        "    means_diff1.append(diff_means)\n",
        "print(means_diff1)"
      ],
      "execution_count": 176,
      "outputs": [
        {
          "output_type": "stream",
          "text": [
            "[5857.799505562422, 4297.799505562422, 5690.132838895755, 1092.7995055624224, -2941.800494437578, -8436.700494437577, 1408.5137912767077, 4539.299505562422, -2843.311605548689, 2895.5995055624226, -1346.7459489830317, 1104.1328388957554, -1579.2004944375776, 169.44236270527927, 1209.6661722290892, -1172.3879944375776, -124.6122591434596, 1561.7995055624224, -384.88470496389255, -420.0004944375769, 2102.5137912767077, -533.3368580739416, 604.5386359972053, -1304.4504944375776, -1825.1604944375767, -141.12357136065475, 535.0587648216815, 846.1209341338508, 590.9374365969052, 2614.566172229089, -773.974687985964, 2316.7057555624224, -837.8368580739416, 348.06421144477554, 1017.4280769909938, -717.4227166598002, -344.71400795109093, -1596.9899681217876, -830.4312636683471, -1516.7754944375783, -746.4687871205051, -762.938589675673, -564.340029321299, 231.9813237442404, 329.33283889575614, -545.5917987854036, -1180.583473160982, -26.867161104244587, -792.9351883151294, -1106.4604944375778, 1473.5838192879128, 683.2610440239605, 715.6296942416675, 704.6328388957554, -97.14594898303221, -856.1112087232914, -755.3057575954726, 618.9029538382847, 761.511369969202, 990.866172229089, 782.6027842509466, 221.50918298177749, 48.92648968940648, -754.6536194375776, 184.9995055624222, -738.8065550436377, 898.277117502721, 1009.2406820330107, -513.8816538578676, 285.8566484195653, -264.8202127474369, -749.5338277709116, 560.3611493980388, 558.0292352921524, -546.547161104244, -1015.9110207533677, 424.3969081598252, -21.405622642705566, -1042.3144184882103, -404.737994437578, -421.99061789436837, -92.34683590099212, -392.6462775701084, 1518.144743657661, -90.17696502581293, 409.0204357949806, 630.9489308497787, -235.24594898303258, 776.9568089332088, 129.19950556242202, -126.9697252068081, 286.53863599720535, 559.7672474979063, -967.1473029482158, -212.32681022705128, -244.2421611042446, -117.8190511386083, -786.0372291314552, -280.2206964577799, -791.5304944375775, 753.4628718990562, 405.5838192879128, 334.634457018733, 38.222582485499515, -682.6576372947211, 320.40327914732825, -626.2472234095394, -234.71901295609587, -390.95278801555924, -711.3732217103052, 28.736442499359327, -204.89692300900606, -353.0412024021798, 144.7030143343518, 250.47776643198722, -1384.0280806444744, -82.90134913843212, 356.02831912174406, 537.5978248901538, 736.2661722290886, 137.74165432275277, 547.3158990050451, -36.14358386847198, -453.7166234698352, -1134.840494437577, -56.90684364392655, -241.72017947694803, 859.4245055624224, -120.50282001897267, 761.4456594085759, 845.5094292265449, 644.3373843503014, 33.13033263009129, 990.1353264579448, 243.76246852538497, 295.2553879153638, 376.4272427886999, 118.21979541749442, -514.6033721354188, 190.9066484195655, 118.80659776100401, -63.08781838123923, -486.61308185016514, -934.3463277709116, 233.3305400451809, 772.6282726857098, 494.3369205284089, -427.90995389703767, -611.6434474577118, -131.78049443757754, 627.1372539067934, -796.4833891744192, 361.72107418987343, 354.0332717961883, 215.01886040113186, 242.8123260752427, -385.8183288324826, 13.913429613055087, -264.03697242499857, 165.2182555624222, -314.9458360524841, -200.52148209189818, 446.71361599187003, -107.54195785221145, -1585.2671611042451, -65.9655546785416, -9.67953635374488, 318.3768865148031, 287.86459431981893, -247.79461208463636, 652.6416108255798, 789.3285753298642, -465.34500310809835, 1095.4604251026522, -206.4176372947204, -342.62094898303167, -697.3643362454868, 209.84444938264733, -388.2060810297562, -717.3838277709101, 1.0812735182234974, -318.00818674527, -141.89448350861585, 107.07667947546543, -257.09238632946926, -51.37253744833015, 152.31287454638004, 479.0122715198695, -508.3962616333456, 539.0521371413697, -436.9858347517138, -113.93486943757762, 295.06893561423567, -34.40152536541245, 653.5892491521663, -889.4453923967621, 171.76904870963062, 452.6631419260584, 61.54322415538718, 269.239505562422, 959.7646796917752, 222.2004956614319, 167.22807699099394, -172.77402384934248, 195.2970665380317, 549.3626123585391, -228.94928670810896, 480.85719787011476, 370.8138596294084, 747.9518865148029, 279.2686998752188, 872.7051659397812, 78.91687645444108, 293.8462345343851, -78.78654094920512, -427.154198141282, -263.0392041149971, 3.0334505165510564, 579.6762178911895, -397.66867625575924, 186.8945281868564, 1050.7995055624224, -172.10183972905725, -741.9549587232914, -215.92049443757787, -14.939432490675244, 245.1695496152861, 648.9003827554052, 163.38029158862355, 312.15602730155297, -445.88014811723133, -571.984977196199, -54.91723263500262, -566.9739987110815, -1001.4983667780025, 313.35882759632113, -717.2342497118398, 199.93816102460733, -531.1419170317195, -344.14216110424513, 514.7746092968619, -265.2087589003877, -156.42683188613773, -285.8562321424961, -204.27396382533243, -415.2899253318874, -455.8118304699665, -238.26097830854542, -141.7466791765337, -582.2004944375776, 222.09034221580896, -332.2123991994822, 370.64535536479434, 21.374308712028323, -658.3769650258137, -199.35674443757762, 315.98238493985446, -469.65785877866347, -232.59817783526069, 78.66873633165324, 675.0638733785145, -5.273013521547, -764.8088594565897, 6.242687380604366, 576.1315810341202, 526.479956690242, -4.440194812109439, -352.14079294504063, 781.5021077929059, -825.0375314746152, -386.03813281396197, -236.2041709081659, 55.90573266864976, -159.14939954706642, 246.79950556242238, -162.0591900897516, 87.44932505700763, 317.60166383580327, -272.0571252619502, -244.4219230090066, 199.66783296455742, -83.78560082055628, -567.013215285634, -179.57021274743693, 783.8486283694401, -308.6060888431721, -1115.0402156919326, -41.73174443757762, -220.04824530262977, 361.12364349345717, 44.562392160360105, 235.30635487749078, 27.918959487336906, 271.90494773929277, -52.46829104774679, 39.77923529215241, 773.5840173469342, 127.69547871678515, -33.447986076374036, -234.54382777091087, 476.84269493119336, 7.554472449839523, 737.1757431861852, 54.204110825579846, -143.17426492938102, -148.31160554868893, -118.46759541477604, 60.27028478320153, 338.1069489281181, -196.13275250209335, 402.6837499354124, 361.71296710088427, -830.1461813385367, -441.4011313802521, -333.93700237408575, -506.50112734896993, -567.9954471189658, -290.7162177080181, 74.38884725521257, 85.14638056242256, 287.5315927898364, 64.35851177360291, 398.0131278534436, 184.78407346365657, 28.99642863934514, -405.96123063389587, -619.1607390858962, -732.1547627302598, -24.425418449735844, -32.009585346668246, -163.09173310827282, 151.74227664675982, -22.137431374514563, -459.32923695254703, -549.4124347360857, -141.4623991994822, -69.9007911734825, 168.7107481659723, 900.4484731140446, -43.438729731695275, 78.20419764453345, 146.41646462674998, -123.44830784865644, -8.241192111996497, 418.4951577363354, -37.49240195202856, 422.6265948995979, 82.37996533253772, -13.320838277119037, 214.7680769909939, 142.09865086156788, -226.0783353466686, -428.8577182336112, -333.64117240367887, 445.2558435905912, -441.0403820780275, -383.86155886334836, -401.9407179012642, 27.247973528996226, 459.06339445131107, -238.34730884200962, -320.523698857467, 149.74716396462645, -99.67302191010549, 605.0460809048882, 380.37327605422524, -387.4756987972514, -87.01299443757762, 121.68026437001026, 486.5454515083684, -177.53742166129723, 423.2269249172614, -286.91095020165267, 267.0374734768611, -58.90182777091104, 58.22503747731571, 83.20003606640148, 10.069346832263363, -61.47753929245846, 111.4995055624222, 544.9123664548106, -209.4675101443836, 120.82039329088184, -480.3749736042437, 560.7917133546298, -102.1564529868001, -100.57517144016128, -256.9711129942789, -212.53468466893992, 460.4559158188331, -591.5943563301616, 36.50358719507585, -260.92314074801016, -61.53551981828787, -94.59289950086895, -177.68534292242566, 51.698749894915636, -243.82361001546724, 400.1328388957554, -348.3329944375773, 330.1511265100535, -91.53631533309999, 489.1593070512563, 209.11633724559033, 608.2069129698302, -22.673400841518742, -147.98673522381796, -404.9259846336563, 113.23226839860854, 125.48731044047145, 201.82870264271423, -679.1640866705866, 40.4435733590326, -230.59421424434095, 233.3344453214586, 49.73940940857665, 352.16401395570756, 214.20381178251773, 26.66824064595494, 433.50902937194587, -11.411895862755955, 229.1123017709533, -151.18631004041436, 269.1108263171391, 152.07244673889272, -282.97748974274236, 84.87444701441291, 78.8719354689647, -189.36599560307877, 79.60183114381744, -417.14480998282033, -31.364846289429806, 320.06740394579447, -120.33874328550428, -3.3499197249338977, 188.83161565416594, 273.47227444114105, 215.61457405557303, -125.26199785443441, -368.86867625575996, -298.805936614448, 196.5596865578973, -257.3404492908503, -152.75004398712736, -330.40274162858896, -213.55923883219657, 330.7480514237195, -343.14915515186385, -782.0935902059509, -356.6627166598, 102.83054769102546, -486.0146537296123, 138.50369982290795, 475.36338221440474, 91.08302204593929, 126.1788915273346, 251.20213138299096, 57.028763204343704, -170.83230271644516, 42.36254904068301, -131.9401907499423, -675.1745204116041, -461.85276225615144, 350.48916073483633, -716.5596342225244, -50.709078128565125, 91.45475181509937, 8.175573938490743, -434.445696996213, 271.83993109433686, -26.61238403418065, 674.2380648844564, -29.240663570770266, 253.43452665946916, -178.8278628586304, -44.67108267287131, -239.81894307489438, 10.102852842756874, 25.041676752401145, -251.29424443757762, -89.94893518601839, -147.85194671973568, -37.65391058664591, -347.59512253675075, -356.98193773654657, -403.98856028119826, 150.4298957061592, 162.33843998865177, 37.35778777101132, -387.4760046416586, -39.79723578177345, 113.30966816404816, 176.94352178960253, -281.08106123919697, -476.0590802961642, -99.45251056660982, -296.48017250598787, -325.67439001990715, -36.962017483670024, 14.615505562422186]\n"
          ],
          "name": "stdout"
        }
      ]
    },
    {
      "cell_type": "code",
      "metadata": {
        "id": "tD8z_VyB6oKW",
        "outputId": "8b9f9d1f-513c-4b4f-e1dd-4976f585d112",
        "colab": {
          "base_uri": "https://localhost:8080/",
          "height": 567
        }
      },
      "source": [
        "# 22 - repeat 18 to 21 by replacing 50 with a larger number. For example, 300, or even 1000.\n",
        "# and see how the plot looks.\n",
        "sns.set_style('ticks')\n",
        "fig, ax = plt.subplots()\n",
        "fig.set_size_inches(10, 8)\n",
        "sns.regplot(sample_size2, means_diff1, ax=ax)\n",
        "sns.despine()\n",
        "plt.xlabel(\"Sample Size\")\n",
        "plt.ylabel(\"Mean Differences\")\n",
        "plt.title(\"Difference in Means With Sample Size 1-500\")\n",
        "plt.show()"
      ],
      "execution_count": 177,
      "outputs": [
        {
          "output_type": "stream",
          "text": [
            "/usr/local/lib/python3.6/dist-packages/seaborn/_decorators.py:43: FutureWarning: Pass the following variables as keyword args: x, y. From version 0.12, the only valid positional argument will be `data`, and passing other arguments without an explicit keyword will result in an error or misinterpretation.\n",
            "  FutureWarning\n"
          ],
          "name": "stderr"
        },
        {
          "output_type": "display_data",
          "data": {
            "image/png": "[encoded data removed]",
            "text/plain": [
              "<Figure size 720x576 with 1 Axes>"
            ]
          },
          "metadata": {
            "tags": []
          }
        }
      ]
    },
    {
      "cell_type": "code",
      "metadata": {
        "id": "MjqbewGC6oKZ"
      },
      "source": [
        "# The end - Give yourself a pat on the back!"
      ],
      "execution_count": null,
      "outputs": []
    }
  ]
}