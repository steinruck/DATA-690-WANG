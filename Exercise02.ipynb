{
  "nbformat": 4,
  "nbformat_minor": 0,
  "metadata": {
    "colab": {
      "name": "Exercise02.ipynb",
      "provenance": [],
      "authorship_tag": "ABX9TyMKByqZLzMP+VkTTiGvjWjz",
      "include_colab_link": true
    },
    "kernelspec": {
      "name": "python3",
      "display_name": "Python 3"
    }
  },
  "cells": [
    {
      "cell_type": "markdown",
      "metadata": {
        "id": "view-in-github",
        "colab_type": "text"
      },
      "source": [
        "<a href=\"https://colab.research.google.com/github/steinruck/DATA-690-WANG/blob/master/Exercise02.ipynb\" target=\"_parent\"><img src=\"https://colab.research.google.com/assets/colab-badge.svg\" alt=\"Open In Colab\"/></a>"
      ]
    },
    {
      "cell_type": "markdown",
      "metadata": {
        "id": "jEdhs-bWkfJ8",
        "colab_type": "text"
      },
      "source": [
        "#### Prompts a user to enter 10 integers. If the user enters anything other than integers, remind her that only integers are allowed and let her retry. Don't allow the user to enter more than 10 or less than 10 integers. Display the 10 integers back to the user at the end. Calculate the following statistics from the 10 integers entered:\n",
        "\n",
        "- Minimum\n",
        "- Maximum\n",
        "- Range\n",
        "- Mean\n",
        "- Variance\n",
        "- Standard Deviation"
      ]
    },
    {
      "cell_type": "code",
      "metadata": {
        "id": "q6205vc0kq2O",
        "colab_type": "code",
        "colab": {
          "base_uri": "https://localhost:8080/",
          "height": 294
        },
        "outputId": "fb846386-4c3c-494c-d8de-77f66e29f20e"
      },
      "source": [
        "print('Enter 10 integers:')\n",
        "int_list = []\n",
        "\n",
        "counter = 0\n",
        "while len(int_list) < 9:\n",
        "    try:\n",
        "        while True:\n",
        "            int_list.append(int(input()))\n",
        "            counter += 1\n",
        "            if counter >= 10:\n",
        "                break\n",
        "\n",
        "    except ValueError:\n",
        "        print(\"This is not an integer. Please enter a valid number\")\n",
        "\n",
        "# while loop that accepts integer input from user and stops after 10\n",
        "# sends error if not integer and prompts to try again"
      ],
      "execution_count": 52,
      "outputs": [
        {
          "output_type": "stream",
          "text": [
            "Enter 10 integers:\n",
            "3.5\n",
            "This is not an integer. Please enter a valid number\n",
            "2\n",
            "1\n",
            "3\n",
            "4\n",
            "5\n",
            "6\n",
            "7\n",
            "\n",
            "This is not an integer. Please enter a valid number\n",
            "8\n",
            "9\n",
            "8\n",
            "[2, 1, 3, 4, 5, 6, 7, 8, 9, 8]\n"
          ],
          "name": "stdout"
        }
      ]
    },
    {
      "cell_type": "code",
      "metadata": {
        "id": "VQAbI9r4kLqJ",
        "colab_type": "code",
        "colab": {}
      },
      "source": [
        "def min_op(x):    # function to find min value \n",
        "    min_value = x[0]\n",
        "    for i in x[0:]:\n",
        "        if i < min_value:\n",
        "          min_value = i\n",
        "    return min_value"
      ],
      "execution_count": 41,
      "outputs": []
    },
    {
      "cell_type": "code",
      "metadata": {
        "id": "DfBzF7OckdXi",
        "colab_type": "code",
        "colab": {}
      },
      "source": [
        "def max_op(x):    # function to find max value\n",
        "    max_value = x[0]\n",
        "    for i in x[0:]:\n",
        "        if i > max_value:\n",
        "          max_value = i\n",
        "    return max_value"
      ],
      "execution_count": 42,
      "outputs": []
    },
    {
      "cell_type": "code",
      "metadata": {
        "id": "g7FYjzjD9aXs",
        "colab_type": "code",
        "colab": {}
      },
      "source": [
        "sum = 0\n",
        "for i in int_list:\n",
        "  sum += i\n",
        "mean = sum / len(int_list)\n",
        "\n",
        "# loop to add all elements in list and divide by number of elements\n",
        "# finds average"
      ],
      "execution_count": 53,
      "outputs": []
    },
    {
      "cell_type": "code",
      "metadata": {
        "id": "6n10D9ZHUxLP",
        "colab_type": "code",
        "colab": {}
      },
      "source": [
        "plus = 0\n",
        "for i in int_list:\n",
        "  plus += ((i - mean) ** 2)\n",
        "variance = plus / len(int_list) \n",
        "\n",
        "# loop to find variance\n",
        "# subtracts the mean from each value in int_list. Squares it. Adds all results together and divides by # of elements in int_list"
      ],
      "execution_count": 55,
      "outputs": []
    },
    {
      "cell_type": "code",
      "metadata": {
        "id": "a-tBcnqp2INW",
        "colab_type": "code",
        "colab": {}
      },
      "source": [
        "deviation = variance ** 0.5    # finds standard deviation\n"
      ],
      "execution_count": 46,
      "outputs": []
    },
    {
      "cell_type": "code",
      "metadata": {
        "id": "bxPf2ukF8Fck",
        "colab_type": "code",
        "colab": {
          "base_uri": "https://localhost:8080/",
          "height": 138
        },
        "outputId": "789afebb-6e59-4a8a-f37f-3685a638b6d9"
      },
      "source": [
        "minimum = min_op(int_list)    # stores result of function min_op in a variable\n",
        "maximum = max_op(int_list)    # stores result of function max_op in a variable\n",
        "\n",
        "print('Integer List:', int_list)\n",
        "print('Minimum:', minimum)\n",
        "print('Maximum:', maximum)\n",
        "print('Range:', minimum, \"-\", maximum)\n",
        "print('Mean:', mean)\n",
        "print('Variance:', variance)\n",
        "print('Standard Deviation:', deviation)"
      ],
      "execution_count": 56,
      "outputs": [
        {
          "output_type": "stream",
          "text": [
            "Integer List: [2, 1, 3, 4, 5, 6, 7, 8, 9, 8]\n",
            "Minimum: 1\n",
            "Maximum: 9\n",
            "Range: 1 - 9\n",
            "Mean: 5.3\n",
            "Variance: 6.8100000000000005\n",
            "Standard Deviation: 2.6095976701399777\n"
          ],
          "name": "stdout"
        }
      ]
    }
  ]
}