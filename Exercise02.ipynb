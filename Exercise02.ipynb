{
  "nbformat": 4,
  "nbformat_minor": 0,
  "metadata": {
    "colab": {
      "name": "Exercise02.ipynb",
      "provenance": [],
      "authorship_tag": "ABX9TyPQOC7EfEX6hZe5iyemu6Ye",
      "include_colab_link": true
    },
    "kernelspec": {
      "name": "python3",
      "display_name": "Python 3"
    }
  },
  "cells": [
    {
      "cell_type": "markdown",
      "metadata": {
        "id": "view-in-github",
        "colab_type": "text"
      },
      "source": [
        "<a href=\"https://colab.research.google.com/github/steinruck/DATA-690-WANG/blob/master/Exercise02.ipynb\" target=\"_parent\"><img src=\"https://colab.research.google.com/assets/colab-badge.svg\" alt=\"Open In Colab\"/></a>"
      ]
    },
    {
      "cell_type": "markdown",
      "metadata": {
        "id": "jEdhs-bWkfJ8",
        "colab_type": "text"
      },
      "source": [
        "#### Prompts a user to enter 10 integers. If the user enters anything other than integers, remind her that only integers are allowed and let her retry. Don't allow the user to enter more than 10 or less than 10 integers. Display the 10 integers back to the user at the end. Calculate the following statistics from the 10 integers entered:\n",
        "\n",
        "- Minimum\n",
        "- Maximum\n",
        "- Range\n",
        "- Mean\n",
        "- Variance\n",
        "- Standard Deviation"
      ]
    },
    {
      "cell_type": "code",
      "metadata": {
        "id": "q6205vc0kq2O",
        "colab_type": "code",
        "colab": {
          "base_uri": "https://localhost:8080/",
          "height": 204
        },
        "outputId": "fa023354-0a9a-45ad-b956-cd3da663e575"
      },
      "source": [
        "print('Enter 10 integers:')\n",
        "int1 = int(input('First integer: '))\n",
        "int2 = int(input('Second integer: '))\n",
        "int3 = int(input('Third integer: '))\n",
        "int4 = int(input('Fourth integer: '))\n",
        "int5 = int(input('Fith integer: '))\n",
        "int6 = int(input('Sixth integer: '))\n",
        "int7 = int(input('Seventh integer: '))\n",
        "int8 = int(input('Eighth integer: '))\n",
        "int9 = int(input('Ninth integer: '))\n",
        "int10 = int(input('Tenth integer: '))\n",
        "\n"
      ],
      "execution_count": null,
      "outputs": [
        {
          "output_type": "stream",
          "text": [
            "Enter 10 integers:\n",
            "First integer: 1\n",
            "Second integer: 2\n",
            "Third integer: 3\n",
            "Fourth integer: 4\n",
            "Fith integer: 5\n",
            "Sixth integer: 6\n",
            "Seventh integer: 7\n",
            "Eighth integer: 8\n",
            "Ninth integer: 9\n",
            "Tenth integer: 8\n"
          ],
          "name": "stdout"
        }
      ]
    },
    {
      "cell_type": "code",
      "metadata": {
        "id": "Cg1B6wD_74IW",
        "colab_type": "code",
        "colab": {}
      },
      "source": [
        "int_list = [int1, int2, int3, int4, int5, int6, int7, int8, int9, int10]"
      ],
      "execution_count": null,
      "outputs": []
    },
    {
      "cell_type": "code",
      "metadata": {
        "id": "VQAbI9r4kLqJ",
        "colab_type": "code",
        "colab": {}
      },
      "source": [
        "def min_op(x):    # function to find min value \n",
        "    min_value = x[0]\n",
        "    for i in x[0:]:\n",
        "        if i < min_value:\n",
        "          min_value = i\n",
        "    return min_value"
      ],
      "execution_count": null,
      "outputs": []
    },
    {
      "cell_type": "code",
      "metadata": {
        "id": "DfBzF7OckdXi",
        "colab_type": "code",
        "colab": {}
      },
      "source": [
        "def max_op(x):    # function to find max value\n",
        "    max_value = x[0]\n",
        "    for i in x[0:]:\n",
        "        if i > max_value:\n",
        "          max_value = i\n",
        "    return max_value"
      ],
      "execution_count": null,
      "outputs": []
    },
    {
      "cell_type": "code",
      "metadata": {
        "id": "g7FYjzjD9aXs",
        "colab_type": "code",
        "colab": {}
      },
      "source": [
        "sum = 0\n",
        "for element in int_list:\n",
        "  sum += element\n",
        "mean = sum / 10"
      ],
      "execution_count": null,
      "outputs": []
    },
    {
      "cell_type": "code",
      "metadata": {
        "id": "6n10D9ZHUxLP",
        "colab_type": "code",
        "colab": {}
      },
      "source": [
        "\n",
        "#def variance(var):\n",
        " #   a=[]\n",
        "  #  for i in var:\n",
        "   #     a.append((i-mean)**2)\n",
        "    #return sum(a)/len(a)"
      ],
      "execution_count": 2,
      "outputs": []
    },
    {
      "cell_type": "code",
      "metadata": {
        "id": "bxPf2ukF8Fck",
        "colab_type": "code",
        "colab": {
          "base_uri": "https://localhost:8080/",
          "height": 102
        },
        "outputId": "332fd02b-74cc-4606-ac64-74c55a33cab9"
      },
      "source": [
        "minimum = min_op(int_list)\n",
        "maximum = max_op(int_list)\n",
        "\n",
        "print(int_list)\n",
        "print(minimum)\n",
        "print(maximum)\n",
        "print(minimum, \"-\", maximum)\n",
        "print(mean)"
      ],
      "execution_count": null,
      "outputs": [
        {
          "output_type": "stream",
          "text": [
            "[1, 2, 3, 4, 5, 6, 7, 8, 9, 8]\n",
            "1\n",
            "9\n",
            "1 - 9\n",
            "5.3\n"
          ],
          "name": "stdout"
        }
      ]
    },
    {
      "cell_type": "markdown",
      "metadata": {
        "id": "l37FUzb0-XZc",
        "colab_type": "text"
      },
      "source": [
        "# Still\n",
        "  - variance\n",
        "  - standard deviation\n",
        "  - make it pretty"
      ]
    }
  ]
}