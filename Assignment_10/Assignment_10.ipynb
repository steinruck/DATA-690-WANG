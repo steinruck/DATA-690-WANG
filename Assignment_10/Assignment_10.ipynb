{
  "nbformat": 4,
  "nbformat_minor": 0,
  "metadata": {
    "colab": {
      "name": "Assignment_10.ipynb",
      "provenance": [],
      "authorship_tag": "ABX9TyPFtI5+bDeTrJ1dcqBVBKlA",
      "include_colab_link": true
    },
    "kernelspec": {
      "name": "python3",
      "display_name": "Python 3"
    }
  },
  "cells": [
    {
      "cell_type": "markdown",
      "metadata": {
        "id": "view-in-github",
        "colab_type": "text"
      },
      "source": [
        "<a href=\"https://colab.research.google.com/github/steinruck/WANG-690-FALL-2020/blob/master/Assignment_10/Assignment_10.ipynb\" target=\"_parent\"><img src=\"https://colab.research.google.com/assets/colab-badge.svg\" alt=\"Open In Colab\"/></a>"
      ]
    },
    {
      "cell_type": "markdown",
      "metadata": {
        "id": "u1euiGR6nDwW"
      },
      "source": [
        "### Assignment # 10 - Point Estimate and Interval Estimate (Confidence Interval)\n",
        "A random survey of enrollment at 35 community colleges across the United States yielded the following figures:\n",
        "\n",
        "6,414; 1,550; 2,109; 9,350; 21,828; 4,300; 5,944; 5,722; 2,825; 2,044;\n",
        "\n",
        "5,481; 5,200; 5,853; 2,750; 10,012; 6,357; 27,000; 9,414; 7,681; 3,200;\n",
        "\n",
        "17,500; 9,200; 7,380; 18,314; 6,557; 13,713; 17,768; 7,493; 2,771; 2,861;\n",
        "\n",
        "1,263; 7,285; 28,165; 5,080; 11,622\n",
        "\n",
        "Perform point estimate and interval estimate with 95% confidence level using t-distribution.\n",
        "\n",
        "Since we don't know the population variance, we use t-distribiution instead of normal distribution."
      ]
    },
    {
      "cell_type": "code",
      "metadata": {
        "id": "WBWj6XWVm46O"
      },
      "source": [
        "# Import Python packages\n",
        "import math\n",
        "import pandas as pd\n",
        "import numpy as np\n",
        "import scipy.stats as stats\n",
        "import matplotlib.pyplot as plt"
      ],
      "execution_count": 14,
      "outputs": []
    },
    {
      "cell_type": "markdown",
      "metadata": {
        "id": "O89nRZ1Ss1ax"
      },
      "source": [
        "\n",
        "### Step 0 - Data Preprocessing\n",
        "\n",
        "Process the raw data to make a list of integers. In order to calculate descriptive statistic, Python needs to work with a list of numbers."
      ]
    },
    {
      "cell_type": "code",
      "metadata": {
        "colab": {
          "base_uri": "https://localhost:8080/"
        },
        "id": "CY-Kh21nssDh",
        "outputId": "bc6a1a44-a908-42bb-9278-c4fb1b58c8b9"
      },
      "source": [
        "# make each line of numbers a string object and then concatenate them together \n",
        "# The end result is one single string containing 35 numbers separated by \";\"\n",
        "\n",
        "line1 = \"6,414; 1,550; 2,109; 9,350; 21,828; 4,300; 5,944; 5,722; 2,825; 2,044;\"\n",
        "line2 = \"5,481; 5,200; 5,853; 2,750; 10,012; 6,357; 27,000; 9,414; 7,681; 3,200;\"\n",
        "line3 = \"17,500; 9,200; 7,380; 18,314; 6,557; 13,713; 17,768; 7,493; 2,771; 2,861;\"\n",
        "line4 = \"1,263; 7,285; 28,165; 5,080; 11,622\"\n",
        "\n",
        "full = line1 + line2 + line3 + line4\n",
        "print(full)"
      ],
      "execution_count": 1,
      "outputs": [
        {
          "output_type": "stream",
          "text": [
            "6,414; 1,550; 2,109; 9,350; 21,828; 4,300; 5,944; 5,722; 2,825; 2,044;5,481; 5,200; 5,853; 2,750; 10,012; 6,357; 27,000; 9,414; 7,681; 3,200;17,500; 9,200; 7,380; 18,314; 6,557; 13,713; 17,768; 7,493; 2,771; 2,861;1,263; 7,285; 28,165; 5,080; 11,622\n"
          ],
          "name": "stdout"
        }
      ]
    },
    {
      "cell_type": "code",
      "metadata": {
        "colab": {
          "base_uri": "https://localhost:8080/"
        },
        "id": "HjNTBh0ktar0",
        "outputId": "9728fe93-4645-4a04-8f3b-87ede01706b2"
      },
      "source": [
        "x = full.split(\";\")\n",
        "print(x)"
      ],
      "execution_count": 2,
      "outputs": [
        {
          "output_type": "stream",
          "text": [
            "['6,414', ' 1,550', ' 2,109', ' 9,350', ' 21,828', ' 4,300', ' 5,944', ' 5,722', ' 2,825', ' 2,044', '5,481', ' 5,200', ' 5,853', ' 2,750', ' 10,012', ' 6,357', ' 27,000', ' 9,414', ' 7,681', ' 3,200', '17,500', ' 9,200', ' 7,380', ' 18,314', ' 6,557', ' 13,713', ' 17,768', ' 7,493', ' 2,771', ' 2,861', '1,263', ' 7,285', ' 28,165', ' 5,080', ' 11,622']\n"
          ],
          "name": "stdout"
        }
      ]
    },
    {
      "cell_type": "code",
      "metadata": {
        "colab": {
          "base_uri": "https://localhost:8080/"
        },
        "id": "C-b0PpnBttIL",
        "outputId": "ce17f7c2-4175-46ae-d261-64cb765e236a"
      },
      "source": [
        "clean = []\n",
        "for i in x:\n",
        "    y = i.replace(\",\", \"\")\n",
        "    y = int(y)\n",
        "    clean.append(y)\n",
        "    \n",
        "print(clean)"
      ],
      "execution_count": 3,
      "outputs": [
        {
          "output_type": "stream",
          "text": [
            "[6414, 1550, 2109, 9350, 21828, 4300, 5944, 5722, 2825, 2044, 5481, 5200, 5853, 2750, 10012, 6357, 27000, 9414, 7681, 3200, 17500, 9200, 7380, 18314, 6557, 13713, 17768, 7493, 2771, 2861, 1263, 7285, 28165, 5080, 11622]\n"
          ],
          "name": "stdout"
        }
      ]
    },
    {
      "cell_type": "markdown",
      "metadata": {
        "id": "acmQIRXWufp1"
      },
      "source": [
        "### Step 1 - Calculate and Display the Sample Size and Sample Mean"
      ]
    },
    {
      "cell_type": "code",
      "metadata": {
        "colab": {
          "base_uri": "https://localhost:8080/"
        },
        "id": "jjVlKlncuhaa",
        "outputId": "6021364c-5a47-4a8f-bb04-c97195087ea9"
      },
      "source": [
        "# Calculate and display the sample size\n",
        "\n",
        "sample_size = len(clean)\n",
        "print(\"Sample Size =\", sample_size)"
      ],
      "execution_count": 5,
      "outputs": [
        {
          "output_type": "stream",
          "text": [
            "Sample Size = 35\n"
          ],
          "name": "stdout"
        }
      ]
    },
    {
      "cell_type": "code",
      "metadata": {
        "colab": {
          "base_uri": "https://localhost:8080/"
        },
        "id": "ZAcWr_b3vOwS",
        "outputId": "57ce2f8d-8d05-4ce9-d9a4-4af46b81c5b3"
      },
      "source": [
        "# Calculate and display the sample mean\n",
        "\n",
        "sample_mean = round(np.mean(clean))\n",
        "print(\"Sample Mean =\", sample_mean)"
      ],
      "execution_count": 9,
      "outputs": [
        {
          "output_type": "stream",
          "text": [
            "Sample Mean = 8629.0\n"
          ],
          "name": "stdout"
        }
      ]
    },
    {
      "cell_type": "markdown",
      "metadata": {
        "id": "_N48ENaJvuYV"
      },
      "source": [
        "The point estimate of the mean enrollment of US community colleges is 8629."
      ]
    },
    {
      "cell_type": "markdown",
      "metadata": {
        "id": "DqALAHNQv4Il"
      },
      "source": [
        "\n",
        "### Step 2 - Calculate and Display the Sample Standard Deviation & Sample Standard Error\n",
        "\n",
        "Sample Standard Deviation $S=\\sqrt{\\dfrac{1}{n-1}\\sum\\limits_{i=1}^n (X_i-\\bar{X})^2}$\n",
        "\n",
        "Sample Standard Error = $\\dfrac{S}{\\sqrt{n}}$\n",
        "\n",
        "Note: The default Delta Degree of Freedom (DDOF) for Numpy's std function is 0 which is applicable to populate data. For sample data, we need to specify ddof=1.\n",
        "\n",
        "For the enrollment data, we round up the statistics to be the full integers (no decimal points)."
      ]
    },
    {
      "cell_type": "code",
      "metadata": {
        "colab": {
          "base_uri": "https://localhost:8080/"
        },
        "id": "QXSpWMrivwwg",
        "outputId": "1cc95483-0188-4fd8-bb2e-88c5c7f4d129"
      },
      "source": [
        "# Calculate and display the sample standard deviation using Numpy's std function.\n",
        "\n",
        "standard_dev = np.std(clean, ddof=1) \n",
        "standard_dev = round(standard_dev)         \n",
        "print(\"Sample Standard Deviation =\", standard_dev)"
      ],
      "execution_count": 11,
      "outputs": [
        {
          "output_type": "stream",
          "text": [
            "Sample Standard Deviation = 6944.0\n"
          ],
          "name": "stdout"
        }
      ]
    },
    {
      "cell_type": "code",
      "metadata": {
        "colab": {
          "base_uri": "https://localhost:8080/"
        },
        "id": "HnI-mNakwioQ",
        "outputId": "882da788-34cd-42f9-bd39-a4dadd28b952"
      },
      "source": [
        "# Calculate and display the sample standard error\n",
        "\n",
        "standard_err = standard_dev / math.sqrt(sample_size)\n",
        "standard_err = round(standard_err)\n",
        "print(\"Sample Standard Error is\", standard_err)"
      ],
      "execution_count": 12,
      "outputs": [
        {
          "output_type": "stream",
          "text": [
            "Sample Standard Error is 1174.0\n"
          ],
          "name": "stdout"
        }
      ]
    },
    {
      "cell_type": "markdown",
      "metadata": {
        "id": "q0Z_zlCew-U4"
      },
      "source": [
        "\n",
        "### Step 3 - Calculate t Critical Value using t-Distribution\n",
        "\n",
        "$\\alpha$ = 1 - Confidence Level = 1 - 95% = 0.05\n",
        "\n",
        "$\\dfrac{\\alpha}{2}$ = 0.025\n",
        "\n",
        "n (sample size) = 35\n",
        "\n",
        "df (degree of freedom) = n - 1 = 35 - 1 = 34\n",
        "\n",
        "We will use Python scipy.stats t-distribution's PPF (Percentage Point Function) to calculate t critical value $t_{0.025,34}$."
      ]
    },
    {
      "cell_type": "code",
      "metadata": {
        "colab": {
          "base_uri": "https://localhost:8080/"
        },
        "id": "7bBrfOH6xDoA",
        "outputId": "151b7b2b-227a-49a2-8907-476922c4ca73"
      },
      "source": [
        "# Calculate and display the t critical value using scipy.stats.t package ppf function\n",
        "\n",
        "t_value = stats.t.ppf(0.975, 34)\n",
        "print(\"t critical value = \", round(t_value,2))"
      ],
      "execution_count": 27,
      "outputs": [
        {
          "output_type": "stream",
          "text": [
            "t critical value =  2.03\n"
          ],
          "name": "stdout"
        }
      ]
    },
    {
      "cell_type": "markdown",
      "metadata": {
        "id": "FMtxXiLwyOdL"
      },
      "source": [
        "### Step 4 - Calculate the Margin of Error\n",
        "\n",
        "Margin of Error = t-Statistics * Sample Standard Error = $t_{\\alpha/2,n-1}\\left(\\dfrac{s}{\\sqrt{n}}\\right)$"
      ]
    },
    {
      "cell_type": "code",
      "metadata": {
        "colab": {
          "base_uri": "https://localhost:8080/"
        },
        "id": "XZtrmt6tyMJF",
        "outputId": "02c8f8f5-772f-4cd8-e6ef-1d70935f9385"
      },
      "source": [
        "# Calculate and display the margin of error\n",
        "\n",
        "margin_error = round(t_value * standard_err) \n",
        "print(\"Margin of Error =\", margin_error)"
      ],
      "execution_count": 36,
      "outputs": [
        {
          "output_type": "stream",
          "text": [
            "Margin of Error = 2386.0\n"
          ],
          "name": "stdout"
        }
      ]
    },
    {
      "cell_type": "markdown",
      "metadata": {
        "id": "dl-y44fVypI0"
      },
      "source": [
        "### Step 5 - Calculate Lower and Upper Limit of the Confidence Interval\n",
        "\n",
        "Lower Limit = Sample Mean - Margin of Error\n",
        "\n",
        "Upper Limit = Sample Mean + Margin of Error"
      ]
    },
    {
      "cell_type": "code",
      "metadata": {
        "colab": {
          "base_uri": "https://localhost:8080/"
        },
        "id": "v9PZ5FD3yscB",
        "outputId": "37edd816-62e6-49e6-d4f3-026fad6b3a33"
      },
      "source": [
        "# Calculate and display the lower limit\n",
        "\n",
        "lower_limit = sample_mean - margin_error\n",
        "print(\"Lower Limit =\", lower_limit)"
      ],
      "execution_count": 37,
      "outputs": [
        {
          "output_type": "stream",
          "text": [
            "Lower Limit = 6243.0\n"
          ],
          "name": "stdout"
        }
      ]
    },
    {
      "cell_type": "code",
      "metadata": {
        "colab": {
          "base_uri": "https://localhost:8080/"
        },
        "id": "aqCeru1IyvLP",
        "outputId": "6375980a-710b-4327-a333-0bd3a3c22581"
      },
      "source": [
        "# Calculate and display the upper limit\n",
        "upper_limit = sample_mean + margin_error\n",
        "print(\"Upper Limit =\", upper_limit)"
      ],
      "execution_count": 30,
      "outputs": [
        {
          "output_type": "stream",
          "text": [
            "Upper Limit = 11015.0\n"
          ],
          "name": "stdout"
        }
      ]
    },
    {
      "cell_type": "markdown",
      "metadata": {
        "id": "eO3A3mmdzaHN"
      },
      "source": [
        "### Step 6 - Now We have the 95% Confidence Interval\n",
        "\n",
        "Confidence Interval ($\\sigma$ unknown) = $\\bar{x}\\space\\pm\\space t_{\\alpha/2}\\left(\\dfrac{S}{\\sqrt{n}}\\right)$ = Sample_Mean $\\pm$ Margin of Error"
      ]
    },
    {
      "cell_type": "code",
      "metadata": {
        "colab": {
          "base_uri": "https://localhost:8080/"
        },
        "id": "2q-Ai3JezgsL",
        "outputId": "361404ec-7b2c-4e18-f543-61f38f99b8ad"
      },
      "source": [
        "# Print the 95% confidence interveral in the form (lower limit, upper limit)\n",
        "print(\"The 95% Confidence Interval = (\", lower_limit, \",\", upper_limit, \")\")"
      ],
      "execution_count": 32,
      "outputs": [
        {
          "output_type": "stream",
          "text": [
            "The 95% Confidence Interval = ( 6243.0 , 11015.0 )\n"
          ],
          "name": "stdout"
        }
      ]
    }
  ]
}