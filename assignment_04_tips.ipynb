{
  "nbformat": 4,
  "nbformat_minor": 0,
  "metadata": {
    "colab": {
      "name": "assignment_04_tips.ipynb",
      "provenance": [],
      "authorship_tag": "ABX9TyN1PwYLBTq1aecHtpVTOGxm",
      "include_colab_link": true
    },
    "kernelspec": {
      "name": "python3",
      "display_name": "Python 3"
    }
  },
  "cells": [
    {
      "cell_type": "markdown",
      "metadata": {
        "id": "view-in-github",
        "colab_type": "text"
      },
      "source": [
        "<a href=\"https://colab.research.google.com/github/steinruck/WANG-690-FALL-2020/blob/master/assignment_04_tips.ipynb\" target=\"_parent\"><img src=\"https://colab.research.google.com/assets/colab-badge.svg\" alt=\"Open In Colab\"/></a>"
      ]
    },
    {
      "cell_type": "code",
      "metadata": {
        "id": "_kfJFNHMyWlP",
        "colab_type": "code",
        "colab": {
          "base_uri": "https://localhost:8080/",
          "height": 35
        },
        "outputId": "65a74cc2-350c-41a7-ff44-5912c0d32142"
      },
      "source": [
        "one_row = \"1810\t7,239,881\t$178,445\t2.46 cents\"\n",
        "one_row"
      ],
      "execution_count": 2,
      "outputs": [
        {
          "output_type": "execute_result",
          "data": {
            "application/vnd.google.colaboratory.intrinsic+json": {
              "type": "string"
            },
            "text/plain": [
              "'1810\\t7,239,881\\t$178,445\\t2.46 cents'"
            ]
          },
          "metadata": {
            "tags": []
          },
          "execution_count": 2
        }
      ]
    },
    {
      "cell_type": "code",
      "metadata": {
        "id": "fFFLqht7yl9w",
        "colab_type": "code",
        "colab": {
          "base_uri": "https://localhost:8080/",
          "height": 35
        },
        "outputId": "afd49297-25dd-405d-b505-0b12463f8031"
      },
      "source": [
        "one_row.split(\"\\t\")[0]"
      ],
      "execution_count": 3,
      "outputs": [
        {
          "output_type": "execute_result",
          "data": {
            "application/vnd.google.colaboratory.intrinsic+json": {
              "type": "string"
            },
            "text/plain": [
              "'1810'"
            ]
          },
          "metadata": {
            "tags": []
          },
          "execution_count": 3
        }
      ]
    },
    {
      "cell_type": "code",
      "metadata": {
        "id": "LyY_GG9TzVN2",
        "colab_type": "code",
        "colab": {
          "base_uri": "https://localhost:8080/",
          "height": 35
        },
        "outputId": "16df9762-09fe-4cf9-8b47-f233bb74f167"
      },
      "source": [
        "row = \"2010*\t308,745,538\t$13 Billion\t$42.11\"\n",
        "year = row.split(\"\\t\")[0]\n",
        "year = year.replace(\"*\", \"\")\n",
        "year"
      ],
      "execution_count": 7,
      "outputs": [
        {
          "output_type": "execute_result",
          "data": {
            "application/vnd.google.colaboratory.intrinsic+json": {
              "type": "string"
            },
            "text/plain": [
              "'2010'"
            ]
          },
          "metadata": {
            "tags": []
          },
          "execution_count": 7
        }
      ]
    },
    {
      "cell_type": "code",
      "metadata": {
        "id": "74WZf-b-0NPR",
        "colab_type": "code",
        "colab": {}
      },
      "source": [
        "year_list = [1790, 2000, 2300]"
      ],
      "execution_count": null,
      "outputs": []
    },
    {
      "cell_type": "code",
      "metadata": {
        "id": "_7b8pzYl0SKT",
        "colab_type": "code",
        "colab": {}
      },
      "source": [
        "pop_list = [3000000, 5000000, 600000]"
      ],
      "execution_count": null,
      "outputs": []
    },
    {
      "cell_type": "code",
      "metadata": {
        "id": "R3NGBX0-0WIr",
        "colab_type": "code",
        "colab": {}
      },
      "source": [
        "# figure out how to combine them"
      ],
      "execution_count": null,
      "outputs": []
    }
  ]
}