{
  "nbformat": 4,
  "nbformat_minor": 0,
  "metadata": {
    "colab": {
      "name": "Data_Cleansing.ipynb",
      "provenance": [],
      "authorship_tag": "ABX9TyOVmJ/Ze+s882EOYkTvgUQ2",
      "include_colab_link": true
    },
    "kernelspec": {
      "name": "python3",
      "display_name": "Python 3"
    }
  },
  "cells": [
    {
      "cell_type": "markdown",
      "metadata": {
        "id": "view-in-github",
        "colab_type": "text"
      },
      "source": [
        "<a href=\"https://colab.research.google.com/github/steinruck/WANG-690-FALL-2020/blob/master/Data_Cleansing.ipynb\" target=\"_parent\"><img src=\"https://colab.research.google.com/assets/colab-badge.svg\" alt=\"Open In Colab\"/></a>"
      ]
    },
    {
      "cell_type": "code",
      "metadata": {
        "id": "PZchrFkUD40E"
      },
      "source": [
        "# To remove charaacters other than letters and digits from a string \n",
        "x = \"12XY#$weare&!-\" "
      ],
      "execution_count": 2,
      "outputs": []
    },
    {
      "cell_type": "code",
      "metadata": {
        "colab": {
          "base_uri": "https://localhost:8080/",
          "height": 35
        },
        "id": "OAanNl8gELfb",
        "outputId": "1d5cde1b-6abb-4e59-fdec-64cd8bf783c6"
      },
      "source": [
        "# loop\n",
        "new_text = \"\"\n",
        "for c in x:\n",
        "    if c.isalpha() or c.isdigit():\n",
        "        new_text += c\n",
        "new_text"
      ],
      "execution_count": 13,
      "outputs": [
        {
          "output_type": "execute_result",
          "data": {
            "application/vnd.google.colaboratory.intrinsic+json": {
              "type": "string"
            },
            "text/plain": [
              "'12XYweare'"
            ]
          },
          "metadata": {
            "tags": []
          },
          "execution_count": 13
        }
      ]
    },
    {
      "cell_type": "code",
      "metadata": {
        "colab": {
          "base_uri": "https://localhost:8080/",
          "height": 35
        },
        "id": "yRJioKL8En_M",
        "outputId": "81cdebcb-85af-4b71-bc2b-8fee25d064d1"
      },
      "source": [
        "# can use join function\n",
        "char_list = []\n",
        "for c in x:\n",
        "    if c.isalpha() or c.isdigit():\n",
        "        char_list.append(c)\n",
        "new_text2 = \"\".join(char_list)\n",
        "new_text2"
      ],
      "execution_count": 12,
      "outputs": [
        {
          "output_type": "execute_result",
          "data": {
            "application/vnd.google.colaboratory.intrinsic+json": {
              "type": "string"
            },
            "text/plain": [
              "'12XYweare'"
            ]
          },
          "metadata": {
            "tags": []
          },
          "execution_count": 12
        }
      ]
    },
    {
      "cell_type": "code",
      "metadata": {
        "colab": {
          "base_uri": "https://localhost:8080/",
          "height": 35
        },
        "id": "tZiIndKcHKpL",
        "outputId": "5796c639-4350-4ca2-a341-0de27dde5096"
      },
      "source": [
        "x"
      ],
      "execution_count": 19,
      "outputs": [
        {
          "output_type": "execute_result",
          "data": {
            "application/vnd.google.colaboratory.intrinsic+json": {
              "type": "string"
            },
            "text/plain": [
              "'12XY#$weare&!-'"
            ]
          },
          "metadata": {
            "tags": []
          },
          "execution_count": 19
        }
      ]
    },
    {
      "cell_type": "code",
      "metadata": {
        "colab": {
          "base_uri": "https://localhost:8080/",
          "height": 35
        },
        "id": "pkkl2rHMEMzo",
        "outputId": "302a786b-e298-4c96-89d9-55a051f3e7b8"
      },
      "source": [
        "# list comprehension\n",
        "alpha_num = [c for c in x if c.isalpha() or c.isdigit() ]\n",
        "alpha_num = \"\".join(alpha_num)\n",
        "alpha_num\n"
      ],
      "execution_count": 34,
      "outputs": [
        {
          "output_type": "execute_result",
          "data": {
            "application/vnd.google.colaboratory.intrinsic+json": {
              "type": "string"
            },
            "text/plain": [
              "'12XYweare'"
            ]
          },
          "metadata": {
            "tags": []
          },
          "execution_count": 34
        }
      ]
    },
    {
      "cell_type": "code",
      "metadata": {
        "colab": {
          "base_uri": "https://localhost:8080/",
          "height": 35
        },
        "id": "FWbp3O5NED1O",
        "outputId": "4c6c6008-bc92-4aa3-9085-6da919508ab5"
      },
      "source": [
        "# function\n",
        "def alpha_fil(a_string):\n",
        "  if a_string is None:\n",
        "      return a_string\n",
        "  alphanumeric_filter = filter(str.isalnum, a_string)\n",
        "  alphanumeric_string = \"\".join(alphanumeric_filter)\n",
        "  return alphanumeric_string\n",
        "alpha_fil(x)"
      ],
      "execution_count": 44,
      "outputs": [
        {
          "output_type": "execute_result",
          "data": {
            "application/vnd.google.colaboratory.intrinsic+json": {
              "type": "string"
            },
            "text/plain": [
              "'12XYweare'"
            ]
          },
          "metadata": {
            "tags": []
          },
          "execution_count": 44
        }
      ]
    },
    {
      "cell_type": "code",
      "metadata": {
        "colab": {
          "base_uri": "https://localhost:8080/",
          "height": 35
        },
        "id": "Beum7rhpHi5h",
        "outputId": "984c8017-cb87-44da-a29a-0588625ae97e"
      },
      "source": [
        "# list comprehension\n",
        "import string\n",
        "#numbers = list(range(0,10)\n",
        "numbers = [str(i) for i in range(10)]\n",
        "#numbers ['1', '2', '3', '4', '5', '6', '7', '8', '9', '0'])\n",
        "upper_chars = string.ascii_uppercase\n",
        "lower_chars = string.ascii_lowercase\n",
        "char_list = [c for c in x if c in numbers or c in upper_chars or c in lower_chars]\n",
        "new_text = \"\".join(char_list)\n",
        "new_text"
      ],
      "execution_count": 32,
      "outputs": [
        {
          "output_type": "execute_result",
          "data": {
            "application/vnd.google.colaboratory.intrinsic+json": {
              "type": "string"
            },
            "text/plain": [
              "'12XYweare'"
            ]
          },
          "metadata": {
            "tags": []
          },
          "execution_count": 32
        }
      ]
    },
    {
      "cell_type": "code",
      "metadata": {
        "colab": {
          "base_uri": "https://localhost:8080/",
          "height": 142
        },
        "id": "xCGnHfKsJLNT",
        "outputId": "56ffd417-e0b4-4b69-881b-e61ed23cbf50"
      },
      "source": [
        "# remove characters other than letters and digits from a column in dataframe\n",
        "import pandas as pd\n",
        "data = {\"sample_text\": [\"123DVE%$-\", \"werwrewr132324##$rtet^^\", \"greg*I&(^1236%^^%&32r4f3e2\"]}\n",
        "df = pd.DataFrame(data)\n",
        "df"
      ],
      "execution_count": 35,
      "outputs": [
        {
          "output_type": "execute_result",
          "data": {
            "text/html": [
              "<div>\n",
              "<style scoped>\n",
              "    .dataframe tbody tr th:only-of-type {\n",
              "        vertical-align: middle;\n",
              "    }\n",
              "\n",
              "    .dataframe tbody tr th {\n",
              "        vertical-align: top;\n",
              "    }\n",
              "\n",
              "    .dataframe thead th {\n",
              "        text-align: right;\n",
              "    }\n",
              "</style>\n",
              "<table border=\"1\" class=\"dataframe\">\n",
              "  <thead>\n",
              "    <tr style=\"text-align: right;\">\n",
              "      <th></th>\n",
              "      <th>sample_text</th>\n",
              "    </tr>\n",
              "  </thead>\n",
              "  <tbody>\n",
              "    <tr>\n",
              "      <th>0</th>\n",
              "      <td>123DVE%$-</td>\n",
              "    </tr>\n",
              "    <tr>\n",
              "      <th>1</th>\n",
              "      <td>werwrewr132324##$rtet^^</td>\n",
              "    </tr>\n",
              "    <tr>\n",
              "      <th>2</th>\n",
              "      <td>greg*I&amp;(^1236%^^%&amp;32r4f3e2</td>\n",
              "    </tr>\n",
              "  </tbody>\n",
              "</table>\n",
              "</div>"
            ],
            "text/plain": [
              "                  sample_text\n",
              "0                   123DVE%$-\n",
              "1     werwrewr132324##$rtet^^\n",
              "2  greg*I&(^1236%^^%&32r4f3e2"
            ]
          },
          "metadata": {
            "tags": []
          },
          "execution_count": 35
        }
      ]
    },
    {
      "cell_type": "code",
      "metadata": {
        "colab": {
          "base_uri": "https://localhost:8080/",
          "height": 204
        },
        "id": "584AN1wNJ3Kz",
        "outputId": "6ad46bc0-a817-42ed-cc4f-ea4df41cc83e"
      },
      "source": [
        "# uses function from earlier - won't work if there are NONE values\n",
        "df['transformed'] = df['sample_text'].apply(alpha_fil)\n",
        "df"
      ],
      "execution_count": 46,
      "outputs": [
        {
          "output_type": "execute_result",
          "data": {
            "text/html": [
              "<div>\n",
              "<style scoped>\n",
              "    .dataframe tbody tr th:only-of-type {\n",
              "        vertical-align: middle;\n",
              "    }\n",
              "\n",
              "    .dataframe tbody tr th {\n",
              "        vertical-align: top;\n",
              "    }\n",
              "\n",
              "    .dataframe thead th {\n",
              "        text-align: right;\n",
              "    }\n",
              "</style>\n",
              "<table border=\"1\" class=\"dataframe\">\n",
              "  <thead>\n",
              "    <tr style=\"text-align: right;\">\n",
              "      <th></th>\n",
              "      <th>sample_text</th>\n",
              "      <th>transformed</th>\n",
              "    </tr>\n",
              "  </thead>\n",
              "  <tbody>\n",
              "    <tr>\n",
              "      <th>0</th>\n",
              "      <td>123DVE%$-</td>\n",
              "      <td>123DVE</td>\n",
              "    </tr>\n",
              "    <tr>\n",
              "      <th>1</th>\n",
              "      <td>None</td>\n",
              "      <td>None</td>\n",
              "    </tr>\n",
              "    <tr>\n",
              "      <th>2</th>\n",
              "      <td>werwrewr132324##$rtet^^</td>\n",
              "      <td>werwrewr132324rtet</td>\n",
              "    </tr>\n",
              "    <tr>\n",
              "      <th>3</th>\n",
              "      <td>None</td>\n",
              "      <td>None</td>\n",
              "    </tr>\n",
              "    <tr>\n",
              "      <th>4</th>\n",
              "      <td>greg*I&amp;(^1236%^^%&amp;32r4f3e2</td>\n",
              "      <td>gregI123632r4f3e2</td>\n",
              "    </tr>\n",
              "  </tbody>\n",
              "</table>\n",
              "</div>"
            ],
            "text/plain": [
              "                  sample_text         transformed\n",
              "0                   123DVE%$-              123DVE\n",
              "1                        None                None\n",
              "2     werwrewr132324##$rtet^^  werwrewr132324rtet\n",
              "3                        None                None\n",
              "4  greg*I&(^1236%^^%&32r4f3e2   gregI123632r4f3e2"
            ]
          },
          "metadata": {
            "tags": []
          },
          "execution_count": 46
        }
      ]
    },
    {
      "cell_type": "code",
      "metadata": {
        "colab": {
          "base_uri": "https://localhost:8080/",
          "height": 204
        },
        "id": "cUeKQHu5KjFF",
        "outputId": "f7a2ea6f-dce3-44bc-95b1-7c5d971bb656"
      },
      "source": [
        ""
      ],
      "execution_count": 45,
      "outputs": [
        {
          "output_type": "execute_result",
          "data": {
            "text/html": [
              "<div>\n",
              "<style scoped>\n",
              "    .dataframe tbody tr th:only-of-type {\n",
              "        vertical-align: middle;\n",
              "    }\n",
              "\n",
              "    .dataframe tbody tr th {\n",
              "        vertical-align: top;\n",
              "    }\n",
              "\n",
              "    .dataframe thead th {\n",
              "        text-align: right;\n",
              "    }\n",
              "</style>\n",
              "<table border=\"1\" class=\"dataframe\">\n",
              "  <thead>\n",
              "    <tr style=\"text-align: right;\">\n",
              "      <th></th>\n",
              "      <th>sample_text</th>\n",
              "    </tr>\n",
              "  </thead>\n",
              "  <tbody>\n",
              "    <tr>\n",
              "      <th>0</th>\n",
              "      <td>123DVE%$-</td>\n",
              "    </tr>\n",
              "    <tr>\n",
              "      <th>1</th>\n",
              "      <td>None</td>\n",
              "    </tr>\n",
              "    <tr>\n",
              "      <th>2</th>\n",
              "      <td>werwrewr132324##$rtet^^</td>\n",
              "    </tr>\n",
              "    <tr>\n",
              "      <th>3</th>\n",
              "      <td>None</td>\n",
              "    </tr>\n",
              "    <tr>\n",
              "      <th>4</th>\n",
              "      <td>greg*I&amp;(^1236%^^%&amp;32r4f3e2</td>\n",
              "    </tr>\n",
              "  </tbody>\n",
              "</table>\n",
              "</div>"
            ],
            "text/plain": [
              "                  sample_text\n",
              "0                   123DVE%$-\n",
              "1                        None\n",
              "2     werwrewr132324##$rtet^^\n",
              "3                        None\n",
              "4  greg*I&(^1236%^^%&32r4f3e2"
            ]
          },
          "metadata": {
            "tags": []
          },
          "execution_count": 45
        }
      ]
    }
  ]
}