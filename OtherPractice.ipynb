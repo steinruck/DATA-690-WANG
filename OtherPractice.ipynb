{
  "nbformat": 4,
  "nbformat_minor": 0,
  "metadata": {
    "colab": {
      "name": "OtherPractice.ipynb",
      "provenance": [],
      "include_colab_link": true
    },
    "kernelspec": {
      "name": "python3",
      "display_name": "Python 3"
    }
  },
  "cells": [
    {
      "cell_type": "markdown",
      "metadata": {
        "id": "view-in-github",
        "colab_type": "text"
      },
      "source": [
        "<a href=\"https://colab.research.google.com/github/steinruck/WANG-690-FALL-2020/blob/master/OtherPractice.ipynb\" target=\"_parent\"><img src=\"https://colab.research.google.com/assets/colab-badge.svg\" alt=\"Open In Colab\"/></a>"
      ]
    },
    {
      "cell_type": "code",
      "metadata": {
        "id": "0vr-x2-NME9T",
        "colab_type": "code",
        "colab": {}
      },
      "source": [
        "import decimal\n",
        "from decimal import Decimal \n",
        "import statistics"
      ],
      "execution_count": 1,
      "outputs": []
    },
    {
      "cell_type": "code",
      "metadata": {
        "id": "Fzv9bFcJmw-X",
        "colab_type": "code",
        "colab": {
          "base_uri": "https://localhost:8080/",
          "height": 34
        },
        "outputId": "2a7bc817-056d-4775-cb31-4bbca712abf9"
      },
      "source": [
        "45 + 72"
      ],
      "execution_count": 2,
      "outputs": [
        {
          "output_type": "execute_result",
          "data": {
            "text/plain": [
              "117"
            ]
          },
          "metadata": {
            "tags": []
          },
          "execution_count": 2
        }
      ]
    },
    {
      "cell_type": "code",
      "metadata": {
        "id": "97xa_2ycm8dK",
        "colab_type": "code",
        "colab": {
          "base_uri": "https://localhost:8080/",
          "height": 34
        },
        "outputId": "2dc22e0c-2c4d-47a2-ce22-a8b788b77028"
      },
      "source": [
        "5 * (12.7 - 4) / 2"
      ],
      "execution_count": 3,
      "outputs": [
        {
          "output_type": "execute_result",
          "data": {
            "text/plain": [
              "21.75"
            ]
          },
          "metadata": {
            "tags": []
          },
          "execution_count": 3
        }
      ]
    },
    {
      "cell_type": "code",
      "metadata": {
        "id": "fW2POfqinPbL",
        "colab_type": "code",
        "colab": {
          "base_uri": "https://localhost:8080/",
          "height": 34
        },
        "outputId": "dd67772d-114c-4406-ae26-27ccab11d034"
      },
      "source": [
        "10 / 3"
      ],
      "execution_count": 4,
      "outputs": [
        {
          "output_type": "execute_result",
          "data": {
            "text/plain": [
              "3.3333333333333335"
            ]
          },
          "metadata": {
            "tags": []
          },
          "execution_count": 4
        }
      ]
    },
    {
      "cell_type": "code",
      "metadata": {
        "id": "lZHAB8VjRXsP",
        "colab_type": "code",
        "colab": {
          "base_uri": "https://localhost:8080/",
          "height": 34
        },
        "outputId": "36dae454-f03c-46bd-9f66-296d356b0a19"
      },
      "source": [
        "10 // 3    # doesn't float"
      ],
      "execution_count": 5,
      "outputs": [
        {
          "output_type": "execute_result",
          "data": {
            "text/plain": [
              "3"
            ]
          },
          "metadata": {
            "tags": []
          },
          "execution_count": 5
        }
      ]
    },
    {
      "cell_type": "code",
      "metadata": {
        "id": "59RRFj_BRZkj",
        "colab_type": "code",
        "colab": {
          "base_uri": "https://localhost:8080/",
          "height": 163
        },
        "outputId": "cfd8836d-c46e-459b-a685-016e82dabcb3"
      },
      "source": [
        "10 / 0     # can't divide by 0"
      ],
      "execution_count": 6,
      "outputs": [
        {
          "output_type": "error",
          "ename": "ZeroDivisionError",
          "evalue": "ignored",
          "traceback": [
            "\u001b[0;31m---------------------------------------------------------------------------\u001b[0m",
            "\u001b[0;31mZeroDivisionError\u001b[0m                         Traceback (most recent call last)",
            "\u001b[0;32m<ipython-input-6-e8ccd30fe102>\u001b[0m in \u001b[0;36m<module>\u001b[0;34m()\u001b[0m\n\u001b[0;32m----> 1\u001b[0;31m \u001b[0;36m10\u001b[0m \u001b[0;34m/\u001b[0m \u001b[0;36m0\u001b[0m     \u001b[0;31m# can't divide by 0\u001b[0m\u001b[0;34m\u001b[0m\u001b[0;34m\u001b[0m\u001b[0m\n\u001b[0m",
            "\u001b[0;31mZeroDivisionError\u001b[0m: division by zero"
          ]
        }
      ]
    },
    {
      "cell_type": "code",
      "metadata": {
        "id": "jfQn71jXRmmW",
        "colab_type": "code",
        "colab": {}
      },
      "source": [
        "10 // 0    # divide by 0"
      ],
      "execution_count": null,
      "outputs": []
    },
    {
      "cell_type": "code",
      "metadata": {
        "id": "UrNcOv70Rq7k",
        "colab_type": "code",
        "colab": {}
      },
      "source": [
        "0 / 10"
      ],
      "execution_count": null,
      "outputs": []
    },
    {
      "cell_type": "code",
      "metadata": {
        "id": "Mvu0iLppRvpe",
        "colab_type": "code",
        "colab": {}
      },
      "source": [
        "10 // 0    # divide by 0"
      ],
      "execution_count": null,
      "outputs": []
    },
    {
      "cell_type": "code",
      "metadata": {
        "id": "gcxSuO_1R2-X",
        "colab_type": "code",
        "colab": {}
      },
      "source": [
        "10 / 3 + 7"
      ],
      "execution_count": null,
      "outputs": []
    },
    {
      "cell_type": "code",
      "metadata": {
        "id": "idgb-XW0R5Sv",
        "colab_type": "code",
        "colab": {}
      },
      "source": [
        "10 // 3 + 7"
      ],
      "execution_count": null,
      "outputs": []
    },
    {
      "cell_type": "code",
      "metadata": {
        "id": "PhUwW-oKR_WO",
        "colab_type": "code",
        "colab": {}
      },
      "source": [
        "10 / (3 + 7)"
      ],
      "execution_count": null,
      "outputs": []
    },
    {
      "cell_type": "code",
      "metadata": {
        "id": "edN_hLQfSEHr",
        "colab_type": "code",
        "colab": {}
      },
      "source": [
        "10 / 3 - 3"
      ],
      "execution_count": null,
      "outputs": []
    },
    {
      "cell_type": "code",
      "metadata": {
        "id": "zdiFlO6wSGKp",
        "colab_type": "code",
        "colab": {}
      },
      "source": [
        "10 / (3 - 3)    # divide by 0"
      ],
      "execution_count": null,
      "outputs": []
    },
    {
      "cell_type": "code",
      "metadata": {
        "id": "B0DlAEe5SJTk",
        "colab_type": "code",
        "colab": {}
      },
      "source": [
        "10 // (3 - 3)    # divide by 0"
      ],
      "execution_count": null,
      "outputs": []
    },
    {
      "cell_type": "code",
      "metadata": {
        "id": "ECZu9WPJSLnr",
        "colab_type": "code",
        "colab": {}
      },
      "source": [
        "x = 10.8\n",
        "y = 12.2\n",
        "z = 0.2\n",
        "\n",
        "total = x + y + z"
      ],
      "execution_count": null,
      "outputs": []
    },
    {
      "cell_type": "code",
      "metadata": {
        "id": "obkhRZBXV09m",
        "colab_type": "code",
        "colab": {}
      },
      "source": [
        "total"
      ],
      "execution_count": null,
      "outputs": []
    },
    {
      "cell_type": "code",
      "metadata": {
        "id": "Vbos6j8YV3S2",
        "colab_type": "code",
        "colab": {}
      },
      "source": [
        "print('Welcome\\nto\\n\\nPython!')"
      ],
      "execution_count": null,
      "outputs": []
    },
    {
      "cell_type": "code",
      "metadata": {
        "id": "ER0vcyjGZZxJ",
        "colab_type": "code",
        "colab": {}
      },
      "source": [
        "print('this is a longer string, so we \\\n",
        "split it over two lines')"
      ],
      "execution_count": null,
      "outputs": []
    },
    {
      "cell_type": "code",
      "metadata": {
        "id": "sMwKogZ7Z4cm",
        "colab_type": "code",
        "colab": {}
      },
      "source": [
        "print('Sum is', 7 + 3)"
      ],
      "execution_count": null,
      "outputs": []
    },
    {
      "cell_type": "code",
      "metadata": {
        "id": "BtoE3rmtaCPw",
        "colab_type": "code",
        "colab": {}
      },
      "source": [
        "type('word')"
      ],
      "execution_count": null,
      "outputs": []
    },
    {
      "cell_type": "code",
      "metadata": {
        "id": "PF0X-U5gaIGV",
        "colab_type": "code",
        "colab": {}
      },
      "source": [
        "print('int(5.2)', 'truncates 5.2 to', int(5.2))"
      ],
      "execution_count": null,
      "outputs": []
    },
    {
      "cell_type": "code",
      "metadata": {
        "id": "adFHa4rdaU5U",
        "colab_type": "code",
        "colab": {}
      },
      "source": [
        "triple_quoted_string = \"\"\"This is a triple-quoted\n",
        "string that spans two lines\"\"\"\n",
        "print(triple_quoted_string)\n",
        "triple_quoted_string"
      ],
      "execution_count": null,
      "outputs": []
    },
    {
      "cell_type": "code",
      "metadata": {
        "id": "cdB7uQyCb0ey",
        "colab_type": "code",
        "colab": {}
      },
      "source": [
        "print(\"\"\"This is a lengthy\n",
        "  multiline string containing\n",
        "a few lines \\\n",
        "of text\"\"\")"
      ],
      "execution_count": null,
      "outputs": []
    },
    {
      "cell_type": "code",
      "metadata": {
        "id": "DIb_I63ncME2",
        "colab_type": "code",
        "colab": {}
      },
      "source": [
        "name = input(\"What's your name? \")\n",
        "print(name)"
      ],
      "execution_count": null,
      "outputs": []
    },
    {
      "cell_type": "code",
      "metadata": {
        "id": "NpDMNV0ackUy",
        "colab_type": "code",
        "colab": {}
      },
      "source": [
        "name"
      ],
      "execution_count": null,
      "outputs": []
    },
    {
      "cell_type": "code",
      "metadata": {
        "id": "m2kO3ZQBc7Tp",
        "colab_type": "code",
        "colab": {}
      },
      "source": [
        "value1 = input('Enter first number: ')\n",
        "value2 = input('Enter second number: ')\n",
        "value1 + value2"
      ],
      "execution_count": null,
      "outputs": []
    },
    {
      "cell_type": "code",
      "metadata": {
        "id": "d4skBiT3dhEw",
        "colab_type": "code",
        "colab": {}
      },
      "source": [
        "value1 = int(value1)\n",
        "value2 = int(value2)\n",
        "value = value1 + value2\n",
        "value"
      ],
      "execution_count": null,
      "outputs": []
    },
    {
      "cell_type": "code",
      "metadata": {
        "id": "2PXvftEAdwgL",
        "colab_type": "code",
        "colab": {}
      },
      "source": [
        "another_value = int(input('Enter another integer: '))\n",
        "type(another_value)"
      ],
      "execution_count": null,
      "outputs": []
    },
    {
      "cell_type": "code",
      "metadata": {
        "id": "ZxPGs4U8eBc6",
        "colab_type": "code",
        "colab": {}
      },
      "source": [
        "value + another_value"
      ],
      "execution_count": null,
      "outputs": []
    },
    {
      "cell_type": "code",
      "metadata": {
        "id": "BZk-nMCrefIL",
        "colab_type": "code",
        "colab": {}
      },
      "source": [
        "string = float('6.2') * 3.3\n",
        "string"
      ],
      "execution_count": null,
      "outputs": []
    },
    {
      "cell_type": "code",
      "metadata": {
        "id": "2SG8i045eoIZ",
        "colab_type": "code",
        "colab": {}
      },
      "source": [
        "# Comparing integers using if statements and comparision operators\n",
        "print('Enter two integers and I will tell you', \n",
        "      'the relationships they satisfy')\n",
        "\n",
        "# read first integer\n",
        "number1 = int(input('Enter first integer: '))\n",
        "\n",
        "# read second integer\n",
        "number2 = int(input('Enter second integer: '))\n",
        "\n",
        "if number1 == number2:\n",
        "    print(number1, 'is equal to', number2)\n",
        "\n",
        "if number1 != number2:\n",
        "    print(number1, 'is not equal to', number2)\n",
        "\n",
        "if number1 < number2:\n",
        "    print(number1, 'is less than', number2)\n",
        "\n",
        "if number1 > number2:\n",
        "    print(number1, 'is greater than', number2)\n",
        "\n",
        "if number1 <= number2:\n",
        "    print(number1, 'is less than or equal to', number2)\n",
        "\n",
        "if number1 >= number2:\n",
        "    print(number1, 'is greater than or equal to', number2)"
      ],
      "execution_count": null,
      "outputs": []
    },
    {
      "cell_type": "code",
      "metadata": {
        "id": "57zFFxO5hkdl",
        "colab_type": "code",
        "colab": {}
      },
      "source": [
        "x = 3\n",
        "1 <= x <= 5"
      ],
      "execution_count": null,
      "outputs": []
    },
    {
      "cell_type": "code",
      "metadata": {
        "id": "v27ELwj2ht-b",
        "colab_type": "code",
        "colab": {}
      },
      "source": [
        "x = 10 \n",
        "1 <= x <= 5"
      ],
      "execution_count": null,
      "outputs": []
    },
    {
      "cell_type": "code",
      "metadata": {
        "id": "EsL_TYSJhzrf",
        "colab_type": "code",
        "colab": {}
      },
      "source": [
        "# find minumum of three values\n",
        "number1 = int(input('Enter first integer: '))\n",
        "number2 = int(input('Enter second integer: '))\n",
        "number3 = int(input('Enter third integer: '))\n",
        "\n",
        "minimum = number1\n",
        "\n",
        "if number2 < minimum:\n",
        "    minimum = number2\n",
        "\n",
        "if number3 < minimum: \n",
        "    minimum = number3\n",
        "\n",
        "print('Minumum value is', minimum)"
      ],
      "execution_count": null,
      "outputs": []
    },
    {
      "cell_type": "code",
      "metadata": {
        "id": "dvSsPSRXjMnv",
        "colab_type": "code",
        "colab": {}
      },
      "source": [
        "minimum = min(47, 95, 88, 73, 88, 84)\n",
        "print(minimum)\n",
        "maximum = max(47, 95, 88, 73, 88, 84)\n",
        "print(maximum)\n",
        "print('Range:', min(47, 95, 88, 73, 88, 84), \"-\", max(47, 95, 88, 73, 88, 84))"
      ],
      "execution_count": null,
      "outputs": []
    },
    {
      "cell_type": "code",
      "metadata": {
        "id": "VlGU28UQNSr0",
        "colab_type": "code",
        "colab": {}
      },
      "source": [
        "total = 0\n",
        "grade_counter = 0\n",
        "grades = [98, 76, 71, 87, 83, 90, 57, 79, 82, 94]\n",
        "\n",
        "for grade in grades:\n",
        "    total += grade\n",
        "    grade_counter += 1 \n",
        "\n",
        "average = total / grade_counter\n",
        "print(f'Class average is {average}')\n",
        "print(\"Class average is\", average)"
      ],
      "execution_count": null,
      "outputs": []
    },
    {
      "cell_type": "code",
      "metadata": {
        "id": "rVmlWEpADIKG",
        "colab_type": "code",
        "colab": {}
      },
      "source": [
        "\"\"\"Class average program with sentinel-controlled iteration\"\"\"\n",
        "\n",
        "total = 0 \n",
        "grade_counter = 0\n",
        "\n",
        "grade = int(input('Enter grade, -1 to end: '))\n",
        "\n",
        "while grade != -1:\n",
        "    total += grade\n",
        "    grade_counter += 1 \n",
        "    grade = int(input('Enter grade, -1 to end: '))\n",
        "\n",
        "if grade_counter != 0:\n",
        "    average = total / grade_counter\n",
        "    print(f'Class average is {average:.2f}')\n",
        "else:\n",
        "    print('No grades were entered')"
      ],
      "execution_count": null,
      "outputs": []
    },
    {
      "cell_type": "code",
      "metadata": {
        "id": "z9fidiXfFK_5",
        "colab_type": "code",
        "colab": {}
      },
      "source": [
        "\"\"\"Using nested control statements to analyze examination results\"\"\"\n",
        "\n",
        "passes = 0\n",
        "failures = 0 \n",
        "\n",
        "for student in range(10):\n",
        "    result = int(input('Enter result (1=pass, 2=fail): '))\n",
        "\n",
        "    if result == 1:\n",
        "        passes = passes + 1\n",
        "    else:\n",
        "        failures = failures + 1\n",
        "\n",
        "print('Passed:', passes)\n",
        "print('Failed: ', failures)\n",
        "\n",
        "if passes > 8:\n",
        "    print('Bonus to instructor')"
      ],
      "execution_count": null,
      "outputs": []
    },
    {
      "cell_type": "code",
      "metadata": {
        "id": "PgAbyFvuLoFc",
        "colab_type": "code",
        "colab": {}
      },
      "source": [
        "amount = 112.31\n",
        "print(amount)\n",
        "print(f'{amount:.20f}')"
      ],
      "execution_count": null,
      "outputs": []
    },
    {
      "cell_type": "code",
      "metadata": {
        "id": "93-7W6qmLucr",
        "colab_type": "code",
        "colab": {}
      },
      "source": [
        "principal = Decimal('1000.00')\n",
        "\n",
        "principal\n",
        "\n",
        "rate = Decimal('0.05')\n",
        "\n",
        "rate"
      ],
      "execution_count": null,
      "outputs": []
    },
    {
      "cell_type": "code",
      "metadata": {
        "id": "eY60tVeLMaJg",
        "colab_type": "code",
        "colab": {}
      },
      "source": [
        "x = Decimal('10.5')\n",
        "y = Decimal('2')\n",
        "\n",
        "x + y\n",
        "x // y\n",
        "x += y\n",
        "x"
      ],
      "execution_count": null,
      "outputs": []
    },
    {
      "cell_type": "code",
      "metadata": {
        "id": "G1I8R8KtNXiu",
        "colab_type": "code",
        "colab": {}
      },
      "source": [
        "for year in range(1, 11):\n",
        "    amount = principal * (1 + rate) ** year\n",
        "    print(f'{year:>2}{amount:>10.2f}')"
      ],
      "execution_count": null,
      "outputs": []
    },
    {
      "cell_type": "code",
      "metadata": {
        "id": "F89keijvcEBd",
        "colab_type": "code",
        "colab": {}
      },
      "source": [
        "for number in range(100):\n",
        "    if number == 10: #stops before 10\n",
        "        break \n",
        "    print(number, end=' ')"
      ],
      "execution_count": null,
      "outputs": []
    },
    {
      "cell_type": "code",
      "metadata": {
        "id": "AeMgWN92c576",
        "colab_type": "code",
        "colab": {}
      },
      "source": [
        "for number in range(10):\n",
        "    if number == 5: # skips the number 5\n",
        "        continue\n",
        "    print(number, end=' ')"
      ],
      "execution_count": null,
      "outputs": []
    },
    {
      "cell_type": "code",
      "metadata": {
        "id": "oc6FLibTdSSS",
        "colab_type": "code",
        "colab": {}
      },
      "source": [
        "gender = 'Female'\n",
        "age = 70\n",
        "\n",
        "if gender == 'Female' and age >= 65: # boolean and means both conditions must be true\n",
        "    print('Senior Female')"
      ],
      "execution_count": null,
      "outputs": []
    },
    {
      "cell_type": "code",
      "metadata": {
        "id": "vvnWaHR_dfVF",
        "colab_type": "code",
        "colab": {}
      },
      "source": [
        "semester_average = 83\n",
        "final_exam = 95\n",
        "\n",
        "if semester_average >= 90 or final_exam >= 90:\n",
        "    print('Student gets and A')"
      ],
      "execution_count": null,
      "outputs": []
    },
    {
      "cell_type": "code",
      "metadata": {
        "id": "KZ1UB4Ncf8tk",
        "colab_type": "code",
        "colab": {}
      },
      "source": [
        "grade = 87\n",
        "\n",
        "if not grade == -1:\n",
        "    print('The next grade is:', grade)\n",
        "\n",
        "if grade != -1:\n",
        "    print('The next grade is:', grade)"
      ],
      "execution_count": null,
      "outputs": []
    },
    {
      "cell_type": "code",
      "metadata": {
        "id": "L8WigPESgHMR",
        "colab_type": "code",
        "colab": {}
      },
      "source": [
        "grades = [85, 93, 45, 89, 85]\n",
        "\n",
        "sum(grades) / len(grades)"
      ],
      "execution_count": null,
      "outputs": []
    },
    {
      "cell_type": "code",
      "metadata": {
        "id": "TTi57jWvijy0",
        "colab_type": "code",
        "colab": {}
      },
      "source": [
        "mean = statistics.mean(grades)\n",
        "median = statistics.median(grades)\n",
        "mode = statistics.mode(grades)\n",
        "print(sorted(grades)) \n",
        "print(mean)\n",
        "print(median)\n",
        "print(mode)"
      ],
      "execution_count": null,
      "outputs": []
    },
    {
      "cell_type": "code",
      "metadata": {
        "id": "jU_NcuSHk3YT",
        "colab_type": "code",
        "colab": {
          "base_uri": "https://localhost:8080/",
          "height": 85
        },
        "outputId": "97e866e8-80eb-44c1-c454-c95014262c3f"
      },
      "source": [
        "x = 2\n",
        "y = 3\n",
        "\n",
        "print('x =', x)\n",
        "print('Value of', x, '+', x, 'is', ((x + x)))\n",
        "print('x =')\n",
        "print(x + y, '=', y + x)"
      ],
      "execution_count": 12,
      "outputs": [
        {
          "output_type": "stream",
          "text": [
            "x = 2\n",
            "Value of 2 + 2 is 4\n",
            "x =\n",
            "5 = 5\n"
          ],
          "name": "stdout"
        }
      ]
    },
    {
      "cell_type": "code",
      "metadata": {
        "id": "fWDfvUohnUc2",
        "colab_type": "code",
        "colab": {
          "base_uri": "https://localhost:8080/",
          "height": 34
        },
        "outputId": "573848d8-a65b-46f2-afce-02482a6194a4"
      },
      "source": [
        "values = [47, 95, 88, 73, 88, 84]\n",
        "\n",
        "minimum = min(values)\n",
        "maximum = max(values)\n",
        "\n",
        "print('Range:', minimum, '-', maximum)"
      ],
      "execution_count": 16,
      "outputs": [
        {
          "output_type": "stream",
          "text": [
            "Range: 47 - 95\n"
          ],
          "name": "stdout"
        }
      ]
    },
    {
      "cell_type": "code",
      "metadata": {
        "id": "m50JdKnToAGd",
        "colab_type": "code",
        "colab": {
          "base_uri": "https://localhost:8080/",
          "height": 34
        },
        "outputId": "5829b857-9e1f-4e1c-aa29-6666dc4a1077"
      },
      "source": [
        "grade = 91\n",
        "\n",
        "if grade >= 90:\n",
        "    print('Congratulations! Your grade of', grade, 'earns you an A in this course')"
      ],
      "execution_count": 18,
      "outputs": [
        {
          "output_type": "stream",
          "text": [
            "Congratulations! Your grade of 91 earns you an A in this course\n"
          ],
          "name": "stdout"
        }
      ]
    },
    {
      "cell_type": "code",
      "metadata": {
        "id": "S7hrkw8brjXs",
        "colab_type": "code",
        "colab": {
          "base_uri": "https://localhost:8080/",
          "height": 34
        },
        "outputId": "f7670bed-9468-4a47-941a-de68feba2a42"
      },
      "source": [
        "def square(number):\n",
        "    \"\"\"Calculate the square of number.\"\"\"\n",
        "    return number ** 2\n",
        "\n",
        "square(7)"
      ],
      "execution_count": 20,
      "outputs": [
        {
          "output_type": "execute_result",
          "data": {
            "text/plain": [
              "49"
            ]
          },
          "metadata": {
            "tags": []
          },
          "execution_count": 20
        }
      ]
    },
    {
      "cell_type": "code",
      "metadata": {
        "id": "jvRDjcxLr3jt",
        "colab_type": "code",
        "colab": {
          "base_uri": "https://localhost:8080/",
          "height": 34
        },
        "outputId": "07a8a5a8-5a95-442a-f063-08ac1f128b79"
      },
      "source": [
        "square(2.5)"
      ],
      "execution_count": 21,
      "outputs": [
        {
          "output_type": "execute_result",
          "data": {
            "text/plain": [
              "6.25"
            ]
          },
          "metadata": {
            "tags": []
          },
          "execution_count": 21
        }
      ]
    }
  ]
}