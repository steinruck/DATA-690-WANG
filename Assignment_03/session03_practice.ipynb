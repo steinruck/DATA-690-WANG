{
  "nbformat": 4,
  "nbformat_minor": 0,
  "metadata": {
    "colab": {
      "name": "session03_practice.ipynb",
      "provenance": [],
      "authorship_tag": "ABX9TyNXuIwyJdd1kWqxyISvSeAL",
      "include_colab_link": true
    },
    "kernelspec": {
      "name": "python3",
      "display_name": "Python 3"
    }
  },
  "cells": [
    {
      "cell_type": "markdown",
      "metadata": {
        "id": "view-in-github",
        "colab_type": "text"
      },
      "source": [
        "<a href=\"https://colab.research.google.com/github/steinruck/WANG-690-FALL-2020/blob/master/Assignment_03/session03_practice.ipynb\" target=\"_parent\"><img src=\"https://colab.research.google.com/assets/colab-badge.svg\" alt=\"Open In Colab\"/></a>"
      ]
    },
    {
      "cell_type": "code",
      "metadata": {
        "id": "lWXAUka-ad-q",
        "colab_type": "code",
        "colab": {
          "base_uri": "https://localhost:8080/",
          "height": 54
        },
        "outputId": "620a67ef-0123-435c-985b-1be5c9e1aaee"
      },
      "source": [
        "names = \"Wang, Chaojie; Seelam, Arjun Reddy; Rius, Jonathan; Liang, Jinqing; Chowdhury, Debanjan; Maszkiewicz, Lori; Negussie, Neftalem; Steinruck, Michaella; Phogat, Shreshta; Fatima, Misha; Hirabayashi, Scott; Soroush, Masoud; Bolz, Jessica; Mbu Nyamsi, Tchuissi; Dokuzoglu, Yuksel; Gogineni, Shailesh; Pabbisetty, Sai Vinay; Preis, Liam; Jyesta, Vishnu Priya; Narne, Yoshita; Boban, Shruthi; Oberoi, Ashreen Kaur; Cohens, Nashika; Noppinger, Ken; Kakani, Goutham; Hayo, Alyssa\"\n",
        "print(names)"
      ],
      "execution_count": 3,
      "outputs": [
        {
          "output_type": "stream",
          "text": [
            "Wang, Chaojie; Seelam, Arjun Reddy; Rius, Jonathan; Liang, Jinqing; Chowdhury, Debanjan; Maszkiewicz, Lori; Negussie, Neftalem; Steinruck, Michaella; Phogat, Shreshta; Fatima, Misha; Hirabayashi, Scott; Soroush, Masoud; Bolz, Jessica; Mbu Nyamsi, Tchuissi; Dokuzoglu, Yuksel; Gogineni, Shailesh; Pabbisetty, Sai Vinay; Preis, Liam; Jyesta, Vishnu Priya; Narne, Yoshita; Boban, Shruthi; Oberoi, Ashreen Kaur; Cohens, Nashika; Noppinger, Ken; Kakani, Goutham; Hayo, Alyssa\n"
          ],
          "name": "stdout"
        }
      ]
    },
    {
      "cell_type": "code",
      "metadata": {
        "id": "yz8GTi1ziVpM",
        "colab_type": "code",
        "colab": {
          "base_uri": "https://localhost:8080/",
          "height": 54
        },
        "outputId": "804a19c5-946e-4855-f6cc-3d2a9e344f4f"
      },
      "source": [
        "names_list = names.split(\";\") # splits names using ';'\n",
        "print(names_list)"
      ],
      "execution_count": 4,
      "outputs": [
        {
          "output_type": "stream",
          "text": [
            "['Wang, Chaojie', ' Seelam, Arjun Reddy', ' Rius, Jonathan', ' Liang, Jinqing', ' Chowdhury, Debanjan', ' Maszkiewicz, Lori', ' Negussie, Neftalem', ' Steinruck, Michaella', ' Phogat, Shreshta', ' Fatima, Misha', ' Hirabayashi, Scott', ' Soroush, Masoud', ' Bolz, Jessica', ' Mbu Nyamsi, Tchuissi', ' Dokuzoglu, Yuksel', ' Gogineni, Shailesh', ' Pabbisetty, Sai Vinay', ' Preis, Liam', ' Jyesta, Vishnu Priya', ' Narne, Yoshita', ' Boban, Shruthi', ' Oberoi, Ashreen Kaur', ' Cohens, Nashika', ' Noppinger, Ken', ' Kakani, Goutham', ' Hayo, Alyssa']\n"
          ],
          "name": "stdout"
        }
      ]
    },
    {
      "cell_type": "code",
      "metadata": {
        "id": "UhJ2A_-AigjJ",
        "colab_type": "code",
        "colab": {
          "base_uri": "https://localhost:8080/",
          "height": 54
        },
        "outputId": "f37263b9-4a62-4965-ad18-2c5ad0dd9c52"
      },
      "source": [
        "# splits each item in list by ',' only prints first names\n",
        "first_names =[]\n",
        "for person in names_list:\n",
        "  first_names.append(person.split(\",\")[1])\n",
        "\n",
        "print(first_names)\n"
      ],
      "execution_count": 7,
      "outputs": [
        {
          "output_type": "stream",
          "text": [
            "[' Chaojie', ' Arjun Reddy', ' Jonathan', ' Jinqing', ' Debanjan', ' Lori', ' Neftalem', ' Michaella', ' Shreshta', ' Misha', ' Scott', ' Masoud', ' Jessica', ' Tchuissi', ' Yuksel', ' Shailesh', ' Sai Vinay', ' Liam', ' Vishnu Priya', ' Yoshita', ' Shruthi', ' Ashreen Kaur', ' Nashika', ' Ken', ' Goutham', ' Alyssa']\n"
          ],
          "name": "stdout"
        }
      ]
    },
    {
      "cell_type": "code",
      "metadata": {
        "id": "LvYLyT8eleSv",
        "colab_type": "code",
        "colab": {
          "base_uri": "https://localhost:8080/",
          "height": 34
        },
        "outputId": "0159b8cc-4e3a-4b13-99ff-3e1cffe8a500"
      },
      "source": [
        "len(first_names) # number of people in class "
      ],
      "execution_count": 50,
      "outputs": [
        {
          "output_type": "execute_result",
          "data": {
            "text/plain": [
              "26"
            ]
          },
          "metadata": {
            "tags": []
          },
          "execution_count": 50
        }
      ]
    }
  ]
}