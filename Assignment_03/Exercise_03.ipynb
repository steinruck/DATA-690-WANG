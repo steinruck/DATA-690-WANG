{
  "nbformat": 4,
  "nbformat_minor": 0,
  "metadata": {
    "colab": {
      "name": "Exercise-03.ipynb",
      "provenance": [],
      "authorship_tag": "ABX9TyOdukCdBEEPIf693dMfm+3E",
      "include_colab_link": true
    },
    "kernelspec": {
      "name": "python3",
      "display_name": "Python 3"
    }
  },
  "cells": [
    {
      "cell_type": "markdown",
      "metadata": {
        "id": "view-in-github",
        "colab_type": "text"
      },
      "source": [
        "<a href=\"https://colab.research.google.com/github/steinruck/WANG-690-FALL-2020/blob/master/Assignment_03/Exercise_03.ipynb\" target=\"_parent\"><img src=\"https://colab.research.google.com/assets/colab-badge.svg\" alt=\"Open In Colab\"/></a>"
      ]
    },
    {
      "cell_type": "code",
      "metadata": {
        "id": "3TC3CKnbIn1M",
        "colab_type": "code",
        "colab": {}
      },
      "source": [
        ""
      ],
      "execution_count": null,
      "outputs": []
    },
    {
      "cell_type": "markdown",
      "metadata": {
        "id": "1V24KbIVzqCY",
        "colab_type": "text"
      },
      "source": [
        "Uses if/else statements\n",
        "no special functions\n",
        "just fundamentals\n",
        "\n",
        "can use numpy but he would prefer built in python since we didn't cover NumPy yet"
      ]
    },
    {
      "cell_type": "markdown",
      "metadata": {
        "id": "uyQ0MzD9IrHX",
        "colab_type": "text"
      },
      "source": [
        "# Assignment 03\n",
        "## The Problem:\n",
        "### Write a program that generates 100 random integers between 0 and 9.\n",
        "\n",
        "### Print them in a 10 by 10 matrix neatly arranged like the following (one space between each number): (no bullets)\n",
        "\n",
        " - 5 1 5 6 2 7 8 6 4 2 \n",
        " - 2 3 7 0 6 9 2 4 2 8 \n",
        " - 0 0 8 6 4 1 7 2 7 6 \n",
        " - 0 1 9 0 0 8 5 8 6 8 \n",
        " - 4 1 0 5 5 7 4 6 4 4 \n",
        " - 6 0 2 0 1 9 8 2 3 9 \n",
        " - 4 0 4 8 1 7 6 6 2 1 \n",
        " - 1 7 6 8 5 4 1 9 6 7 \n",
        " - 6 4 7 9 9 3 8 2 6 1 \n",
        " - 9 0 6 4 0 1 0 6 9 9 \n",
        "\n",
        "### If the random number is an odd number, print \"@\" instead. like the following:\n",
        "\n",
        "  - @ @ 0 2 6 @ 8 8 0 0 \n",
        "  - @ 4 @ 4 4 @ 2 @ 2 2 \n",
        "  - @ 6 8 @ @ @ 0 @ 0 @ \n",
        "  - 2 6 @ 0 @ 2 @ @ 0 @ \n",
        "  - 8 4 @ @ @ 0 @ @ 6 @ \n",
        "  - @ @ 4 6 @ @ @ 2 @ 2 \n",
        "  - @ @ @ @ 4 @ @ 2 2 0 \n",
        "  - @ 6 @ 0 0 8 @ 2 0 @ \n",
        "  - 8 8 @ @ @ 0 0 @ 4 6 \n",
        "  - @ 2 2 6 8 2 @ @ @ 6\n",
        "\n",
        "### Calculate and Print the total of each row like the following (use \"*\" to separate the total from the numbers):\n",
        "7 6 5 8 8 0 7 6 0 1 * 48 \n",
        "8 5 7 9 8 0 9 3 0 1 * 50 \n",
        "4 0 3 5 3 9 0 8 3 9 * 44 \n",
        "3 5 5 3 8 3 4 3 2 2 * 38 \n",
        "7 7 4 1 2 7 2 3 0 8 * 41 \n",
        "3 9 7 7 0 9 4 0 6 5 * 50 \n",
        "1 9 7 1 3 0 0 1 4 5 * 31 \n",
        "4 4 0 6 7 4 5 6 9 3 * 48 \n",
        "2 1 1 4 2 0 1 2 9 2 * 24\n",
        "2 1 6 7 7 8 1 0 0 4 * 36\n",
        "\n",
        "### Optional: Surround the matrix with asterisks (*) like the following:\n",
        "***********************\n",
        "* 5 1 5 6 2 7 8 6 4 2 *\n",
        "* 2 3 7 0 6 9 2 4 2 8 *\n",
        "* 0 0 8 6 4 1 7 2 7 6 *\n",
        "* 0 1 9 0 0 8 5 8 6 8 *\n",
        "* 4 1 0 5 5 7 4 6 4 4 *\n",
        "* 6 0 2 0 1 9 8 2 3 9 *\n",
        "* 4 0 4 8 1 7 6 6 2 1 *\n",
        "* 1 7 6 8 5 4 1 9 6 7 *\n",
        "* 6 4 7 9 9 3 8 2 6 1 *\n",
        "* 9 0 6 4 0 1 0 6 9 9 *\n",
        "***********************\n",
        "\n",
        "## The Requirements:\n",
        "- You should program and test the solution in Jupyter notebook:\n",
        "- Save/upload the notebook file to your GitHub repository\n",
        "- Submit the link of your GitHub repo to BB.\n",
        "\n",
        "### Hints:\n",
        "- You can use Python standard library random to generate one random number at a time\n",
        "- Alternatively you can use NumPy random library to generate 10 numbers at a time or 100 random number altogether in one shot.\n",
        "- You are likely to use nested loop - a loop within in another loop since you are dealing with a 10 x 10 matrix.\n",
        "- You will use modular operator (%) to determine if an integer is an odd number or an even number.\n",
        "- Use the \"end=\" option of the print() function to avoid a new line after the print and also to add additional spaces.\n",
        "for example, print(9, end=\" \") will print 9 followed by three spaces and not starting a new line.\n",
        "- Think through the logic. Try simple things first. Don't make it too complicated. You only need a few lines of code."
      ]
    }
  ]
}