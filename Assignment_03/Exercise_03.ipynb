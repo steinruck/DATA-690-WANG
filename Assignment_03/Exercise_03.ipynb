{
  "nbformat": 4,
  "nbformat_minor": 0,
  "metadata": {
    "colab": {
      "name": "Exercise-03.ipynb",
      "provenance": [],
      "authorship_tag": "ABX9TyNO58ZoL8R7j0d34aq75R/w",
      "include_colab_link": true
    },
    "kernelspec": {
      "name": "python3",
      "display_name": "Python 3"
    }
  },
  "cells": [
    {
      "cell_type": "markdown",
      "metadata": {
        "id": "view-in-github",
        "colab_type": "text"
      },
      "source": [
        "<a href=\"https://colab.research.google.com/github/steinruck/WANG-690-FALL-2020/blob/master/Assignment_03/Exercise_03.ipynb\" target=\"_parent\"><img src=\"https://colab.research.google.com/assets/colab-badge.svg\" alt=\"Open In Colab\"/></a>"
      ]
    },
    {
      "cell_type": "code",
      "metadata": {
        "id": "ELgkR6-d8ETq",
        "colab_type": "code",
        "colab": {}
      },
      "source": [
        "import random\n",
        "import math"
      ],
      "execution_count": 1,
      "outputs": []
    },
    {
      "cell_type": "code",
      "metadata": {
        "id": "c9ChkjiqUXoz",
        "colab_type": "code",
        "colab": {}
      },
      "source": [
        "# generates 100 random numbers between 0 and 9 and stores in numbers_list\n",
        "numbers_list = []\n",
        "for x in range(0, 100):\n",
        "    numbers_list.append(random.randint(0,9))"
      ],
      "execution_count": 61,
      "outputs": []
    },
    {
      "cell_type": "code",
      "metadata": {
        "id": "wxPus-3LO-yy",
        "colab_type": "code",
        "colab": {
          "base_uri": "https://localhost:8080/",
          "height": 190
        },
        "outputId": "5bdfeaa2-d855-4825-e14f-94a9cfe30d0f"
      },
      "source": [
        "# sets counter to zero, counts through 10 and increases counter. Counter = 10 prints ends line and resets counter to 0\n",
        "counter = 0\n",
        "for y in numbers_list:\n",
        "    print(str(y), end=' ')\n",
        "    counter += 1\n",
        "    if counter == 10:\n",
        "        counter = 0\n",
        "        print()"
      ],
      "execution_count": 2,
      "outputs": [
        {
          "output_type": "stream",
          "text": [
            "4 2 5 8 7 8 1 0 7 6 \n",
            "2 2 0 4 9 7 0 0 1 0 \n",
            "5 2 8 0 1 3 5 5 0 6 \n",
            "5 9 0 8 3 5 8 0 1 6 \n",
            "9 2 7 3 6 6 0 4 4 6 \n",
            "3 6 4 9 0 4 1 0 9 2 \n",
            "2 6 8 7 3 5 5 6 3 7 \n",
            "8 8 0 2 7 2 5 8 7 9 \n",
            "8 2 6 5 1 0 5 8 6 8 \n",
            "8 5 8 0 2 3 4 2 0 6 \n"
          ],
          "name": "stdout"
        }
      ]
    },
    {
      "cell_type": "code",
      "metadata": {
        "colab_type": "code",
        "id": "5ejE-PrkW9aB",
        "colab": {
          "base_uri": "https://localhost:8080/",
          "height": 190
        },
        "outputId": "8b06929c-109e-4b5a-a162-5c838f7f793a"
      },
      "source": [
        "# takes the above code and uses modular operator to check odd numbers and replaces with @ with if statement\n",
        "for y in numbers_list:\n",
        "    if y %2 == 1:\n",
        "        print('@', end=' ')\n",
        "    else:\n",
        "        print(str(y), end=' ')\n",
        "    counter += 1\n",
        "    if counter == 10:\n",
        "        counter = 0\n",
        "        print()\n",
        "# print(numbers_list) use to verify odds are replaced "
      ],
      "execution_count": 60,
      "outputs": [
        {
          "output_type": "stream",
          "text": [
            "@ 4 @ 0 6 @ 6 @ @ 4 \n",
            "4 @ 8 6 4 @ 8 8 @ 4 \n",
            "@ @ 6 8 4 @ @ 2 6 @ \n",
            "6 @ @ 4 4 @ @ @ @ 2 \n",
            "@ @ @ 0 @ 0 0 8 2 @ \n",
            "4 2 6 4 @ @ 8 6 4 @ \n",
            "@ 8 @ 0 2 @ @ 0 2 @ \n",
            "4 @ 8 4 @ 2 @ 8 @ 8 \n",
            "2 8 @ @ @ @ @ 8 8 8 \n",
            "@ @ @ @ @ 2 2 8 2 @ \n"
          ],
          "name": "stdout"
        }
      ]
    },
    {
      "cell_type": "code",
      "metadata": {
        "id": "mGMo35hjXZn_",
        "colab_type": "code",
        "colab": {
          "base_uri": "https://localhost:8080/",
          "height": 190
        },
        "outputId": "139efed9-4eca-467a-c3a2-8b398f48d2b8"
      },
      "source": [
        "# takes original loop, adds an asterisk at the end of each row, set row total to 0, adds items in row for each iteration of loop until counter == 10\n",
        "# resets row_total to 0 for next iteration\n",
        "row_total = 0\n",
        "for y in numbers_list:\n",
        "    row_total += y\n",
        "    print(str(y), end=' ')\n",
        "    counter += 1\n",
        "    if counter == 10:\n",
        "        counter = 0\n",
        "        print('*', row_total, end=' ')\n",
        "        row_total = 0\n",
        "        print()\n",
        "\n"
      ],
      "execution_count": 59,
      "outputs": [
        {
          "output_type": "stream",
          "text": [
            "5 4 1 0 6 1 6 9 3 4 * 39 \n",
            "4 1 8 6 4 5 8 8 9 4 * 57 \n",
            "9 3 6 8 4 9 5 2 6 9 * 61 \n",
            "6 5 3 4 4 3 5 7 9 2 * 48 \n",
            "1 1 5 0 9 0 0 8 2 5 * 31 \n",
            "4 2 6 4 5 3 8 6 4 5 * 47 \n",
            "3 8 7 0 2 3 9 0 2 9 * 43 \n",
            "4 1 8 4 1 2 7 8 3 8 * 46 \n",
            "2 8 5 9 1 7 7 8 8 8 * 63 \n",
            "7 7 5 5 1 2 2 8 2 1 * 40 \n"
          ],
          "name": "stdout"
        }
      ]
    },
    {
      "cell_type": "code",
      "metadata": {
        "id": "ph4_61dFXWp9",
        "colab_type": "code",
        "colab": {
          "base_uri": "https://localhost:8080/",
          "height": 225
        },
        "outputId": "5a174f4e-5c43-4ef2-c9c2-08364fa0f19e"
      },
      "source": [
        "# adds line of asterisks to top an bottom of list \n",
        "# if statement to add asterisk at before every number when counter == 0 \n",
        "print('***********************')\n",
        "for y in numbers_list:\n",
        "    if counter == 0:\n",
        "        print('*', str(y), end=' ')\n",
        "    else:\n",
        "        print(str(y), end=' ')\n",
        "    counter += 1\n",
        "    if counter == 10:\n",
        "            counter = 0\n",
        "            print('*', end=' ')\n",
        "            print()\n",
        "print('***********************')"
      ],
      "execution_count": 58,
      "outputs": [
        {
          "output_type": "stream",
          "text": [
            "***********************\n",
            "* 5 4 1 0 6 1 6 9 3 4 * \n",
            "* 4 1 8 6 4 5 8 8 9 4 * \n",
            "* 9 3 6 8 4 9 5 2 6 9 * \n",
            "* 6 5 3 4 4 3 5 7 9 2 * \n",
            "* 1 1 5 0 9 0 0 8 2 5 * \n",
            "* 4 2 6 4 5 3 8 6 4 5 * \n",
            "* 3 8 7 0 2 3 9 0 2 9 * \n",
            "* 4 1 8 4 1 2 7 8 3 8 * \n",
            "* 2 8 5 9 1 7 7 8 8 8 * \n",
            "* 7 7 5 5 1 2 2 8 2 1 * \n",
            "***********************\n"
          ],
          "name": "stdout"
        }
      ]
    },
    {
      "cell_type": "code",
      "metadata": {
        "id": "E1mmlSUc8LzQ",
        "colab_type": "code",
        "colab": {}
      },
      "source": [
        "# used to verify 100 numbers in list\n",
        "# len(numbers_list)"
      ],
      "execution_count": null,
      "outputs": []
    }
  ]
}