{
  "nbformat": 4,
  "nbformat_minor": 0,
  "metadata": {
    "colab": {
      "name": "Exercise-03.ipynb",
      "provenance": [],
      "authorship_tag": "ABX9TyM9z/PjT7vgWlyp34kN0MH8",
      "include_colab_link": true
    },
    "kernelspec": {
      "name": "python3",
      "display_name": "Python 3"
    }
  },
  "cells": [
    {
      "cell_type": "markdown",
      "metadata": {
        "id": "view-in-github",
        "colab_type": "text"
      },
      "source": [
        "<a href=\"https://colab.research.google.com/github/steinruck/WANG-690-FALL-2020/blob/master/Assignment_03/Exercise_03.ipynb\" target=\"_parent\"><img src=\"https://colab.research.google.com/assets/colab-badge.svg\" alt=\"Open In Colab\"/></a>"
      ]
    },
    {
      "cell_type": "code",
      "metadata": {
        "id": "3TC3CKnbIn1M",
        "colab_type": "code",
        "colab": {}
      },
      "source": [
        ""
      ],
      "execution_count": null,
      "outputs": []
    },
    {
      "cell_type": "markdown",
      "metadata": {
        "id": "1V24KbIVzqCY",
        "colab_type": "text"
      },
      "source": [
        "Uses if/else statements\n",
        "no special functions\n",
        "just fundamentals\n",
        "\n",
        "can use numpy but he would prefer built in python since we didn't cover NumPy yet"
      ]
    },
    {
      "cell_type": "markdown",
      "metadata": {
        "id": "uyQ0MzD9IrHX",
        "colab_type": "text"
      },
      "source": [
        "\n",
        "### If the random number is an odd number, print \"@\" instead. like the following:\n",
        "\n",
        "  - @ @ 0 2 6 @ 8 8 0 0 \n",
        "  - @ 4 @ 4 4 @ 2 @ 2 2 \n",
        "  - @ 6 8 @ @ @ 0 @ 0 @ \n",
        "  - 2 6 @ 0 @ 2 @ @ 0 @ \n",
        "  - 8 4 @ @ @ 0 @ @ 6 @ \n",
        "  - @ @ 4 6 @ @ @ 2 @ 2 \n",
        "  - @ @ @ @ 4 @ @ 2 2 0 \n",
        "  - @ 6 @ 0 0 8 @ 2 0 @ \n",
        "  - 8 8 @ @ @ 0 0 @ 4 6 \n",
        "  - @ 2 2 6 8 2 @ @ @ 6\n",
        "\n",
        "### Calculate and Print the total of each row like the following (use \"*\" to separate the total from the numbers):\n",
        "7 6 5 8 8 0 7 6 0 1 * 48 \n",
        "8 5 7 9 8 0 9 3 0 1 * 50 \n",
        "4 0 3 5 3 9 0 8 3 9 * 44 \n",
        "3 5 5 3 8 3 4 3 2 2 * 38 \n",
        "7 7 4 1 2 7 2 3 0 8 * 41 \n",
        "3 9 7 7 0 9 4 0 6 5 * 50 \n",
        "1 9 7 1 3 0 0 1 4 5 * 31 \n",
        "4 4 0 6 7 4 5 6 9 3 * 48 \n",
        "2 1 1 4 2 0 1 2 9 2 * 24\n",
        "2 1 6 7 7 8 1 0 0 4 * 36\n",
        "\n",
        "### Optional: Surround the matrix with asterisks (*) like the following:\n",
        "***********************\n",
        "* 5 1 5 6 2 7 8 6 4 2 *\n",
        "* 2 3 7 0 6 9 2 4 2 8 *\n",
        "* 0 0 8 6 4 1 7 2 7 6 *\n",
        "* 0 1 9 0 0 8 5 8 6 8 *\n",
        "* 4 1 0 5 5 7 4 6 4 4 *\n",
        "* 6 0 2 0 1 9 8 2 3 9 *\n",
        "* 4 0 4 8 1 7 6 6 2 1 *\n",
        "* 1 7 6 8 5 4 1 9 6 7 *\n",
        "* 6 4 7 9 9 3 8 2 6 1 *\n",
        "* 9 0 6 4 0 1 0 6 9 9 *\n",
        "***********************\n",
        "\n",
        "## The Requirements:\n",
        "- You should program and test the solution in Jupyter notebook:\n",
        "- Save/upload the notebook file to your GitHub repository\n",
        "- Submit the link of your GitHub repo to BB.\n",
        "\n",
        "### Hints:\n",
        "- You can use Python standard library random to generate one random number at a time\n",
        "- You are likely to use nested loop - a loop within in another loop since you are dealing with a 10 x 10 matrix.\n",
        "- You will use modular operator (%) to determine if an integer is an odd number or an even number.\n",
        "- Use the \"end=\" option of the print() function to avoid a new line after the print and also to add additional spaces.\n",
        "for example, print(9, end=\" \") will print 9 followed by three spaces and not starting a new line.\n",
        "- Think through the logic. Try simple things first. Don't make it too complicated. You only need a few lines of code."
      ]
    },
    {
      "cell_type": "code",
      "metadata": {
        "id": "ELgkR6-d8ETq",
        "colab_type": "code",
        "colab": {}
      },
      "source": [
        "import random"
      ],
      "execution_count": 3,
      "outputs": []
    },
    {
      "cell_type": "code",
      "metadata": {
        "id": "WkH6CLyz7OzH",
        "colab_type": "code",
        "colab": {}
      },
      "source": [
        "# numbers_list = []\n",
        "# for x in range(0, 100):\n",
        "    # numbers_list.append(random.randint(0, 9))\n",
        "    # for y in numbers_list[:10]:\n",
        "        # print('{:1}'.format(y, x), end=' ')\n",
        "    # print()\n",
        "# print(numbers_list)"
      ],
      "execution_count": 126,
      "outputs": []
    },
    {
      "cell_type": "code",
      "metadata": {
        "id": "wxPus-3LO-yy",
        "colab_type": "code",
        "colab": {
          "base_uri": "https://localhost:8080/",
          "height": 190
        },
        "outputId": "0a15d012-eeb5-42a6-aa5b-ebfc2cdc063d"
      },
      "source": [
        "numbers_list = []\n",
        "for x in range(0, 100):\n",
        "    numbers_list.append(random.randint(0,9))\n",
        "counter = 0\n",
        "for y in numbers_list:\n",
        "    print(str(y), end=' ')\n",
        "    counter += 1\n",
        "    if counter == 10:\n",
        "        counter = 0\n",
        "        print()"
      ],
      "execution_count": 152,
      "outputs": [
        {
          "output_type": "stream",
          "text": [
            "7 0 2 1 6 3 3 5 1 4 \n",
            "2 1 9 0 8 6 4 3 6 7 \n",
            "1 0 6 1 7 5 4 1 8 1 \n",
            "0 9 5 3 4 8 7 1 3 9 \n",
            "6 8 3 4 5 3 6 5 8 6 \n",
            "8 2 7 0 1 4 4 1 5 2 \n",
            "6 4 2 3 9 0 8 9 1 2 \n",
            "7 6 1 5 2 6 8 4 3 6 \n",
            "9 4 1 8 3 7 6 1 3 2 \n",
            "4 7 0 5 9 8 5 6 0 3 \n"
          ],
          "name": "stdout"
        }
      ]
    },
    {
      "cell_type": "code",
      "metadata": {
        "id": "c7dMAJSUW8x6",
        "colab_type": "code",
        "colab": {}
      },
      "source": [
        ""
      ],
      "execution_count": null,
      "outputs": []
    },
    {
      "cell_type": "code",
      "metadata": {
        "colab_type": "code",
        "id": "5ejE-PrkW9aB",
        "colab": {
          "base_uri": "https://localhost:8080/",
          "height": 227
        },
        "outputId": "892e4834-9b86-4857-c1fa-a949e236c7fc"
      },
      "source": [
        "numbers_list = []\n",
        "for x in range(0, 100):\n",
        "    numbers_list.append(random.randint(0,9))\n",
        "counter = 0\n",
        "for y in numbers_list:\n",
        "    if y %2 == 1:\n",
        "        print('@', end=' ')\n",
        "    else:\n",
        "        print(str(y), end=' ')\n",
        "    counter += 1\n",
        "    if counter == 10:\n",
        "        counter = 0\n",
        "        print()\n",
        "# print(numbers_list) use to verify odds are replaced "
      ],
      "execution_count": 161,
      "outputs": [
        {
          "output_type": "stream",
          "text": [
            "6 4 2 4 2 @ 6 4 @ 8 \n",
            "@ 0 @ @ @ @ @ @ @ 4 \n",
            "@ 4 @ 0 6 6 6 8 4 @ \n",
            "6 8 2 @ 4 @ @ 2 4 8 \n",
            "@ @ @ 6 4 @ @ 4 @ @ \n",
            "0 @ 6 @ 2 @ 2 @ 2 @ \n",
            "@ 8 4 6 @ @ 4 6 @ 0 \n",
            "0 0 @ @ 2 @ @ 2 @ @ \n",
            "@ @ 2 @ @ 8 4 @ 6 8 \n",
            "@ 6 2 @ 8 0 4 @ 0 0 \n",
            "[6, 4, 2, 4, 2, 5, 6, 4, 7, 8, 9, 0, 3, 9, 7, 3, 1, 7, 1, 4, 9, 4, 3, 0, 6, 6, 6, 8, 4, 3, 6, 8, 2, 1, 4, 9, 5, 2, 4, 8, 5, 3, 1, 6, 4, 3, 9, 4, 5, 3, 0, 5, 6, 1, 2, 5, 2, 9, 2, 3, 7, 8, 4, 6, 9, 7, 4, 6, 7, 0, 0, 0, 1, 3, 2, 7, 3, 2, 7, 5, 1, 5, 2, 9, 3, 8, 4, 9, 6, 8, 7, 6, 2, 9, 8, 0, 4, 3, 0, 0]\n"
          ],
          "name": "stdout"
        }
      ]
    },
    {
      "cell_type": "code",
      "metadata": {
        "id": "mGMo35hjXZn_",
        "colab_type": "code",
        "colab": {}
      },
      "source": [
        "\n"
      ],
      "execution_count": 161,
      "outputs": []
    },
    {
      "cell_type": "code",
      "metadata": {
        "id": "ph4_61dFXWp9",
        "colab_type": "code",
        "colab": {}
      },
      "source": [
        ""
      ],
      "execution_count": null,
      "outputs": []
    },
    {
      "cell_type": "code",
      "metadata": {
        "id": "E1mmlSUc8LzQ",
        "colab_type": "code",
        "colab": {
          "base_uri": "https://localhost:8080/",
          "height": 34
        },
        "outputId": "595c56c6-b1e2-4fc2-b973-462db3d2863f"
      },
      "source": [
        "len(numbers_list)"
      ],
      "execution_count": 156,
      "outputs": [
        {
          "output_type": "execute_result",
          "data": {
            "text/plain": [
              "100"
            ]
          },
          "metadata": {
            "tags": []
          },
          "execution_count": 156
        }
      ]
    }
  ]
}