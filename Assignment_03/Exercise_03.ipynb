{
  "nbformat": 4,
  "nbformat_minor": 0,
  "metadata": {
    "colab": {
      "name": "Exercise-03.ipynb",
      "provenance": [],
      "authorship_tag": "ABX9TyN7wVKOF2HTwZJe71T8fHPy",
      "include_colab_link": true
    },
    "kernelspec": {
      "name": "python3",
      "display_name": "Python 3"
    }
  },
  "cells": [
    {
      "cell_type": "markdown",
      "metadata": {
        "id": "view-in-github",
        "colab_type": "text"
      },
      "source": [
        "<a href=\"https://colab.research.google.com/github/steinruck/WANG-690-FALL-2020/blob/master/Assignment_03/Exercise_03.ipynb\" target=\"_parent\"><img src=\"https://colab.research.google.com/assets/colab-badge.svg\" alt=\"Open In Colab\"/></a>"
      ]
    },
    {
      "cell_type": "code",
      "metadata": {
        "id": "3TC3CKnbIn1M",
        "colab_type": "code",
        "colab": {}
      },
      "source": [
        ""
      ],
      "execution_count": null,
      "outputs": []
    },
    {
      "cell_type": "markdown",
      "metadata": {
        "id": "1V24KbIVzqCY",
        "colab_type": "text"
      },
      "source": [
        "Uses if/else statements\n",
        "no special functions\n",
        "just fundamentals\n",
        "\n",
        "can use numpy but he would prefer built in python since we didn't cover NumPy yet"
      ]
    },
    {
      "cell_type": "markdown",
      "metadata": {
        "id": "uyQ0MzD9IrHX",
        "colab_type": "text"
      },
      "source": [
        "\n",
        "### Optional: Surround the matrix with asterisks (*) like the following:\n",
        "\n",
        "***********************\n",
        "* 5 1 5 6 2 7 8 6 4 2 *\n",
        "* 2 3 7 0 6 9 2 4 2 8 *\n",
        "* 0 0 8 6 4 1 7 2 7 6 *\n",
        "* 0 1 9 0 0 8 5 8 6 8 *\n",
        "* 4 1 0 5 5 7 4 6 4 4 *\n",
        "* 6 0 2 0 1 9 8 2 3 9 *\n",
        "* 4 0 4 8 1 7 6 6 2 1 *\n",
        "* 1 7 6 8 5 4 1 9 6 7 *\n",
        "* 6 4 7 9 9 3 8 2 6 1 *\n",
        "* 9 0 6 4 0 1 0 6 9 9 *\n",
        "***********************\n",
        "\n",
        "## The Requirements:\n",
        "- You should program and test the solution in Jupyter notebook:\n",
        "- Save/upload the notebook file to your GitHub repository\n",
        "- Submit the link of your GitHub repo to BB.\n",
        "\n",
        "### Hints:\n",
        "- You can use Python standard library random to generate one random number at a time\n",
        "- You are likely to use nested loop - a loop within in another loop since you are dealing with a 10 x 10 matrix.\n",
        "- You will use modular operator (%) to determine if an integer is an odd number or an even number.\n",
        "- Use the \"end=\" option of the print() function to avoid a new line after the print and also to add additional spaces.\n",
        "for example, print(9, end=\" \") will print 9 followed by three spaces and not starting a new line.\n",
        "- Think through the logic. Try simple things first. Don't make it too complicated. You only need a few lines of code."
      ]
    },
    {
      "cell_type": "code",
      "metadata": {
        "id": "ELgkR6-d8ETq",
        "colab_type": "code",
        "colab": {}
      },
      "source": [
        "import random\n",
        "import math"
      ],
      "execution_count": 1,
      "outputs": []
    },
    {
      "cell_type": "code",
      "metadata": {
        "id": "wxPus-3LO-yy",
        "colab_type": "code",
        "colab": {
          "base_uri": "https://localhost:8080/",
          "height": 190
        },
        "outputId": "5bdfeaa2-d855-4825-e14f-94a9cfe30d0f"
      },
      "source": [
        "numbers_list = []\n",
        "for x in range(0, 100):\n",
        "    numbers_list.append(random.randint(0,9))\n",
        "counter = 0\n",
        "for y in numbers_list:\n",
        "    print(str(y), end=' ')\n",
        "    counter += 1\n",
        "    if counter == 10:\n",
        "        counter = 0\n",
        "        print()"
      ],
      "execution_count": 2,
      "outputs": [
        {
          "output_type": "stream",
          "text": [
            "4 2 5 8 7 8 1 0 7 6 \n",
            "2 2 0 4 9 7 0 0 1 0 \n",
            "5 2 8 0 1 3 5 5 0 6 \n",
            "5 9 0 8 3 5 8 0 1 6 \n",
            "9 2 7 3 6 6 0 4 4 6 \n",
            "3 6 4 9 0 4 1 0 9 2 \n",
            "2 6 8 7 3 5 5 6 3 7 \n",
            "8 8 0 2 7 2 5 8 7 9 \n",
            "8 2 6 5 1 0 5 8 6 8 \n",
            "8 5 8 0 2 3 4 2 0 6 \n"
          ],
          "name": "stdout"
        }
      ]
    },
    {
      "cell_type": "code",
      "metadata": {
        "id": "c7dMAJSUW8x6",
        "colab_type": "code",
        "colab": {}
      },
      "source": [
        ""
      ],
      "execution_count": 2,
      "outputs": []
    },
    {
      "cell_type": "code",
      "metadata": {
        "colab_type": "code",
        "id": "5ejE-PrkW9aB",
        "colab": {
          "base_uri": "https://localhost:8080/",
          "height": 190
        },
        "outputId": "714666de-d782-451f-8e3a-0e9309b95204"
      },
      "source": [
        "counter = 0\n",
        "for y in numbers_list:\n",
        "    if y %2 == 1:\n",
        "        print('@', end=' ')\n",
        "    else:\n",
        "        print(str(y), end=' ')\n",
        "    counter += 1\n",
        "    if counter == 10:\n",
        "        counter = 0\n",
        "        print()\n",
        "# print(numbers_list) use to verify odds are replaced "
      ],
      "execution_count": 6,
      "outputs": [
        {
          "output_type": "stream",
          "text": [
            "@ 4 @ 0 6 @ 6 @ @ 4 \n",
            "4 @ 8 6 4 @ 8 8 @ 4 \n",
            "@ @ 6 8 4 @ @ 2 6 @ \n",
            "6 @ @ 4 4 @ @ @ @ 2 \n",
            "@ @ @ 0 @ 0 0 8 2 @ \n",
            "4 2 6 4 @ @ 8 6 4 @ \n",
            "@ 8 @ 0 2 @ @ 0 2 @ \n",
            "4 @ 8 4 @ 2 @ 8 @ 8 \n",
            "2 8 @ @ @ @ @ 8 8 8 \n",
            "@ @ @ @ @ 2 2 8 2 @ \n"
          ],
          "name": "stdout"
        }
      ]
    },
    {
      "cell_type": "code",
      "metadata": {
        "id": "mGMo35hjXZn_",
        "colab_type": "code",
        "colab": {
          "base_uri": "https://localhost:8080/",
          "height": 190
        },
        "outputId": "81cb756f-6a9e-40a6-9251-45f99c8900c0"
      },
      "source": [
        "counter = 0\n",
        "row_total = 0\n",
        "for y in numbers_list:\n",
        "    row_total += y\n",
        "    print(str(y), end=' ')\n",
        "    counter += 1\n",
        "    if counter == 10:\n",
        "        counter = 0\n",
        "        print('*', row_total, end=' ')\n",
        "        row_total = 0\n",
        "        print()\n",
        "\n"
      ],
      "execution_count": 29,
      "outputs": [
        {
          "output_type": "stream",
          "text": [
            "5 4 1 0 6 1 6 9 3 4 * 39 \n",
            "4 1 8 6 4 5 8 8 9 4 * 57 \n",
            "9 3 6 8 4 9 5 2 6 9 * 61 \n",
            "6 5 3 4 4 3 5 7 9 2 * 48 \n",
            "1 1 5 0 9 0 0 8 2 5 * 31 \n",
            "4 2 6 4 5 3 8 6 4 5 * 47 \n",
            "3 8 7 0 2 3 9 0 2 9 * 43 \n",
            "4 1 8 4 1 2 7 8 3 8 * 46 \n",
            "2 8 5 9 1 7 7 8 8 8 * 63 \n",
            "7 7 5 5 1 2 2 8 2 1 * 40 \n"
          ],
          "name": "stdout"
        }
      ]
    },
    {
      "cell_type": "code",
      "metadata": {
        "id": "ph4_61dFXWp9",
        "colab_type": "code",
        "colab": {
          "base_uri": "https://localhost:8080/",
          "height": 190
        },
        "outputId": "e36b310d-32df-436e-b958-0a1a6229df17"
      },
      "source": [
        "counter = 0\n",
        "for y in numbers_list:\n",
        "    print('* ' + str(y), end=' ')\n",
        "    counter += 1\n",
        "    if counter == 10:\n",
        "        counter = 0\n",
        "        print('*', end=' ')\n",
        "        print()"
      ],
      "execution_count": 35,
      "outputs": [
        {
          "output_type": "stream",
          "text": [
            "* 5 * 4 * 1 * 0 * 6 * 1 * 6 * 9 * 3 * 4 * \n",
            "* 4 * 1 * 8 * 6 * 4 * 5 * 8 * 8 * 9 * 4 * \n",
            "* 9 * 3 * 6 * 8 * 4 * 9 * 5 * 2 * 6 * 9 * \n",
            "* 6 * 5 * 3 * 4 * 4 * 3 * 5 * 7 * 9 * 2 * \n",
            "* 1 * 1 * 5 * 0 * 9 * 0 * 0 * 8 * 2 * 5 * \n",
            "* 4 * 2 * 6 * 4 * 5 * 3 * 8 * 6 * 4 * 5 * \n",
            "* 3 * 8 * 7 * 0 * 2 * 3 * 9 * 0 * 2 * 9 * \n",
            "* 4 * 1 * 8 * 4 * 1 * 2 * 7 * 8 * 3 * 8 * \n",
            "* 2 * 8 * 5 * 9 * 1 * 7 * 7 * 8 * 8 * 8 * \n",
            "* 7 * 7 * 5 * 5 * 1 * 2 * 2 * 8 * 2 * 1 * \n"
          ],
          "name": "stdout"
        }
      ]
    },
    {
      "cell_type": "code",
      "metadata": {
        "id": "E1mmlSUc8LzQ",
        "colab_type": "code",
        "colab": {}
      },
      "source": [
        "len(numbers_list)"
      ],
      "execution_count": null,
      "outputs": []
    }
  ]
}