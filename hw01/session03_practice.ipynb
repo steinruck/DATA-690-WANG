{
  "nbformat": 4,
  "nbformat_minor": 0,
  "metadata": {
    "colab": {
      "name": "session03_practice.ipynb",
      "provenance": [],
      "authorship_tag": "ABX9TyNickS2qLlhYhXEJ09s0K2Y",
      "include_colab_link": true
    },
    "kernelspec": {
      "name": "python3",
      "display_name": "Python 3"
    }
  },
  "cells": [
    {
      "cell_type": "markdown",
      "metadata": {
        "id": "view-in-github",
        "colab_type": "text"
      },
      "source": [
        "<a href=\"https://colab.research.google.com/github/steinruck/WANG-690-FALL-2020/blob/master/hw01/session03_practice.ipynb\" target=\"_parent\"><img src=\"https://colab.research.google.com/assets/colab-badge.svg\" alt=\"Open In Colab\"/></a>"
      ]
    },
    {
      "cell_type": "code",
      "metadata": {
        "id": "lWXAUka-ad-q",
        "colab_type": "code",
        "colab": {
          "base_uri": "https://localhost:8080/",
          "height": 54
        },
        "outputId": "4660090a-0da4-447e-ac10-73aad0aeb155"
      },
      "source": [
        "people_string = \"Wang, Chaojie; Seelam, Arjun Reddy; Rius, Jonathan; Liang, Jinqing; Chowdhury, Debanjan; Maszkiewicz, Lori; Negussie, Neftalem; Steinruck, Michaella; Phogat, Shreshta; Fatima, Misha; Hirabayashi, Scott; Soroush, Masoud; Bolz, Jessica; Mbu Nyamsi, Tchuissi; Dokuzoglu, Yuksel; Gogineni, Shailesh; Pabbisetty, Sai Vinay; Preis, Liam; Jyesta, Vishnu Priya; Narne, Yoshita; Boban, Shruthi; Oberoi, Ashreen Kaur; Cohens, Nashika; Noppinger, Ken; Kakani, Goutham; Hayo, Alyssa\"\n",
        "print(people_string)"
      ],
      "execution_count": 30,
      "outputs": [
        {
          "output_type": "stream",
          "text": [
            "Wang, Chaojie; Seelam, Arjun Reddy; Rius, Jonathan; Liang, Jinqing; Chowdhury, Debanjan; Maszkiewicz, Lori; Negussie, Neftalem; Steinruck, Michaella; Phogat, Shreshta; Fatima, Misha; Hirabayashi, Scott; Soroush, Masoud; Bolz, Jessica; Mbu Nyamsi, Tchuissi; Dokuzoglu, Yuksel; Gogineni, Shailesh; Pabbisetty, Sai Vinay; Preis, Liam; Jyesta, Vishnu Priya; Narne, Yoshita; Boban, Shruthi; Oberoi, Ashreen Kaur; Cohens, Nashika; Noppinger, Ken; Kakani, Goutham; Hayo, Alyssa\n"
          ],
          "name": "stdout"
        }
      ]
    },
    {
      "cell_type": "code",
      "metadata": {
        "id": "yz8GTi1ziVpM",
        "colab_type": "code",
        "colab": {
          "base_uri": "https://localhost:8080/",
          "height": 54
        },
        "outputId": "f1729dc2-5875-4170-f9ef-b59c16ed12ef"
      },
      "source": [
        "people_list = people_string.split(\";\")\n",
        "print(people_list)"
      ],
      "execution_count": 31,
      "outputs": [
        {
          "output_type": "stream",
          "text": [
            "['Wang, Chaojie', ' Seelam, Arjun Reddy', ' Rius, Jonathan', ' Liang, Jinqing', ' Chowdhury, Debanjan', ' Maszkiewicz, Lori', ' Negussie, Neftalem', ' Steinruck, Michaella', ' Phogat, Shreshta', ' Fatima, Misha', ' Hirabayashi, Scott', ' Soroush, Masoud', ' Bolz, Jessica', ' Mbu Nyamsi, Tchuissi', ' Dokuzoglu, Yuksel', ' Gogineni, Shailesh', ' Pabbisetty, Sai Vinay', ' Preis, Liam', ' Jyesta, Vishnu Priya', ' Narne, Yoshita', ' Boban, Shruthi', ' Oberoi, Ashreen Kaur', ' Cohens, Nashika', ' Noppinger, Ken', ' Kakani, Goutham', ' Hayo, Alyssa']\n"
          ],
          "name": "stdout"
        }
      ]
    },
    {
      "cell_type": "code",
      "metadata": {
        "id": "UhJ2A_-AigjJ",
        "colab_type": "code",
        "colab": {
          "base_uri": "https://localhost:8080/",
          "height": 54
        },
        "outputId": "fcc72a08-9656-4824-a6d5-973e43688ad5"
      },
      "source": [
        "first_name_list =[]\n",
        "for person in people_list:\n",
        "  first_name_list.append(person.split(\",\")[1])\n",
        "  \n",
        "print(first_name_list)\n"
      ],
      "execution_count": 45,
      "outputs": [
        {
          "output_type": "stream",
          "text": [
            "[' Chaojie', ' Arjun Reddy', ' Jonathan', ' Jinqing', ' Debanjan', ' Lori', ' Neftalem', ' Michaella', ' Shreshta', ' Misha', ' Scott', ' Masoud', ' Jessica', ' Tchuissi', ' Yuksel', ' Shailesh', ' Sai Vinay', ' Liam', ' Vishnu Priya', ' Yoshita', ' Shruthi', ' Ashreen Kaur', ' Nashika', ' Ken', ' Goutham', ' Alyssa']\n"
          ],
          "name": "stdout"
        }
      ]
    }
  ]
}