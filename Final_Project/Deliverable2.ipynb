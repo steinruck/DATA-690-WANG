{
  "nbformat": 4,
  "nbformat_minor": 0,
  "metadata": {
    "colab": {
      "name": "Deliverable2.ipynb",
      "provenance": [],
      "authorship_tag": "ABX9TyPp2F/ppyrIJj4Y2VDnbCMB",
      "include_colab_link": true
    },
    "kernelspec": {
      "name": "python3",
      "display_name": "Python 3"
    }
  },
  "cells": [
    {
      "cell_type": "markdown",
      "metadata": {
        "id": "view-in-github",
        "colab_type": "text"
      },
      "source": [
        "<a href=\"https://colab.research.google.com/github/steinruck/WANG-690-FALL-2020/blob/master/Final_Project/Deliverable2.ipynb\" target=\"_parent\"><img src=\"https://colab.research.google.com/assets/colab-badge.svg\" alt=\"Open In Colab\"/></a>"
      ]
    },
    {
      "cell_type": "code",
      "metadata": {
        "id": "Mc9JrPS1oRkt"
      },
      "source": [
        "import pandas as pd\n",
        "import os\n",
        "import matplotlib.pyplot as plt\n",
        "import numpy as np"
      ],
      "execution_count": 25,
      "outputs": []
    },
    {
      "cell_type": "code",
      "metadata": {
        "id": "W3VVA1nDj5Xq"
      },
      "source": [
        "# read auth.txt file and assign column headers using | delimeter \n",
        "df = pd.read_csv(\"auth.txt\", names=[\"Date\", \"IP\", \"Service\", \"Description\"], delimiter='|')"
      ],
      "execution_count": 2,
      "outputs": []
    },
    {
      "cell_type": "code",
      "metadata": {
        "id": "-x7cvwX0OhJ2",
        "outputId": "69e9d330-d207-4d90-beb4-2eb4ec8c32d3",
        "colab": {
          "base_uri": "https://localhost:8080/",
          "height": 204
        }
      },
      "source": [
        "df.head()"
      ],
      "execution_count": 3,
      "outputs": [
        {
          "output_type": "execute_result",
          "data": {
            "text/html": [
              "<div>\n",
              "<style scoped>\n",
              "    .dataframe tbody tr th:only-of-type {\n",
              "        vertical-align: middle;\n",
              "    }\n",
              "\n",
              "    .dataframe tbody tr th {\n",
              "        vertical-align: top;\n",
              "    }\n",
              "\n",
              "    .dataframe thead th {\n",
              "        text-align: right;\n",
              "    }\n",
              "</style>\n",
              "<table border=\"1\" class=\"dataframe\">\n",
              "  <thead>\n",
              "    <tr style=\"text-align: right;\">\n",
              "      <th></th>\n",
              "      <th>Date</th>\n",
              "      <th>IP</th>\n",
              "      <th>Service</th>\n",
              "      <th>Description</th>\n",
              "    </tr>\n",
              "  </thead>\n",
              "  <tbody>\n",
              "    <tr>\n",
              "      <th>0</th>\n",
              "      <td>Nov 30 06:39:00</td>\n",
              "      <td>ip-172-31-27-153</td>\n",
              "      <td>CRON[21882]</td>\n",
              "      <td>pam_unix(cron:session): session closed for use...</td>\n",
              "    </tr>\n",
              "    <tr>\n",
              "      <th>1</th>\n",
              "      <td>Nov 30 06:47:01</td>\n",
              "      <td>ip-172-31-27-153</td>\n",
              "      <td>CRON[22087]</td>\n",
              "      <td>pam_unix(cron:session): session opened for use...</td>\n",
              "    </tr>\n",
              "    <tr>\n",
              "      <th>2</th>\n",
              "      <td>Nov 30 06:47:03</td>\n",
              "      <td>ip-172-31-27-153</td>\n",
              "      <td>CRON[22087]</td>\n",
              "      <td>pam_unix(cron:session): session closed for use...</td>\n",
              "    </tr>\n",
              "    <tr>\n",
              "      <th>3</th>\n",
              "      <td>Nov 30 07:07:14</td>\n",
              "      <td>ip-172-31-27-153</td>\n",
              "      <td>sshd[22116]</td>\n",
              "      <td>Connection closed by 122.225.103.87 [preauth]</td>\n",
              "    </tr>\n",
              "    <tr>\n",
              "      <th>4</th>\n",
              "      <td>Nov 30 07:07:35</td>\n",
              "      <td>ip-172-31-27-153</td>\n",
              "      <td>sshd[22118]</td>\n",
              "      <td>Connection closed by 122.225.103.87 [preauth]</td>\n",
              "    </tr>\n",
              "  </tbody>\n",
              "</table>\n",
              "</div>"
            ],
            "text/plain": [
              "              Date  ...                                        Description\n",
              "0  Nov 30 06:39:00  ...  pam_unix(cron:session): session closed for use...\n",
              "1  Nov 30 06:47:01  ...  pam_unix(cron:session): session opened for use...\n",
              "2  Nov 30 06:47:03  ...  pam_unix(cron:session): session closed for use...\n",
              "3  Nov 30 07:07:14  ...      Connection closed by 122.225.103.87 [preauth]\n",
              "4  Nov 30 07:07:35  ...      Connection closed by 122.225.103.87 [preauth]\n",
              "\n",
              "[5 rows x 4 columns]"
            ]
          },
          "metadata": {
            "tags": []
          },
          "execution_count": 3
        }
      ]
    },
    {
      "cell_type": "code",
      "metadata": {
        "id": "yHN6Kn9nOcMR",
        "outputId": "d5875982-1c86-4b6f-d039-10729e553332",
        "colab": {
          "base_uri": "https://localhost:8080/",
          "height": 204
        }
      },
      "source": [
        "df.tail()"
      ],
      "execution_count": 4,
      "outputs": [
        {
          "output_type": "execute_result",
          "data": {
            "text/html": [
              "<div>\n",
              "<style scoped>\n",
              "    .dataframe tbody tr th:only-of-type {\n",
              "        vertical-align: middle;\n",
              "    }\n",
              "\n",
              "    .dataframe tbody tr th {\n",
              "        vertical-align: top;\n",
              "    }\n",
              "\n",
              "    .dataframe thead th {\n",
              "        text-align: right;\n",
              "    }\n",
              "</style>\n",
              "<table border=\"1\" class=\"dataframe\">\n",
              "  <thead>\n",
              "    <tr style=\"text-align: right;\">\n",
              "      <th></th>\n",
              "      <th>Date</th>\n",
              "      <th>IP</th>\n",
              "      <th>Service</th>\n",
              "      <th>Description</th>\n",
              "    </tr>\n",
              "  </thead>\n",
              "  <tbody>\n",
              "    <tr>\n",
              "      <th>86834</th>\n",
              "      <td>Dec 31 22:26:20</td>\n",
              "      <td>ip-172-31-27-153</td>\n",
              "      <td>sshd[7998]</td>\n",
              "      <td>Connection closed by 218.2.0.133 [preauth]</td>\n",
              "    </tr>\n",
              "    <tr>\n",
              "      <th>86835</th>\n",
              "      <td>Dec 31 22:27:07</td>\n",
              "      <td>ip-172-31-27-153</td>\n",
              "      <td>sshd[8001]</td>\n",
              "      <td>Connection closed by 218.2.0.133 [preauth]</td>\n",
              "    </tr>\n",
              "    <tr>\n",
              "      <th>86836</th>\n",
              "      <td>Dec 31 22:27:48</td>\n",
              "      <td>ip-172-31-27-153</td>\n",
              "      <td>sshd[8003]</td>\n",
              "      <td>Invalid user admin from 218.2.0.133</td>\n",
              "    </tr>\n",
              "    <tr>\n",
              "      <th>86837</th>\n",
              "      <td>Dec 31 22:27:48</td>\n",
              "      <td>ip-172-31-27-153</td>\n",
              "      <td>sshd[8003]</td>\n",
              "      <td>input_userauth_request: invalid user admin [pr...</td>\n",
              "    </tr>\n",
              "    <tr>\n",
              "      <th>86838</th>\n",
              "      <td>Dec 31 22:27:48</td>\n",
              "      <td>ip-172-31-27-153</td>\n",
              "      <td>sshd[8003]</td>\n",
              "      <td>Connection closed by 218.2.0.133 [preauth]</td>\n",
              "    </tr>\n",
              "  </tbody>\n",
              "</table>\n",
              "</div>"
            ],
            "text/plain": [
              "                  Date  ...                                        Description\n",
              "86834  Dec 31 22:26:20  ...         Connection closed by 218.2.0.133 [preauth]\n",
              "86835  Dec 31 22:27:07  ...         Connection closed by 218.2.0.133 [preauth]\n",
              "86836  Dec 31 22:27:48  ...                Invalid user admin from 218.2.0.133\n",
              "86837  Dec 31 22:27:48  ...  input_userauth_request: invalid user admin [pr...\n",
              "86838  Dec 31 22:27:48  ...         Connection closed by 218.2.0.133 [preauth]\n",
              "\n",
              "[5 rows x 4 columns]"
            ]
          },
          "metadata": {
            "tags": []
          },
          "execution_count": 4
        }
      ]
    },
    {
      "cell_type": "code",
      "metadata": {
        "id": "GOkSICUs3znK",
        "outputId": "d63abc6e-2b9d-4a92-9ec1-68bf330d4df7",
        "colab": {
          "base_uri": "https://localhost:8080/",
          "height": 34
        }
      },
      "source": [
        "# Number of rows and columns\n",
        "df.shape"
      ],
      "execution_count": 5,
      "outputs": [
        {
          "output_type": "execute_result",
          "data": {
            "text/plain": [
              "(86839, 4)"
            ]
          },
          "metadata": {
            "tags": []
          },
          "execution_count": 5
        }
      ]
    },
    {
      "cell_type": "code",
      "metadata": {
        "id": "NG1uYCgx4mQ5",
        "outputId": "7487f742-2081-4159-8de4-c4d31935f80f",
        "colab": {
          "base_uri": "https://localhost:8080/",
          "height": 204
        }
      },
      "source": [
        "# Sample of 5 random rows\n",
        "df.sample(5)"
      ],
      "execution_count": 6,
      "outputs": [
        {
          "output_type": "execute_result",
          "data": {
            "text/html": [
              "<div>\n",
              "<style scoped>\n",
              "    .dataframe tbody tr th:only-of-type {\n",
              "        vertical-align: middle;\n",
              "    }\n",
              "\n",
              "    .dataframe tbody tr th {\n",
              "        vertical-align: top;\n",
              "    }\n",
              "\n",
              "    .dataframe thead th {\n",
              "        text-align: right;\n",
              "    }\n",
              "</style>\n",
              "<table border=\"1\" class=\"dataframe\">\n",
              "  <thead>\n",
              "    <tr style=\"text-align: right;\">\n",
              "      <th></th>\n",
              "      <th>Date</th>\n",
              "      <th>IP</th>\n",
              "      <th>Service</th>\n",
              "      <th>Description</th>\n",
              "    </tr>\n",
              "  </thead>\n",
              "  <tbody>\n",
              "    <tr>\n",
              "      <th>27542</th>\n",
              "      <td>Dec  6 08:50:08</td>\n",
              "      <td>ip-172-31-27-153</td>\n",
              "      <td>sshd[8182]</td>\n",
              "      <td>input_userauth_request: invalid user weblogic ...</td>\n",
              "    </tr>\n",
              "    <tr>\n",
              "      <th>7280</th>\n",
              "      <td>Dec  2 09:05:09</td>\n",
              "      <td>ip-172-31-27-153</td>\n",
              "      <td>sshd[680]</td>\n",
              "      <td>Received disconnect from 220.99.93.50: 11: Bye...</td>\n",
              "    </tr>\n",
              "    <tr>\n",
              "      <th>13620</th>\n",
              "      <td>Dec  2 14:48:25</td>\n",
              "      <td>ip-172-31-27-153</td>\n",
              "      <td>sshd[11998]</td>\n",
              "      <td>Received disconnect from 218.25.17.234: 11: By...</td>\n",
              "    </tr>\n",
              "    <tr>\n",
              "      <th>1660</th>\n",
              "      <td>Dec  1 08:32:54</td>\n",
              "      <td>ip-172-31-27-153</td>\n",
              "      <td>sshd[25053]</td>\n",
              "      <td>input_userauth_request: invalid user jboss [pr...</td>\n",
              "    </tr>\n",
              "    <tr>\n",
              "      <th>22072</th>\n",
              "      <td>Dec  3 01:38:18</td>\n",
              "      <td>ip-172-31-27-153</td>\n",
              "      <td>sshd[29215]</td>\n",
              "      <td>fatal: Read from socket failed: Connection res...</td>\n",
              "    </tr>\n",
              "  </tbody>\n",
              "</table>\n",
              "</div>"
            ],
            "text/plain": [
              "                  Date  ...                                        Description\n",
              "27542  Dec  6 08:50:08  ...  input_userauth_request: invalid user weblogic ...\n",
              "7280   Dec  2 09:05:09  ...  Received disconnect from 220.99.93.50: 11: Bye...\n",
              "13620  Dec  2 14:48:25  ...  Received disconnect from 218.25.17.234: 11: By...\n",
              "1660   Dec  1 08:32:54  ...  input_userauth_request: invalid user jboss [pr...\n",
              "22072  Dec  3 01:38:18  ...  fatal: Read from socket failed: Connection res...\n",
              "\n",
              "[5 rows x 4 columns]"
            ]
          },
          "metadata": {
            "tags": []
          },
          "execution_count": 6
        }
      ]
    },
    {
      "cell_type": "code",
      "metadata": {
        "id": "58lDwcKy5GIJ",
        "outputId": "8d1e8e25-e940-444e-83d2-e357712f9804",
        "colab": {
          "base_uri": "https://localhost:8080/",
          "height": 204
        }
      },
      "source": [
        "df.info()"
      ],
      "execution_count": 7,
      "outputs": [
        {
          "output_type": "stream",
          "text": [
            "<class 'pandas.core.frame.DataFrame'>\n",
            "RangeIndex: 86839 entries, 0 to 86838\n",
            "Data columns (total 4 columns):\n",
            " #   Column       Non-Null Count  Dtype \n",
            "---  ------       --------------  ----- \n",
            " 0   Date         86839 non-null  object\n",
            " 1   IP           86839 non-null  object\n",
            " 2   Service      86839 non-null  object\n",
            " 3   Description  86839 non-null  object\n",
            "dtypes: object(4)\n",
            "memory usage: 2.7+ MB\n"
          ],
          "name": "stdout"
        }
      ]
    },
    {
      "cell_type": "code",
      "metadata": {
        "id": "tBjyCv9w5OJO",
        "outputId": "559dfb84-e045-4915-c7a4-0f5989b2b771",
        "colab": {
          "base_uri": "https://localhost:8080/",
          "height": 173
        }
      },
      "source": [
        "df.describe()"
      ],
      "execution_count": 8,
      "outputs": [
        {
          "output_type": "execute_result",
          "data": {
            "text/html": [
              "<div>\n",
              "<style scoped>\n",
              "    .dataframe tbody tr th:only-of-type {\n",
              "        vertical-align: middle;\n",
              "    }\n",
              "\n",
              "    .dataframe tbody tr th {\n",
              "        vertical-align: top;\n",
              "    }\n",
              "\n",
              "    .dataframe thead th {\n",
              "        text-align: right;\n",
              "    }\n",
              "</style>\n",
              "<table border=\"1\" class=\"dataframe\">\n",
              "  <thead>\n",
              "    <tr style=\"text-align: right;\">\n",
              "      <th></th>\n",
              "      <th>Date</th>\n",
              "      <th>IP</th>\n",
              "      <th>Service</th>\n",
              "      <th>Description</th>\n",
              "    </tr>\n",
              "  </thead>\n",
              "  <tbody>\n",
              "    <tr>\n",
              "      <th>count</th>\n",
              "      <td>86839</td>\n",
              "      <td>86839</td>\n",
              "      <td>86839</td>\n",
              "      <td>86839</td>\n",
              "    </tr>\n",
              "    <tr>\n",
              "      <th>unique</th>\n",
              "      <td>54811</td>\n",
              "      <td>1</td>\n",
              "      <td>29356</td>\n",
              "      <td>9658</td>\n",
              "    </tr>\n",
              "    <tr>\n",
              "      <th>top</th>\n",
              "      <td>Dec 29 18:18:32</td>\n",
              "      <td>ip-172-31-27-153</td>\n",
              "      <td>sshd[23890]</td>\n",
              "      <td>Received disconnect from 61.197.203.243: 11: B...</td>\n",
              "    </tr>\n",
              "    <tr>\n",
              "      <th>freq</th>\n",
              "      <td>18</td>\n",
              "      <td>86839</td>\n",
              "      <td>13</td>\n",
              "      <td>10852</td>\n",
              "    </tr>\n",
              "  </tbody>\n",
              "</table>\n",
              "</div>"
            ],
            "text/plain": [
              "                   Date  ...                                        Description\n",
              "count             86839  ...                                              86839\n",
              "unique            54811  ...                                               9658\n",
              "top     Dec 29 18:18:32  ...  Received disconnect from 61.197.203.243: 11: B...\n",
              "freq                 18  ...                                              10852\n",
              "\n",
              "[4 rows x 4 columns]"
            ]
          },
          "metadata": {
            "tags": []
          },
          "execution_count": 8
        }
      ]
    },
    {
      "cell_type": "code",
      "metadata": {
        "id": "aVejCGudqfce",
        "outputId": "cabf1fbf-8f29-4f84-c8b2-28704c6bb668",
        "colab": {
          "base_uri": "https://localhost:8080/",
          "height": 204
        }
      },
      "source": [
        "# Remove leading ip string from IP column (works here because the IP is from the singular host device)\n",
        "df[\"IP\"]= df[\"IP\"].replace(\"ip-172-31-27-153\", \"172.31.27.153\")\n",
        "df.head()\n"
      ],
      "execution_count": 9,
      "outputs": [
        {
          "output_type": "execute_result",
          "data": {
            "text/html": [
              "<div>\n",
              "<style scoped>\n",
              "    .dataframe tbody tr th:only-of-type {\n",
              "        vertical-align: middle;\n",
              "    }\n",
              "\n",
              "    .dataframe tbody tr th {\n",
              "        vertical-align: top;\n",
              "    }\n",
              "\n",
              "    .dataframe thead th {\n",
              "        text-align: right;\n",
              "    }\n",
              "</style>\n",
              "<table border=\"1\" class=\"dataframe\">\n",
              "  <thead>\n",
              "    <tr style=\"text-align: right;\">\n",
              "      <th></th>\n",
              "      <th>Date</th>\n",
              "      <th>IP</th>\n",
              "      <th>Service</th>\n",
              "      <th>Description</th>\n",
              "    </tr>\n",
              "  </thead>\n",
              "  <tbody>\n",
              "    <tr>\n",
              "      <th>0</th>\n",
              "      <td>Nov 30 06:39:00</td>\n",
              "      <td>172.31.27.153</td>\n",
              "      <td>CRON[21882]</td>\n",
              "      <td>pam_unix(cron:session): session closed for use...</td>\n",
              "    </tr>\n",
              "    <tr>\n",
              "      <th>1</th>\n",
              "      <td>Nov 30 06:47:01</td>\n",
              "      <td>172.31.27.153</td>\n",
              "      <td>CRON[22087]</td>\n",
              "      <td>pam_unix(cron:session): session opened for use...</td>\n",
              "    </tr>\n",
              "    <tr>\n",
              "      <th>2</th>\n",
              "      <td>Nov 30 06:47:03</td>\n",
              "      <td>172.31.27.153</td>\n",
              "      <td>CRON[22087]</td>\n",
              "      <td>pam_unix(cron:session): session closed for use...</td>\n",
              "    </tr>\n",
              "    <tr>\n",
              "      <th>3</th>\n",
              "      <td>Nov 30 07:07:14</td>\n",
              "      <td>172.31.27.153</td>\n",
              "      <td>sshd[22116]</td>\n",
              "      <td>Connection closed by 122.225.103.87 [preauth]</td>\n",
              "    </tr>\n",
              "    <tr>\n",
              "      <th>4</th>\n",
              "      <td>Nov 30 07:07:35</td>\n",
              "      <td>172.31.27.153</td>\n",
              "      <td>sshd[22118]</td>\n",
              "      <td>Connection closed by 122.225.103.87 [preauth]</td>\n",
              "    </tr>\n",
              "  </tbody>\n",
              "</table>\n",
              "</div>"
            ],
            "text/plain": [
              "              Date  ...                                        Description\n",
              "0  Nov 30 06:39:00  ...  pam_unix(cron:session): session closed for use...\n",
              "1  Nov 30 06:47:01  ...  pam_unix(cron:session): session opened for use...\n",
              "2  Nov 30 06:47:03  ...  pam_unix(cron:session): session closed for use...\n",
              "3  Nov 30 07:07:14  ...      Connection closed by 122.225.103.87 [preauth]\n",
              "4  Nov 30 07:07:35  ...      Connection closed by 122.225.103.87 [preauth]\n",
              "\n",
              "[5 rows x 4 columns]"
            ]
          },
          "metadata": {
            "tags": []
          },
          "execution_count": 9
        }
      ]
    },
    {
      "cell_type": "code",
      "metadata": {
        "id": "Hz-VpoKEhHWN",
        "outputId": "1e5120a9-8947-4fd8-dc6f-2f193e162f3a",
        "colab": {
          "base_uri": "https://localhost:8080/",
          "height": 204
        }
      },
      "source": [
        "# If Description column contains the regex pattern for IP addresses, create neew column with the IP\n",
        "df[\"Connecting IP\"] = df[\"Description\"].str.extract(r'(\\d{1,3}\\.\\d{1,3}\\.\\d{1,3}\\.\\d{1,3})')\n",
        "df.head()"
      ],
      "execution_count": 10,
      "outputs": [
        {
          "output_type": "execute_result",
          "data": {
            "text/html": [
              "<div>\n",
              "<style scoped>\n",
              "    .dataframe tbody tr th:only-of-type {\n",
              "        vertical-align: middle;\n",
              "    }\n",
              "\n",
              "    .dataframe tbody tr th {\n",
              "        vertical-align: top;\n",
              "    }\n",
              "\n",
              "    .dataframe thead th {\n",
              "        text-align: right;\n",
              "    }\n",
              "</style>\n",
              "<table border=\"1\" class=\"dataframe\">\n",
              "  <thead>\n",
              "    <tr style=\"text-align: right;\">\n",
              "      <th></th>\n",
              "      <th>Date</th>\n",
              "      <th>IP</th>\n",
              "      <th>Service</th>\n",
              "      <th>Description</th>\n",
              "      <th>Connecting IP</th>\n",
              "    </tr>\n",
              "  </thead>\n",
              "  <tbody>\n",
              "    <tr>\n",
              "      <th>0</th>\n",
              "      <td>Nov 30 06:39:00</td>\n",
              "      <td>172.31.27.153</td>\n",
              "      <td>CRON[21882]</td>\n",
              "      <td>pam_unix(cron:session): session closed for use...</td>\n",
              "      <td>NaN</td>\n",
              "    </tr>\n",
              "    <tr>\n",
              "      <th>1</th>\n",
              "      <td>Nov 30 06:47:01</td>\n",
              "      <td>172.31.27.153</td>\n",
              "      <td>CRON[22087]</td>\n",
              "      <td>pam_unix(cron:session): session opened for use...</td>\n",
              "      <td>NaN</td>\n",
              "    </tr>\n",
              "    <tr>\n",
              "      <th>2</th>\n",
              "      <td>Nov 30 06:47:03</td>\n",
              "      <td>172.31.27.153</td>\n",
              "      <td>CRON[22087]</td>\n",
              "      <td>pam_unix(cron:session): session closed for use...</td>\n",
              "      <td>NaN</td>\n",
              "    </tr>\n",
              "    <tr>\n",
              "      <th>3</th>\n",
              "      <td>Nov 30 07:07:14</td>\n",
              "      <td>172.31.27.153</td>\n",
              "      <td>sshd[22116]</td>\n",
              "      <td>Connection closed by 122.225.103.87 [preauth]</td>\n",
              "      <td>122.225.103.87</td>\n",
              "    </tr>\n",
              "    <tr>\n",
              "      <th>4</th>\n",
              "      <td>Nov 30 07:07:35</td>\n",
              "      <td>172.31.27.153</td>\n",
              "      <td>sshd[22118]</td>\n",
              "      <td>Connection closed by 122.225.103.87 [preauth]</td>\n",
              "      <td>122.225.103.87</td>\n",
              "    </tr>\n",
              "  </tbody>\n",
              "</table>\n",
              "</div>"
            ],
            "text/plain": [
              "              Date  ...   Connecting IP\n",
              "0  Nov 30 06:39:00  ...             NaN\n",
              "1  Nov 30 06:47:01  ...             NaN\n",
              "2  Nov 30 06:47:03  ...             NaN\n",
              "3  Nov 30 07:07:14  ...  122.225.103.87\n",
              "4  Nov 30 07:07:35  ...  122.225.103.87\n",
              "\n",
              "[5 rows x 5 columns]"
            ]
          },
          "metadata": {
            "tags": []
          },
          "execution_count": 10
        }
      ]
    },
    {
      "cell_type": "code",
      "metadata": {
        "id": "VmLu1xm8qiR5",
        "outputId": "f44ceb3c-fa89-48f8-8224-36c877b0f333",
        "colab": {
          "base_uri": "https://localhost:8080/",
          "height": 204
        }
      },
      "source": [
        "# Remove string in brackets from Service column \n",
        "df[\"Service\"] = df[\"Service\"].str.replace('[\\[^0-9\\]]', '', regex=True)\n",
        "df.head()"
      ],
      "execution_count": 11,
      "outputs": [
        {
          "output_type": "execute_result",
          "data": {
            "text/html": [
              "<div>\n",
              "<style scoped>\n",
              "    .dataframe tbody tr th:only-of-type {\n",
              "        vertical-align: middle;\n",
              "    }\n",
              "\n",
              "    .dataframe tbody tr th {\n",
              "        vertical-align: top;\n",
              "    }\n",
              "\n",
              "    .dataframe thead th {\n",
              "        text-align: right;\n",
              "    }\n",
              "</style>\n",
              "<table border=\"1\" class=\"dataframe\">\n",
              "  <thead>\n",
              "    <tr style=\"text-align: right;\">\n",
              "      <th></th>\n",
              "      <th>Date</th>\n",
              "      <th>IP</th>\n",
              "      <th>Service</th>\n",
              "      <th>Description</th>\n",
              "      <th>Connecting IP</th>\n",
              "    </tr>\n",
              "  </thead>\n",
              "  <tbody>\n",
              "    <tr>\n",
              "      <th>0</th>\n",
              "      <td>Nov 30 06:39:00</td>\n",
              "      <td>172.31.27.153</td>\n",
              "      <td>CRON</td>\n",
              "      <td>pam_unix(cron:session): session closed for use...</td>\n",
              "      <td>NaN</td>\n",
              "    </tr>\n",
              "    <tr>\n",
              "      <th>1</th>\n",
              "      <td>Nov 30 06:47:01</td>\n",
              "      <td>172.31.27.153</td>\n",
              "      <td>CRON</td>\n",
              "      <td>pam_unix(cron:session): session opened for use...</td>\n",
              "      <td>NaN</td>\n",
              "    </tr>\n",
              "    <tr>\n",
              "      <th>2</th>\n",
              "      <td>Nov 30 06:47:03</td>\n",
              "      <td>172.31.27.153</td>\n",
              "      <td>CRON</td>\n",
              "      <td>pam_unix(cron:session): session closed for use...</td>\n",
              "      <td>NaN</td>\n",
              "    </tr>\n",
              "    <tr>\n",
              "      <th>3</th>\n",
              "      <td>Nov 30 07:07:14</td>\n",
              "      <td>172.31.27.153</td>\n",
              "      <td>sshd</td>\n",
              "      <td>Connection closed by 122.225.103.87 [preauth]</td>\n",
              "      <td>122.225.103.87</td>\n",
              "    </tr>\n",
              "    <tr>\n",
              "      <th>4</th>\n",
              "      <td>Nov 30 07:07:35</td>\n",
              "      <td>172.31.27.153</td>\n",
              "      <td>sshd</td>\n",
              "      <td>Connection closed by 122.225.103.87 [preauth]</td>\n",
              "      <td>122.225.103.87</td>\n",
              "    </tr>\n",
              "  </tbody>\n",
              "</table>\n",
              "</div>"
            ],
            "text/plain": [
              "              Date  ...   Connecting IP\n",
              "0  Nov 30 06:39:00  ...             NaN\n",
              "1  Nov 30 06:47:01  ...             NaN\n",
              "2  Nov 30 06:47:03  ...             NaN\n",
              "3  Nov 30 07:07:14  ...  122.225.103.87\n",
              "4  Nov 30 07:07:35  ...  122.225.103.87\n",
              "\n",
              "[5 rows x 5 columns]"
            ]
          },
          "metadata": {
            "tags": []
          },
          "execution_count": 11
        }
      ]
    },
    {
      "cell_type": "code",
      "metadata": {
        "id": "Q3OFx7LcgVkB",
        "outputId": "f93111d8-e696-4bef-aae0-7745612dfcf2",
        "colab": {
          "base_uri": "https://localhost:8080/",
          "height": 419
        }
      },
      "source": [
        "# Creates new dataframe of unique IPs in Connecting IP column\n",
        "uniqueIP = pd.DataFrame(df['Connecting IP'].unique().tolist())\n",
        "#uniqueIP.drop(uniqueIP.columns[[0]], axis=1, inplace=True)\n",
        "uniqueIP\n"
      ],
      "execution_count": 17,
      "outputs": [
        {
          "output_type": "execute_result",
          "data": {
            "text/html": [
              "<div>\n",
              "<style scoped>\n",
              "    .dataframe tbody tr th:only-of-type {\n",
              "        vertical-align: middle;\n",
              "    }\n",
              "\n",
              "    .dataframe tbody tr th {\n",
              "        vertical-align: top;\n",
              "    }\n",
              "\n",
              "    .dataframe thead th {\n",
              "        text-align: right;\n",
              "    }\n",
              "</style>\n",
              "<table border=\"1\" class=\"dataframe\">\n",
              "  <thead>\n",
              "    <tr style=\"text-align: right;\">\n",
              "      <th></th>\n",
              "      <th>0</th>\n",
              "    </tr>\n",
              "  </thead>\n",
              "  <tbody>\n",
              "    <tr>\n",
              "      <th>0</th>\n",
              "      <td>NaN</td>\n",
              "    </tr>\n",
              "    <tr>\n",
              "      <th>1</th>\n",
              "      <td>122.225.103.87</td>\n",
              "    </tr>\n",
              "    <tr>\n",
              "      <th>2</th>\n",
              "      <td>187.12.249.74</td>\n",
              "    </tr>\n",
              "    <tr>\n",
              "      <th>3</th>\n",
              "      <td>196.200.90.236</td>\n",
              "    </tr>\n",
              "    <tr>\n",
              "      <th>4</th>\n",
              "      <td>1.93.26.70</td>\n",
              "    </tr>\n",
              "    <tr>\n",
              "      <th>...</th>\n",
              "      <td>...</td>\n",
              "    </tr>\n",
              "    <tr>\n",
              "      <th>1915</th>\n",
              "      <td>122.225.109.120</td>\n",
              "    </tr>\n",
              "    <tr>\n",
              "      <th>1916</th>\n",
              "      <td>54.173.59.105</td>\n",
              "    </tr>\n",
              "    <tr>\n",
              "      <th>1917</th>\n",
              "      <td>144.0.0.57</td>\n",
              "    </tr>\n",
              "    <tr>\n",
              "      <th>1918</th>\n",
              "      <td>54.173.59.126</td>\n",
              "    </tr>\n",
              "    <tr>\n",
              "      <th>1919</th>\n",
              "      <td>54.173.59.111</td>\n",
              "    </tr>\n",
              "  </tbody>\n",
              "</table>\n",
              "<p>1920 rows × 1 columns</p>\n",
              "</div>"
            ],
            "text/plain": [
              "                    0\n",
              "0                 NaN\n",
              "1      122.225.103.87\n",
              "2       187.12.249.74\n",
              "3      196.200.90.236\n",
              "4          1.93.26.70\n",
              "...               ...\n",
              "1915  122.225.109.120\n",
              "1916    54.173.59.105\n",
              "1917       144.0.0.57\n",
              "1918    54.173.59.126\n",
              "1919    54.173.59.111\n",
              "\n",
              "[1920 rows x 1 columns]"
            ]
          },
          "metadata": {
            "tags": []
          },
          "execution_count": 17
        }
      ]
    },
    {
      "cell_type": "code",
      "metadata": {
        "id": "C5aBq8lKIuK5",
        "outputId": "a612a97f-adf1-43d6-d002-91baad2ad309",
        "colab": {
          "base_uri": "https://localhost:8080/",
          "height": 419
        }
      },
      "source": [
        "# Creates new dataframe with a column that counts the total number of occurances of that IP\n",
        "connecting_IP = pd.DataFrame(df['Connecting IP'].value_counts().reset_index().values, columns=[\"IP\", \"Count\"])\n",
        "connecting_IP"
      ],
      "execution_count": 18,
      "outputs": [
        {
          "output_type": "execute_result",
          "data": {
            "text/html": [
              "<div>\n",
              "<style scoped>\n",
              "    .dataframe tbody tr th:only-of-type {\n",
              "        vertical-align: middle;\n",
              "    }\n",
              "\n",
              "    .dataframe tbody tr th {\n",
              "        vertical-align: top;\n",
              "    }\n",
              "\n",
              "    .dataframe thead th {\n",
              "        text-align: right;\n",
              "    }\n",
              "</style>\n",
              "<table border=\"1\" class=\"dataframe\">\n",
              "  <thead>\n",
              "    <tr style=\"text-align: right;\">\n",
              "      <th></th>\n",
              "      <th>IP</th>\n",
              "      <th>Count</th>\n",
              "    </tr>\n",
              "  </thead>\n",
              "  <tbody>\n",
              "    <tr>\n",
              "      <th>0</th>\n",
              "      <td>61.197.203.243</td>\n",
              "      <td>11261</td>\n",
              "    </tr>\n",
              "    <tr>\n",
              "      <th>1</th>\n",
              "      <td>220.99.93.50</td>\n",
              "      <td>10752</td>\n",
              "    </tr>\n",
              "    <tr>\n",
              "      <th>2</th>\n",
              "      <td>218.25.17.234</td>\n",
              "      <td>5616</td>\n",
              "    </tr>\n",
              "    <tr>\n",
              "      <th>3</th>\n",
              "      <td>188.87.35.25</td>\n",
              "      <td>3676</td>\n",
              "    </tr>\n",
              "    <tr>\n",
              "      <th>4</th>\n",
              "      <td>67.205.20.23</td>\n",
              "      <td>1804</td>\n",
              "    </tr>\n",
              "    <tr>\n",
              "      <th>...</th>\n",
              "      <td>...</td>\n",
              "      <td>...</td>\n",
              "    </tr>\n",
              "    <tr>\n",
              "      <th>1914</th>\n",
              "      <td>121.41.77.133</td>\n",
              "      <td>1</td>\n",
              "    </tr>\n",
              "    <tr>\n",
              "      <th>1915</th>\n",
              "      <td>171.13.14.44</td>\n",
              "      <td>1</td>\n",
              "    </tr>\n",
              "    <tr>\n",
              "      <th>1916</th>\n",
              "      <td>220.247.238.237</td>\n",
              "      <td>1</td>\n",
              "    </tr>\n",
              "    <tr>\n",
              "      <th>1917</th>\n",
              "      <td>61.219.98.102</td>\n",
              "      <td>1</td>\n",
              "    </tr>\n",
              "    <tr>\n",
              "      <th>1918</th>\n",
              "      <td>81.169.185.92</td>\n",
              "      <td>1</td>\n",
              "    </tr>\n",
              "  </tbody>\n",
              "</table>\n",
              "<p>1919 rows × 2 columns</p>\n",
              "</div>"
            ],
            "text/plain": [
              "                   IP  Count\n",
              "0      61.197.203.243  11261\n",
              "1        220.99.93.50  10752\n",
              "2       218.25.17.234   5616\n",
              "3        188.87.35.25   3676\n",
              "4        67.205.20.23   1804\n",
              "...               ...    ...\n",
              "1914    121.41.77.133      1\n",
              "1915     171.13.14.44      1\n",
              "1916  220.247.238.237      1\n",
              "1917    61.219.98.102      1\n",
              "1918    81.169.185.92      1\n",
              "\n",
              "[1919 rows x 2 columns]"
            ]
          },
          "metadata": {
            "tags": []
          },
          "execution_count": 18
        }
      ]
    },
    {
      "cell_type": "code",
      "metadata": {
        "id": "x2S_bQpXE-XG",
        "outputId": "c27dd34f-1610-4dbb-f1e9-66a232e388a6",
        "colab": {
          "base_uri": "https://localhost:8080/",
          "height": 1000
        }
      },
      "source": [
        "# Bar graph that plots the top 50 occuring IP addresses\n",
        "connecting_IP.iloc[0:20].plot(kind='bar', title='Top 20 Repeated IPs', x='IP', y='Count', figsize=(16,16))  \n",
        "plt.show()\n"
      ],
      "execution_count": 27,
      "outputs": [
        {
          "output_type": "error",
          "ename": "AttributeError",
          "evalue": "ignored",
          "traceback": [
            "\u001b[0;31m---------------------------------------------------------------------------\u001b[0m",
            "\u001b[0;31mAttributeError\u001b[0m                            Traceback (most recent call last)",
            "\u001b[0;32m<ipython-input-27-cb8f86f45fc6>\u001b[0m in \u001b[0;36m<module>\u001b[0;34m()\u001b[0m\n\u001b[1;32m      1\u001b[0m \u001b[0;31m# Bar graph that plots the top 50 occuring IP addresses\u001b[0m\u001b[0;34m\u001b[0m\u001b[0;34m\u001b[0m\u001b[0;34m\u001b[0m\u001b[0m\n\u001b[1;32m      2\u001b[0m \u001b[0mconnecting_IP\u001b[0m\u001b[0;34m.\u001b[0m\u001b[0miloc\u001b[0m\u001b[0;34m[\u001b[0m\u001b[0;36m0\u001b[0m\u001b[0;34m:\u001b[0m\u001b[0;36m20\u001b[0m\u001b[0;34m]\u001b[0m\u001b[0;34m.\u001b[0m\u001b[0mplot\u001b[0m\u001b[0;34m(\u001b[0m\u001b[0mkind\u001b[0m\u001b[0;34m=\u001b[0m\u001b[0;34m'bar'\u001b[0m\u001b[0;34m,\u001b[0m \u001b[0mtitle\u001b[0m\u001b[0;34m=\u001b[0m\u001b[0;34m'Top 20 Repeated IPs'\u001b[0m\u001b[0;34m,\u001b[0m \u001b[0mx\u001b[0m\u001b[0;34m=\u001b[0m\u001b[0;34m'IP'\u001b[0m\u001b[0;34m,\u001b[0m \u001b[0my\u001b[0m\u001b[0;34m=\u001b[0m\u001b[0;34m'Count'\u001b[0m\u001b[0;34m,\u001b[0m \u001b[0mfigsize\u001b[0m\u001b[0;34m=\u001b[0m\u001b[0;34m(\u001b[0m\u001b[0;36m16\u001b[0m\u001b[0;34m,\u001b[0m\u001b[0;36m16\u001b[0m\u001b[0;34m)\u001b[0m\u001b[0;34m)\u001b[0m\u001b[0;34m\u001b[0m\u001b[0;34m\u001b[0m\u001b[0m\n\u001b[0;32m----> 3\u001b[0;31m \u001b[0mplt\u001b[0m\u001b[0;34m.\u001b[0m\u001b[0mset_xticks\u001b[0m\u001b[0;34m(\u001b[0m\u001b[0mplt\u001b[0m\u001b[0;34m.\u001b[0m\u001b[0mget_xticks\u001b[0m\u001b[0;34m(\u001b[0m\u001b[0;34m)\u001b[0m\u001b[0;34m[\u001b[0m\u001b[0;34m:\u001b[0m\u001b[0;34m:\u001b[0m\u001b[0;36m2\u001b[0m\u001b[0;34m]\u001b[0m\u001b[0;34m)\u001b[0m\u001b[0;34m\u001b[0m\u001b[0;34m\u001b[0m\u001b[0m\n\u001b[0m\u001b[1;32m      4\u001b[0m \u001b[0mplt\u001b[0m\u001b[0;34m.\u001b[0m\u001b[0mshow\u001b[0m\u001b[0;34m(\u001b[0m\u001b[0;34m)\u001b[0m\u001b[0;34m\u001b[0m\u001b[0;34m\u001b[0m\u001b[0m\n",
            "\u001b[0;31mAttributeError\u001b[0m: module 'matplotlib.pyplot' has no attribute 'set_xticks'"
          ]
        },
        {
          "output_type": "display_data",
          "data": {
            "image/png": "[encoded data removed]",
            "text/plain": [
              "<Figure size 1152x1152 with 1 Axes>"
            ]
          },
          "metadata": {
            "tags": [],
            "needs_background": "light"
          }
        }
      ]
    },
    {
      "cell_type": "code",
      "metadata": {
        "id": "QpOhdbF8fyJy",
        "outputId": "1898711e-8cc6-4fc4-af0b-8788de8e2495",
        "colab": {
          "base_uri": "https://localhost:8080/",
          "height": 34
        }
      },
      "source": [
        "# Count of unique IPs (includes NaN)\n",
        "df['Connecting IP'].nunique()"
      ],
      "execution_count": 21,
      "outputs": [
        {
          "output_type": "execute_result",
          "data": {
            "text/plain": [
              "1919"
            ]
          },
          "metadata": {
            "tags": []
          },
          "execution_count": 21
        }
      ]
    },
    {
      "cell_type": "code",
      "metadata": {
        "id": "1_GBUone-268",
        "outputId": "38d0aa69-14f3-412a-cabc-417f7f842501",
        "colab": {
          "base_uri": "https://localhost:8080/",
          "height": 953
        }
      },
      "source": [
        "# Graph of the services used and how frequently (couldn't figure out how to get axis labels)\n",
        "df['Service'].value_counts().plot(kind='bar', title='Service Occurance', figsize=(12,16))  \n",
        "plt.show()"
      ],
      "execution_count": 22,
      "outputs": [
        {
          "output_type": "display_data",
          "data": {
            "image/png": "[encoded data removed]",
            "text/plain": [
              "<Figure size 864x1152 with 1 Axes>"
            ]
          },
          "metadata": {
            "tags": [],
            "needs_background": "light"
          }
        }
      ]
    }
  ]
}