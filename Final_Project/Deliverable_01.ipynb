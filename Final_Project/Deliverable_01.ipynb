{
  "nbformat": 4,
  "nbformat_minor": 0,
  "metadata": {
    "colab": {
      "name": "Deliverable_01.ipynb",
      "provenance": [],
      "authorship_tag": "ABX9TyPV3iO3EtWy6jSc2rAWXJi0",
      "include_colab_link": true
    },
    "kernelspec": {
      "name": "python3",
      "display_name": "Python 3"
    }
  },
  "cells": [
    {
      "cell_type": "markdown",
      "metadata": {
        "id": "view-in-github",
        "colab_type": "text"
      },
      "source": [
        "<a href=\"https://colab.research.google.com/github/steinruck/WANG-690-FALL-2020/blob/master/Final_Project/Deliverable_01.ipynb\" target=\"_parent\"><img src=\"https://colab.research.google.com/assets/colab-badge.svg\" alt=\"Open In Colab\"/></a>"
      ]
    },
    {
      "cell_type": "markdown",
      "metadata": {
        "id": "kmNDkb8WHmBL",
        "colab_type": "text"
      },
      "source": [
        "# Individual Project\n",
        "\n",
        "Find an issue that you are passionate about or are interested in as the topic for this exploratory data analysis project.\n",
        "  - cybersecurity of some kind\n",
        "  - possibly security log analysis\n",
        "  - possibly malware database type stuff\n",
        "  - auth.log for failed ssh attempts\n",
        "  - University of Victoria Botnet Dataset for botnet tracing might be cool\n",
        "    - https://www.uvic.ca/engineering/ece/isot/datasets/botnet-ransomware/index.php\n",
        "  - Could also create my own dataset based on packet captures\n",
        "\n",
        "Make sure there are publicly available data about this issue to perform exploratory analysis.\n",
        "  - http://www.secrepo.com/\n",
        "\n",
        "The analysis should include descriptive statistics, data visualization, and optionally statistical inference.\n",
        "\n",
        "## Deliverable #1 - Project Proposal in Markdown format\n",
        "\n",
        "Write and submit a research proposal in the Markdown format that answers the following questions:\n",
        "\n",
        "\n"
      ]
    },
    {
      "cell_type": "markdown",
      "metadata": {
        "id": "NXeGpeWmPqIw",
        "colab_type": "text"
      },
      "source": [
        "### 1. What is your issue of interest (provide sufficient background information)?\n",
        "\n"
      ]
    },
    {
      "cell_type": "markdown",
      "metadata": {
        "id": "n3eh7Ua3OHg8",
        "colab_type": "text"
      },
      "source": [
        "2. Why is this issue important to you and/or to others?\n",
        "- As a network analyst, one of my tasks is to analyze network traffic in order to determine what is happening in the network. We track access vectors and types of traffic as well as parsing through authentication logs and network connections. Surprisingly, my office does not have a data scientist. As such, we waste a lot of time copying and pasting data into spreadsheets instead of using data cleansing, visualization, descriptive statistics, or any other form of analysis that could be vastly helpful. Performing analysis on this data in particular will help me recognize malicious traffic in networks as well as understand what access vectors are taken advantage of. It will also help to identify different types of devices in networks and what they are used for. "
      ]
    },
    {
      "cell_type": "markdown",
      "metadata": {
        "id": "SzfXfNJpOJRC",
        "colab_type": "text"
      },
      "source": [
        "3. What questions do you have in mind and wouyld like to answer?\n",
        "- what types of devices are typically targeted for botnets or other malicious activity?\n",
        "- how many devices are in the network?\n",
        "- what is the most common traffic?\n",
        "- how much of the network traffic is malicious?\n",
        "- from which networks does the malicious traffic originate?"
      ]
    },
    {
      "cell_type": "markdown",
      "metadata": {
        "id": "t7GknbR-OK66",
        "colab_type": "text"
      },
      "source": [
        "4. Where do you get the data to help answer your questions? \n",
        "- http://www.iscx.ca/datasets/\n",
        "  - found via \n",
        "- http://www.iscx.ca/datasets/\n",
        "  - which has a large list of cybersecurity related datasets \n",
        "- https://www.uvic.ca/engineering/ece/isot/assets/docs/isot-datase.pdf \n",
        "  pdf describing dataset"
      ]
    },
    {
      "cell_type": "markdown",
      "metadata": {
        "id": "owcGP1fMOMeT",
        "colab_type": "text"
      },
      "source": [
        "5. What will be your unit of analysis (for example, patient, organization, or country)? Roughly how many units do you expect to analyze?\n",
        "-  Traffic Lab at Ericsson Research in Hungary\n",
        "-  Lawrence Berkeley National Lab (LBNL)\n",
        "- The network trace happened over three months over 22 subnets. There are 9840 devices in the capture, totalling 161 million packets"
      ]
    },
    {
      "cell_type": "markdown",
      "metadata": {
        "id": "zn0UOnEQOOJd",
        "colab_type": "text"
      },
      "source": [
        "6. What variables/measures do you plan to use in your analysis?\n",
        "- I plan to isolate individual devices crafting malicious packets\n",
        "- subnets that send malicous vs benign traffic\n",
        "- sort by traffic type (protocol based)\n",
        "- which devices/IPs generate the most network traffic\n"
      ]
    },
    {
      "cell_type": "markdown",
      "metadata": {
        "id": "TEYbRRV7OQJI",
        "colab_type": "text"
      },
      "source": [
        "7. What kinds of techniques do you you plan to use (for example, summary statistics, scatter plot, bar chart, chi-squared test)? \n",
        "- I don't really know what these are yet \n",
        "- but I want to compare a network of normal traffic to one with a botnet\n",
        "- "
      ]
    }
  ]
}