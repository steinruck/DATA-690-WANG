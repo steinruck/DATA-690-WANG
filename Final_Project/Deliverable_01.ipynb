{
  "nbformat": 4,
  "nbformat_minor": 0,
  "metadata": {
    "colab": {
      "name": "Deliverable_01.ipynb",
      "provenance": [],
      "include_colab_link": true
    },
    "kernelspec": {
      "name": "python3",
      "display_name": "Python 3"
    }
  },
  "cells": [
    {
      "cell_type": "markdown",
      "metadata": {
        "id": "view-in-github",
        "colab_type": "text"
      },
      "source": [
        "<a href=\"https://colab.research.google.com/github/steinruck/WANG-690-FALL-2020/blob/master/Final_Project/Deliverable_01.ipynb\" target=\"_parent\"><img src=\"https://colab.research.google.com/assets/colab-badge.svg\" alt=\"Open In Colab\"/></a>"
      ]
    },
    {
      "cell_type": "markdown",
      "metadata": {
        "id": "kmNDkb8WHmBL"
      },
      "source": [
        "# Individual Project\n",
        "\n",
        "Find an issue that you are passionate about or are interested in as the topic for this exploratory data analysis project.\n",
        "  - auth.log for failed/successful logins as well as authentication processes.\n",
        "\n",
        "\n",
        "Make sure there are publicly available data about this issue to perform exploratory analysis.\n",
        "  - http://www.secrepo.com/\n",
        "    - under network -> system\n",
        "\n",
        "The analysis should include descriptive statistics, data visualization, and optionally statistical inference.\n",
        "\n",
        "## Deliverable #1 - Project Proposal in Markdown format\n",
        "\n"
      ]
    },
    {
      "cell_type": "markdown",
      "metadata": {
        "id": "NXeGpeWmPqIw"
      },
      "source": [
        "### 1. What is your issue of interest (provide sufficient background information)?\n",
        "\n"
      ]
    },
    {
      "cell_type": "markdown",
      "metadata": {
        "id": "n3eh7Ua3OHg8"
      },
      "source": [
        "2. Why is this issue important to you and/or to others?\n",
        "- As a network analyst, one of my tasks is to analyze network traffic in order to determine what is happening in the network. We track access vectors and types of traffic as well as parsing through authentication logs and network connections. Surprisingly, my office does not have a data scientist. As such, we waste a lot of time copying and pasting data into spreadsheets instead of using data cleansing, visualization, descriptive statistics, or any other form of analysis that could be vastly helpful. One of the things we like to track is how many failed login attempts have happened on a device as well as successful ones. This helps us know who is trying to access something they don't have authorization to access and potential access vectors. "
      ]
    },
    {
      "cell_type": "markdown",
      "metadata": {
        "id": "SzfXfNJpOJRC"
      },
      "source": [
        "3. What questions do you have in mind and would like to answer?\n",
        "- What IPs try to authenticate?\n",
        "- What services are used to authenticate?\n",
        "- What IP has the most failed login attempts?\n",
        "  - what type authentication is the one that fails the most?\n",
        "- What IP is trying to be authenticated to?"
      ]
    },
    {
      "cell_type": "markdown",
      "metadata": {
        "id": "t7GknbR-OK66"
      },
      "source": [
        "4. Where do you get the data to help answer your questions? \n",
        "- http://www.secrepo.com/auth.log/auth.log.gz\n"
      ]
    },
    {
      "cell_type": "markdown",
      "metadata": {
        "id": "owcGP1fMOMeT"
      },
      "source": [
        "5. What will be your unit of analysis (for example, patient, organization, or country)? Roughly how many units do you expect to analyze?\n",
        "- This auth.log file is pulled from one device with the IP 172.31.27.153. There are approximately 86k lines in the file (might break it down into smaller chunks)"
      ]
    },
    {
      "cell_type": "markdown",
      "metadata": {
        "id": "zn0UOnEQOOJd"
      },
      "source": [
        "6. What variables/measures do you plan to use in your analysis?\n",
        "- Data/time\n",
        "- Service\n",
        "- IP\n",
        "- Description\n",
        "- will add a username based off of descriptions containing usernames\n",
        "\n"
      ]
    },
    {
      "cell_type": "markdown",
      "metadata": {
        "id": "TEYbRRV7OQJI"
      },
      "source": [
        "7. What kinds of techniques do you you plan to use (for example, summary statistics, scatter plot, bar chart, chi-squared test)? \n",
        "- scatter plot - matching date to failed attempts, \n",
        "- bar chart - number of logins attempts per user (failure vs success)\n",
        "- anything that can show me number of occurances (ie. per username/ip)\n",
        "- common generated logs vs abnormal ones \n",
        "- I'm sure some kind of statistics once we learn a little more about it "
      ]
    }
  ]
}