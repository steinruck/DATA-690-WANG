{
  "nbformat": 4,
  "nbformat_minor": 0,
  "metadata": {
    "colab": {
      "name": "Deliverable_01.ipynb",
      "provenance": [],
      "authorship_tag": "ABX9TyN0bh9ge9rieNs+1BfhDOZR",
      "include_colab_link": true
    },
    "kernelspec": {
      "name": "python3",
      "display_name": "Python 3"
    }
  },
  "cells": [
    {
      "cell_type": "markdown",
      "metadata": {
        "id": "view-in-github",
        "colab_type": "text"
      },
      "source": [
        "<a href=\"https://colab.research.google.com/github/steinruck/WANG-690-FALL-2020/blob/master/Final_Project/Deliverable_01.ipynb\" target=\"_parent\"><img src=\"https://colab.research.google.com/assets/colab-badge.svg\" alt=\"Open In Colab\"/></a>"
      ]
    },
    {
      "cell_type": "markdown",
      "metadata": {
        "id": "kmNDkb8WHmBL"
      },
      "source": [
        "# Individual Project\n",
        "\n",
        "Find an issue that you are passionate about or are interested in as the topic for this exploratory data analysis project.\n",
        "  - auth.log for failed ssh attempts\n",
        "\n",
        "\n",
        "Make sure there are publicly available data about this issue to perform exploratory analysis.\n",
        "  - http://www.secrepo.com/\n",
        "\n",
        "The analysis should include descriptive statistics, data visualization, and optionally statistical inference.\n",
        "\n",
        "## Deliverable #1 - Project Proposal in Markdown format\n",
        "\n",
        "Write and submit a research proposal in the Markdown format that answers the following questions:\n",
        "\n",
        "\n"
      ]
    },
    {
      "cell_type": "markdown",
      "metadata": {
        "id": "NXeGpeWmPqIw"
      },
      "source": [
        "### 1. What is your issue of interest (provide sufficient background information)?\n",
        "\n"
      ]
    },
    {
      "cell_type": "markdown",
      "metadata": {
        "id": "n3eh7Ua3OHg8"
      },
      "source": [
        "2. Why is this issue important to you and/or to others?\n",
        "- As a network analyst, one of my tasks is to analyze network traffic in order to determine what is happening in the network. We track access vectors and types of traffic as well as parsing through authentication logs and network connections. Surprisingly, my office does not have a data scientist. As such, we waste a lot of time copying and pasting data into spreadsheets instead of using data cleansing, visualization, descriptive statistics, or any other form of analysis that could be vastly helpful. One of the things we like to track is how many failed login attempts have happened on a device. This helps us know who is trying to access something they don't have authorization to access."
      ]
    },
    {
      "cell_type": "markdown",
      "metadata": {
        "id": "SzfXfNJpOJRC"
      },
      "source": [
        "3. What questions do you have in mind and would like to answer?\n",
        "- What IPs try to authenticate?\n",
        "- What services are used to authenticate?\n",
        "- What IP has the most failed login attempts?\n",
        "- What IP is trying to be authenticated to?"
      ]
    },
    {
      "cell_type": "markdown",
      "metadata": {
        "id": "t7GknbR-OK66"
      },
      "source": [
        "4. Where do you get the data to help answer your questions? \n",
        "- http://www.secrepo.com/auth.log/auth.log.gz\n",
        "- http://www.secrepo.com/maccdc2012/ssh.log.gz\n",
        "- https://en.wikibooks.org/wiki/OpenSSH/Logging_and_Troubleshooting - shh log info\n",
        "\n",
        "I have two because there are two types of logs that deal with authentication that I want to look at. "
      ]
    },
    {
      "cell_type": "markdown",
      "metadata": {
        "id": "owcGP1fMOMeT"
      },
      "source": [
        "5. What will be your unit of analysis (for example, patient, organization, or country)? Roughly how many units do you expect to analyze?\n",
        "- IP Address\n",
        "- Username\n",
        "- Service\n",
        "- Error description\n",
        "\n",
        "- the first file is ~87k lines. \n",
        "- second file "
      ]
    },
    {
      "cell_type": "markdown",
      "metadata": {
        "id": "zn0UOnEQOOJd"
      },
      "source": [
        "6. What variables/measures do you plan to use in your analysis?\n",
        "- Data/time\n",
        "- Service\n",
        "- IP\n",
        "- Description\n",
        "\n"
      ]
    },
    {
      "cell_type": "markdown",
      "metadata": {
        "id": "TEYbRRV7OQJI"
      },
      "source": [
        "7. What kinds of techniques do you you plan to use (for example, summary statistics, scatter plot, bar chart, chi-squared test)? \n",
        "- scatter plot\n",
        "- bar chart\n",
        "- anything that can show me number of occurances\n",
        "- anything that can show me hits on keywords from the description (mainly in sshd)"
      ]
    }
  ]
}