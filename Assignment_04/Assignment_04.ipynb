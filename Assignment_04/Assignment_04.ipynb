{
  "nbformat": 4,
  "nbformat_minor": 0,
  "metadata": {
    "colab": {
      "name": "Assignment_04.ipynb",
      "provenance": [],
      "collapsed_sections": [],
      "authorship_tag": "ABX9TyOxWmlPc+xc4VwYpPBupGSV",
      "include_colab_link": true
    },
    "kernelspec": {
      "name": "python3",
      "display_name": "Python 3"
    }
  },
  "cells": [
    {
      "cell_type": "markdown",
      "metadata": {
        "id": "view-in-github",
        "colab_type": "text"
      },
      "source": [
        "<a href=\"https://colab.research.google.com/github/steinruck/WANG-690-FALL-2020/blob/master/Assignment_04/Assignment_04.ipynb\" target=\"_parent\"><img src=\"https://colab.research.google.com/assets/colab-badge.svg\" alt=\"Open In Colab\"/></a>"
      ]
    },
    {
      "cell_type": "markdown",
      "metadata": {
        "id": "MxShwWqpXElX",
        "colab_type": "text"
      },
      "source": [
        "# Assignment 04\n"
      ]
    },
    {
      "cell_type": "markdown",
      "metadata": {
        "id": "_NgquCSDZi1Z",
        "colab_type": "text"
      },
      "source": [
        "1. Write code to open the text file [census_cost.txt](census_cost.txt) and read all lines into a list named **\"line_list\"**. Print line_list."
      ]
    },
    {
      "cell_type": "code",
      "metadata": {
        "id": "n0o01PCbZIF-",
        "colab_type": "code",
        "colab": {}
      },
      "source": [
        "# Open and read file\n",
        "with open(\"census_cost.txt\", \"rt\") as f:\n",
        "    line_list = f.readlines()"
      ],
      "execution_count": 1,
      "outputs": []
    },
    {
      "cell_type": "code",
      "metadata": {
        "id": "f_LIWGhQbdTc",
        "colab_type": "code",
        "colab": {
          "base_uri": "https://localhost:8080/",
          "height": 450
        },
        "outputId": "2861c56c-bf21-4b7a-cabd-2ea06beb6988"
      },
      "source": [
        "# Print one row at a time for cleanliness\n",
        "for line in line_list:\n",
        "    print(line, end=\"\")"
      ],
      "execution_count": 4,
      "outputs": [
        {
          "output_type": "stream",
          "text": [
            "Source: https://www.genealogybranches.com/censuscosts.html\n",
            "Census Year\tTotal Population\tCensus Cost\tAverage Cost Per Person\n",
            "1790\t3,929,214\t$44,377\t1.13 cents\n",
            "1800\t5,308,483\t$66,109\t1.24 cents\n",
            "1810\t7,239,881\t$178,445\t2.46 cents\n",
            "1820\t9,633,822\t$208,526\t2.16 cents\n",
            "1830\t12,866,020\t$378,545\t2.94 cents\n",
            "1840\t17,069,458\t$833,371\t4.88 cents\n",
            "1850\t23,191,876\t$1,423,351\t6.14 cents\n",
            "1860\t31,443,321\t$1,969,377\t6.26 cents\n",
            "1870\t38,558,371\t$3,421,198\t8.87 cents\n",
            "1880\t50,155,783\t$5,790,678\t11.54 cents\n",
            "1890\t62,979,766\t$11,547,127\t18.33 cents\n",
            "1900\t76,303,387\t$11,854,000\t15.54 cents\n",
            "1910\t91,972,266\t$15,968,000\t17.07 cents\n",
            "1920\t105,710,620\t$25,117,000\t23.76 cents\n",
            "1930\t122,775,046\t$40,156,000\t32.71 cents\n",
            "1940\t131,669,275\t$67,527,000\t51.29 cents\n",
            "1950\t151,325,798\t$91,462,000\t60.44 cents\n",
            "1960\t179,323,175\t$127,934,000\t71.34 cents\n",
            "1970\t203,302,031\t$247,653,000\t$1.22\n",
            "1980\t226,542,199\t$1,078,488,000\t$4.76\n",
            "1990\t248,718,301\t$2,492,830,000\t$10.02\n",
            "2000\t281,421,906\t$4.5 Billion\t$15.99\n",
            "2010*\t308,745,538\t$13 Billion\t$42.11"
          ],
          "name": "stdout"
        }
      ]
    },
    {
      "cell_type": "markdown",
      "metadata": {
        "id": "GAS8qeg_Zpnt",
        "colab_type": "text"
      },
      "source": [
        "2. Extract the first two lines and put them in a different list named \"top2_list\". You will need to use them later. Print the top2_list."
      ]
    },
    {
      "cell_type": "code",
      "metadata": {
        "id": "oYNnpQFIXEDu",
        "colab_type": "code",
        "colab": {
          "base_uri": "https://localhost:8080/",
          "height": 51
        },
        "outputId": "947727d1-779e-44dc-b55c-b987b0b029cb"
      },
      "source": [
        "line_list[2:]\n",
        "\n",
        "top2_list = line_list[:2] # stores first two lines in variable top2_list\n",
        "\n",
        "for line in top2_list:\n",
        "    print(line, end=\"\") # printn one on each line \n"
      ],
      "execution_count": 21,
      "outputs": [
        {
          "output_type": "stream",
          "text": [
            "Source: https://www.genealogybranches.com/censuscosts.html\n",
            "Census Year\tTotal Population\tCensus Cost\tAverage Cost Per Person\n"
          ],
          "name": "stdout"
        }
      ]
    },
    {
      "cell_type": "markdown",
      "metadata": {
        "id": "LH1LpTEnZu1A",
        "colab_type": "text"
      },
      "source": [
        "3. Put the rest of the lines (containing useful data elements) in a new list named \"data_list\". Print data_list."
      ]
    },
    {
      "cell_type": "code",
      "metadata": {
        "id": "hfjY9AWJZvJU",
        "colab_type": "code",
        "colab": {
          "base_uri": "https://localhost:8080/",
          "height": 415
        },
        "outputId": "eb8aaf1c-08f6-4302-9dbc-bb76715b96fe"
      },
      "source": [
        "data_list = line_list[2:] # stores everything below the first 2 lines in data_list\n",
        "\n",
        "for line in data_list:\n",
        "    print(line, end=\"\") # print one  line at a time"
      ],
      "execution_count": 22,
      "outputs": [
        {
          "output_type": "stream",
          "text": [
            "1790\t3,929,214\t$44,377\t1.13 cents\n",
            "1800\t5,308,483\t$66,109\t1.24 cents\n",
            "1810\t7,239,881\t$178,445\t2.46 cents\n",
            "1820\t9,633,822\t$208,526\t2.16 cents\n",
            "1830\t12,866,020\t$378,545\t2.94 cents\n",
            "1840\t17,069,458\t$833,371\t4.88 cents\n",
            "1850\t23,191,876\t$1,423,351\t6.14 cents\n",
            "1860\t31,443,321\t$1,969,377\t6.26 cents\n",
            "1870\t38,558,371\t$3,421,198\t8.87 cents\n",
            "1880\t50,155,783\t$5,790,678\t11.54 cents\n",
            "1890\t62,979,766\t$11,547,127\t18.33 cents\n",
            "1900\t76,303,387\t$11,854,000\t15.54 cents\n",
            "1910\t91,972,266\t$15,968,000\t17.07 cents\n",
            "1920\t105,710,620\t$25,117,000\t23.76 cents\n",
            "1930\t122,775,046\t$40,156,000\t32.71 cents\n",
            "1940\t131,669,275\t$67,527,000\t51.29 cents\n",
            "1950\t151,325,798\t$91,462,000\t60.44 cents\n",
            "1960\t179,323,175\t$127,934,000\t71.34 cents\n",
            "1970\t203,302,031\t$247,653,000\t$1.22\n",
            "1980\t226,542,199\t$1,078,488,000\t$4.76\n",
            "1990\t248,718,301\t$2,492,830,000\t$10.02\n",
            "2000\t281,421,906\t$4.5 Billion\t$15.99\n",
            "2010*\t308,745,538\t$13 Billion\t$42.11"
          ],
          "name": "stdout"
        }
      ]
    },
    {
      "cell_type": "markdown",
      "metadata": {
        "id": "DEYkzEmxZvmW",
        "colab_type": "text"
      },
      "source": [
        "4. Extract the column **\"Census Year\"** from data_list and assign them to a list named **year_list**. Remove the \"*\" from the last element \"2010*\". Print the cleansed year_list."
      ]
    },
    {
      "cell_type": "code",
      "metadata": {
        "id": "VN_i9zMIZvdT",
        "colab_type": "code",
        "colab": {
          "base_uri": "https://localhost:8080/",
          "height": 415
        },
        "outputId": "aa9ab38c-edb3-40ea-c42e-9e52dc5dabd4"
      },
      "source": [
        "year_list = []\n",
        "\n",
        "for line in data_list:\n",
        "    year_list.append(line.replace(\"*\", \"\").split(\"\\t\")[0]) # removes the asterisk from 2010* and splits after first column\n",
        "print(*year_list, sep = \"\\n\") # prints each item in list on new line"
      ],
      "execution_count": 7,
      "outputs": [
        {
          "output_type": "stream",
          "text": [
            "1790\n",
            "1800\n",
            "1810\n",
            "1820\n",
            "1830\n",
            "1840\n",
            "1850\n",
            "1860\n",
            "1870\n",
            "1880\n",
            "1890\n",
            "1900\n",
            "1910\n",
            "1920\n",
            "1930\n",
            "1940\n",
            "1950\n",
            "1960\n",
            "1970\n",
            "1980\n",
            "1990\n",
            "2000\n",
            "2010\n"
          ],
          "name": "stdout"
        }
      ]
    },
    {
      "cell_type": "markdown",
      "metadata": {
        "id": "MtESDiA9ZvUU",
        "colab_type": "text"
      },
      "source": [
        "5. Extract the **\"Total Population\"** column from the data_list and assign them to a list named **\"pop_list\"**. Remove the \",\" from the numbers since Python doesn't recognize them. Print the cleansed \"pop_list\"."
      ]
    },
    {
      "cell_type": "code",
      "metadata": {
        "id": "AQpD1PyTZvvT",
        "colab_type": "code",
        "colab": {
          "base_uri": "https://localhost:8080/",
          "height": 415
        },
        "outputId": "5dc52358-ad8b-4460-8572-1330d6008aba"
      },
      "source": [
        "pop_list = []\n",
        "\n",
        "for line in data_list:\n",
        "    pop_list.append(line.replace(\",\", \"\").split(\"\\t\")[1]) # removes the comma from values and only returns 2nd column\n",
        "print(*pop_list, sep = \"\\n\") # prints each item on new line"
      ],
      "execution_count": 8,
      "outputs": [
        {
          "output_type": "stream",
          "text": [
            "3929214\n",
            "5308483\n",
            "7239881\n",
            "9633822\n",
            "12866020\n",
            "17069458\n",
            "23191876\n",
            "31443321\n",
            "38558371\n",
            "50155783\n",
            "62979766\n",
            "76303387\n",
            "91972266\n",
            "105710620\n",
            "122775046\n",
            "131669275\n",
            "151325798\n",
            "179323175\n",
            "203302031\n",
            "226542199\n",
            "248718301\n",
            "281421906\n",
            "308745538\n"
          ],
          "name": "stdout"
        }
      ]
    },
    {
      "cell_type": "markdown",
      "metadata": {
        "id": "h2F8KrEQZv4U",
        "colab_type": "text"
      },
      "source": [
        "6. Extract the **\"Census Cost\"** column from the data_list and assign them to a list named **\"cost_list\"**. Remove the \",\", and \"$\", and \"Billion\".\n",
        "Make sure to add the \"0\"s to the numbers from which you removed \"Billion\". Print the cleansed cost_list.\n"
      ]
    },
    {
      "cell_type": "code",
      "metadata": {
        "id": "8GE_UOqGZwB-",
        "colab_type": "code",
        "colab": {
          "base_uri": "https://localhost:8080/",
          "height": 415
        },
        "outputId": "64d4745e-540c-4186-8e8b-a47a89f7efbc"
      },
      "source": [
        "cost_list = []\n",
        "\n",
        "for line in data_list:\n",
        "    # removes the comma, dollar signs, and changes billion or 0s. Had to change 4.5 to non decimal. Use only 3rd column\n",
        "    cost_list.append(line.replace(\",\", \"\").replace(\"$\", \"\").replace(\" Billion\", \"000000000\").replace(\".50\", \"5\").split(\"\\t\")[2])\n",
        "print(*cost_list, sep = \"\\n\") # print one on each line"
      ],
      "execution_count": 9,
      "outputs": [
        {
          "output_type": "stream",
          "text": [
            "44377\n",
            "66109\n",
            "178445\n",
            "208526\n",
            "378545\n",
            "833371\n",
            "1423351\n",
            "1969377\n",
            "3421198\n",
            "5790678\n",
            "11547127\n",
            "11854000\n",
            "15968000\n",
            "25117000\n",
            "40156000\n",
            "67527000\n",
            "91462000\n",
            "127934000\n",
            "247653000\n",
            "1078488000\n",
            "2492830000\n",
            "4500000000\n",
            "13000000000\n"
          ],
          "name": "stdout"
        }
      ]
    },
    {
      "cell_type": "markdown",
      "metadata": {
        "id": "2m1bXNvOZwLp",
        "colab_type": "text"
      },
      "source": [
        "7. Extract the **\"Average Cost per Person\"** column from the data_list and assign them to a list named **\"avg_list\"**. Remove the \"cents\", and \"$\".\n",
        "Make sure to divide the numbers in cents by 100 so that all numbers are measured in dollar. Print the cleansed avg_list.\n",
        "\n",
        "# removed cents but have not divided yet\n",
        "\n",
        "if find(\"cents\")\n",
        "  replace and convert to int\n",
        "  divide by 100\n",
        "\n",
        "could also do an if to check the return of the replace() and if it returns an altered string, convert to int and divide"
      ]
    },
    {
      "cell_type": "code",
      "metadata": {
        "id": "a5lrVdWDZwUo",
        "colab_type": "code",
        "colab": {
          "base_uri": "https://localhost:8080/",
          "height": 415
        },
        "outputId": "dd34c038-8213-40c9-d216-667e040c1ddf"
      },
      "source": [
        "avg_list = []\n",
        "\n",
        "for line in data_list:\n",
        "    avg_list.append(line.replace(\"$\", \"\").replace(\" cents\", \"\").strip().split(\"\\t\")[3]) # remove $ and sents, strip \\n column 4\n",
        "print(*avg_list, sep = \"\\n\") # print one on each line"
      ],
      "execution_count": 23,
      "outputs": [
        {
          "output_type": "stream",
          "text": [
            "1.13\n",
            "1.24\n",
            "2.46\n",
            "2.16\n",
            "2.94\n",
            "4.88\n",
            "6.14\n",
            "6.26\n",
            "8.87\n",
            "11.54\n",
            "18.33\n",
            "15.54\n",
            "17.07\n",
            "23.76\n",
            "32.71\n",
            "51.29\n",
            "60.44\n",
            "71.34\n",
            "1.22\n",
            "4.76\n",
            "10.02\n",
            "15.99\n",
            "42.11\n"
          ],
          "name": "stdout"
        }
      ]
    },
    {
      "cell_type": "code",
      "metadata": {
        "id": "fiI31r9VsEQ_",
        "colab_type": "code",
        "colab": {
          "base_uri": "https://localhost:8080/",
          "height": 415
        },
        "outputId": "a80f6da2-c3a4-47b6-da70-7094095a7cfc"
      },
      "source": [
        "float_list = []\n",
        "for item in avg_list:\n",
        "    float_list.append(float(item)) # convert every item in list to float\n",
        "print(*float_list, sep = \"\\n\") # print one on each line"
      ],
      "execution_count": 24,
      "outputs": [
        {
          "output_type": "stream",
          "text": [
            "1.13\n",
            "1.24\n",
            "2.46\n",
            "2.16\n",
            "2.94\n",
            "4.88\n",
            "6.14\n",
            "6.26\n",
            "8.87\n",
            "11.54\n",
            "18.33\n",
            "15.54\n",
            "17.07\n",
            "23.76\n",
            "32.71\n",
            "51.29\n",
            "60.44\n",
            "71.34\n",
            "1.22\n",
            "4.76\n",
            "10.02\n",
            "15.99\n",
            "42.11\n"
          ],
          "name": "stdout"
        }
      ]
    },
    {
      "cell_type": "code",
      "metadata": {
        "id": "_aO_mRYzsnxH",
        "colab_type": "code",
        "colab": {
          "base_uri": "https://localhost:8080/",
          "height": 329
        },
        "outputId": "2c450bd3-a34e-4555-b160-4d8648de98c8"
      },
      "source": [
        "cents_list = [] # used to temporarily store only cents values\n",
        "for i in float_list[0:18:1]: # first 18 values because they were written in cents\n",
        "    cents_list.append(round((i / 100), 4)) # divide by 100 to convert from cents to dollars. 4 decimal places for accuracy\n",
        "print(*cents_list, sep = \"\\n\") # print one on each line"
      ],
      "execution_count": 15,
      "outputs": [
        {
          "output_type": "stream",
          "text": [
            "0.0113\n",
            "0.0124\n",
            "0.0246\n",
            "0.0216\n",
            "0.0294\n",
            "0.0488\n",
            "0.0614\n",
            "0.0626\n",
            "0.0887\n",
            "0.1154\n",
            "0.1833\n",
            "0.1554\n",
            "0.1707\n",
            "0.2376\n",
            "0.3271\n",
            "0.5129\n",
            "0.6044\n",
            "0.7134\n"
          ],
          "name": "stdout"
        }
      ]
    },
    {
      "cell_type": "code",
      "metadata": {
        "id": "pjSlQXk-xUFz",
        "colab_type": "code",
        "colab": {
          "base_uri": "https://localhost:8080/",
          "height": 103
        },
        "outputId": "2070d338-5140-4a5a-8ceb-3f2b65f0dc75"
      },
      "source": [
        "dollar_list = []\n",
        "for i in float_list[18:23:1]: # last 5 values in list\n",
        "    dollar_list.append((i)) # assign to separate list of only dollars\n",
        "print(*dollar_list, sep = \"\\n\") # print on each line"
      ],
      "execution_count": 14,
      "outputs": [
        {
          "output_type": "stream",
          "text": [
            "1.22\n",
            "4.76\n",
            "10.02\n",
            "15.99\n",
            "42.11\n"
          ],
          "name": "stdout"
        }
      ]
    },
    {
      "cell_type": "code",
      "metadata": {
        "id": "3FVG_2SzzX1G",
        "colab_type": "code",
        "colab": {
          "base_uri": "https://localhost:8080/",
          "height": 415
        },
        "outputId": "0c6f7057-277d-453b-87c4-bc574e324b44"
      },
      "source": [
        "avg_list = cents_list + dollar_list # combine cents and dollar lists to make one avg_list \n",
        "print(*avg_list, sep = \"\\n\") # print one each line"
      ],
      "execution_count": 25,
      "outputs": [
        {
          "output_type": "stream",
          "text": [
            "0.0113\n",
            "0.0124\n",
            "0.0246\n",
            "0.0216\n",
            "0.0294\n",
            "0.0488\n",
            "0.0614\n",
            "0.0626\n",
            "0.0887\n",
            "0.1154\n",
            "0.1833\n",
            "0.1554\n",
            "0.1707\n",
            "0.2376\n",
            "0.3271\n",
            "0.5129\n",
            "0.6044\n",
            "0.7134\n",
            "1.22\n",
            "4.76\n",
            "10.02\n",
            "15.99\n",
            "42.11\n"
          ],
          "name": "stdout"
        }
      ]
    },
    {
      "cell_type": "markdown",
      "metadata": {
        "id": "uer8jydyodE5",
        "colab_type": "text"
      },
      "source": [
        "8. Coalesce the cleansed data and save them to a text file named \"census_cost.csv\". The new file should look similar to the original source file except that it is in comma-delimited format and the numbers have been cleansed. The top two lines from the original file should be retained in the new file."
      ]
    },
    {
      "cell_type": "code",
      "metadata": {
        "id": "3SIPlZX8oc5M",
        "colab_type": "code",
        "colab": {
          "base_uri": "https://localhost:8080/",
          "height": 467
        },
        "outputId": "36e03a7c-3961-4fb3-b9bd-0de321a7baa3"
      },
      "source": [
        "# not necessary for the assignment but was playing around and want to kepe this for later\n",
        "print(*top2_list, sep = \"\\n\", end=\"\") # print header variable\n",
        "zipped = zip(year_list, pop_list, cost_list, avg_list) # combine all lists into one zip\n",
        "print(*zipped, sep = \"\\n\") # print one line at a time"
      ],
      "execution_count": 32,
      "outputs": [
        {
          "output_type": "stream",
          "text": [
            "Source: https://www.genealogybranches.com/censuscosts.html\n",
            "\n",
            "Census Year\tTotal Population\tCensus Cost\tAverage Cost Per Person\n",
            "('1790', '3929214', '44377', 0.0113)\n",
            "('1800', '5308483', '66109', 0.0124)\n",
            "('1810', '7239881', '178445', 0.0246)\n",
            "('1820', '9633822', '208526', 0.0216)\n",
            "('1830', '12866020', '378545', 0.0294)\n",
            "('1840', '17069458', '833371', 0.0488)\n",
            "('1850', '23191876', '1423351', 0.0614)\n",
            "('1860', '31443321', '1969377', 0.0626)\n",
            "('1870', '38558371', '3421198', 0.0887)\n",
            "('1880', '50155783', '5790678', 0.1154)\n",
            "('1890', '62979766', '11547127', 0.1833)\n",
            "('1900', '76303387', '11854000', 0.1554)\n",
            "('1910', '91972266', '15968000', 0.1707)\n",
            "('1920', '105710620', '25117000', 0.2376)\n",
            "('1930', '122775046', '40156000', 0.3271)\n",
            "('1940', '131669275', '67527000', 0.5129)\n",
            "('1950', '151325798', '91462000', 0.6044)\n",
            "('1960', '179323175', '127934000', 0.7134)\n",
            "('1970', '203302031', '247653000', 1.22)\n",
            "('1980', '226542199', '1078488000', 4.76)\n",
            "('1990', '248718301', '2492830000', 10.02)\n",
            "('2000', '281421906', '4500000000', 15.99)\n",
            "('2010', '308745538', '13000000000', 42.11)\n"
          ],
          "name": "stdout"
        }
      ]
    },
    {
      "cell_type": "code",
      "metadata": {
        "id": "9RTJfmzY5B9x",
        "colab_type": "code",
        "colab": {}
      },
      "source": [
        "combined = [year_list, pop_list, cost_list, avg_list] # combines all columns in one list \n",
        "with open(\"census_cost.csv\", \"wt\") as f: # opens writable file \n",
        "    f.write(\"\\n\".join(top2_list)) # adds top2_list as first 2 lines\n",
        "    for line in zip(*combined): # zips each list from combined into columns\n",
        "        f.write(\"{0},{1},{2},{3}\\n\".format(*line)) # writes as 4 columns, comma separated. One per line"
      ],
      "execution_count": 40,
      "outputs": []
    },
    {
      "cell_type": "markdown",
      "metadata": {
        "id": "yJRWUA7koesB",
        "colab_type": "text"
      },
      "source": [
        "9. Open the newly-created file \"census_cost.csv\", read all lines and display them. How does it look?"
      ]
    },
    {
      "cell_type": "code",
      "metadata": {
        "id": "nCoY5T52oe4H",
        "colab_type": "code",
        "colab": {
          "base_uri": "https://localhost:8080/",
          "height": 467
        },
        "outputId": "c792a4e1-a19d-4631-dd41-84c9a821a84d"
      },
      "source": [
        "with open(\"census_cost.csv\", \"rt\") as f: #opens read file\n",
        "    finished_list = f.readlines() # assigns lines to finished_list variable\n",
        "for line in finished_list: \n",
        "    print(line, end=\"\") # prints one line at a time"
      ],
      "execution_count": 42,
      "outputs": [
        {
          "output_type": "stream",
          "text": [
            "Source: https://www.genealogybranches.com/censuscosts.html\n",
            "\n",
            "Census Year\tTotal Population\tCensus Cost\tAverage Cost Per Person\n",
            "1790,3929214,44377,0.0113\n",
            "1800,5308483,66109,0.0124\n",
            "1810,7239881,178445,0.0246\n",
            "1820,9633822,208526,0.0216\n",
            "1830,12866020,378545,0.0294\n",
            "1840,17069458,833371,0.0488\n",
            "1850,23191876,1423351,0.0614\n",
            "1860,31443321,1969377,0.0626\n",
            "1870,38558371,3421198,0.0887\n",
            "1880,50155783,5790678,0.1154\n",
            "1890,62979766,11547127,0.1833\n",
            "1900,76303387,11854000,0.1554\n",
            "1910,91972266,15968000,0.1707\n",
            "1920,105710620,25117000,0.2376\n",
            "1930,122775046,40156000,0.3271\n",
            "1940,131669275,67527000,0.5129\n",
            "1950,151325798,91462000,0.6044\n",
            "1960,179323175,127934000,0.7134\n",
            "1970,203302031,247653000,1.22\n",
            "1980,226542199,1078488000,4.76\n",
            "1990,248718301,2492830000,10.02\n",
            "2000,281421906,4500000000,15.99\n",
            "2010,308745538,13000000000,42.11\n"
          ],
          "name": "stdout"
        }
      ]
    }
  ]
}