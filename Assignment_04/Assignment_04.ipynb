{
  "nbformat": 4,
  "nbformat_minor": 0,
  "metadata": {
    "colab": {
      "name": "Assignment_04.ipynb",
      "provenance": [],
      "collapsed_sections": [],
      "toc_visible": true,
      "authorship_tag": "ABX9TyPuwnJkK4pEB+xr8e0HY4Dl",
      "include_colab_link": true
    },
    "kernelspec": {
      "name": "python3",
      "display_name": "Python 3"
    }
  },
  "cells": [
    {
      "cell_type": "markdown",
      "metadata": {
        "id": "view-in-github",
        "colab_type": "text"
      },
      "source": [
        "<a href=\"https://colab.research.google.com/github/steinruck/WANG-690-FALL-2020/blob/master/Assignment_04/Assignment_04.ipynb\" target=\"_parent\"><img src=\"https://colab.research.google.com/assets/colab-badge.svg\" alt=\"Open In Colab\"/></a>"
      ]
    },
    {
      "cell_type": "markdown",
      "metadata": {
        "id": "MxShwWqpXElX",
        "colab_type": "text"
      },
      "source": [
        "# Assignment 04\n"
      ]
    },
    {
      "cell_type": "markdown",
      "metadata": {
        "id": "_NgquCSDZi1Z",
        "colab_type": "text"
      },
      "source": [
        "1. Write code to open the text file [census_cost.txt](census_cost.txt) and read all lines into a list named **\"line_list\"**. Print line_list."
      ]
    },
    {
      "cell_type": "code",
      "metadata": {
        "id": "n0o01PCbZIF-",
        "colab_type": "code",
        "colab": {}
      },
      "source": [
        "# Open and read file\n",
        "with open(\"census_cost.txt\", \"rt\") as f:\n",
        "    line_list = f.readlines()\n"
      ],
      "execution_count": 7,
      "outputs": []
    },
    {
      "cell_type": "code",
      "metadata": {
        "id": "aUHhDO9EbJyc",
        "colab_type": "code",
        "colab": {
          "base_uri": "https://localhost:8080/",
          "height": 34
        },
        "outputId": "61e857b4-6197-4a6c-b4f5-7691f68f9750"
      },
      "source": [
        "type(line_list)"
      ],
      "execution_count": 9,
      "outputs": [
        {
          "output_type": "execute_result",
          "data": {
            "text/plain": [
              "list"
            ]
          },
          "metadata": {
            "tags": []
          },
          "execution_count": 9
        }
      ]
    },
    {
      "cell_type": "code",
      "metadata": {
        "id": "xXsBcl5iaBVP",
        "colab_type": "code",
        "colab": {
          "base_uri": "https://localhost:8080/",
          "height": 54
        },
        "outputId": "7cef919f-77b0-4a56-f90b-ea5c8e945a46"
      },
      "source": [
        "# Print the list of lines\n",
        "# Boiler plate print() looks ugly\n",
        "print(line_list)"
      ],
      "execution_count": 8,
      "outputs": [
        {
          "output_type": "stream",
          "text": [
            "['Source: https://www.genealogybranches.com/censuscosts.html\\n', 'Census Year\\tTotal Population\\tCensus Cost\\tAverage Cost Per Person\\n', '1790\\t3,929,214\\t$44,377\\t1.13 cents\\n', '1800\\t5,308,483\\t$66,109\\t1.24 cents\\n', '1810\\t7,239,881\\t$178,445\\t2.46 cents\\n', '1820\\t9,633,822\\t$208,526\\t2.16 cents\\n', '1830\\t12,866,020\\t$378,545\\t2.94 cents\\n', '1840\\t17,069,458\\t$833,371\\t4.88 cents\\n', '1850\\t23,191,876\\t$1,423,351\\t6.14 cents\\n', '1860\\t31,443,321\\t$1,969,377\\t6.26 cents\\n', '1870\\t38,558,371\\t$3,421,198\\t8.87 cents\\n', '1880\\t50,155,783\\t$5,790,678\\t11.54 cents\\n', '1890\\t62,979,766\\t$11,547,127\\t18.33 cents\\n', '1900\\t76,303,387\\t$11,854,000\\t15.54 cents\\n', '1910\\t91,972,266\\t$15,968,000\\t17.07 cents\\n', '1920\\t105,710,620\\t$25,117,000\\t23.76 cents\\n', '1930\\t122,775,046\\t$40,156,000\\t32.71 cents\\n', '1940\\t131,669,275\\t$67,527,000\\t51.29 cents\\n', '1950\\t151,325,798\\t$91,462,000\\t60.44 cents\\n', '1960\\t179,323,175\\t$127,934,000\\t71.34 cents\\n', '1970\\t203,302,031\\t$247,653,000\\t$1.22\\n', '1980\\t226,542,199\\t$1,078,488,000\\t$4.76\\n', '1990\\t248,718,301\\t$2,492,830,000\\t$10.02\\n', '2000\\t281,421,906\\t$4.5 Billion\\t$15.99\\n', '2010*\\t308,745,538\\t$13 Billion\\t$42.11']\n"
          ],
          "name": "stdout"
        }
      ]
    },
    {
      "cell_type": "code",
      "metadata": {
        "id": "f_LIWGhQbdTc",
        "colab_type": "code",
        "colab": {
          "base_uri": "https://localhost:8080/",
          "height": 450
        },
        "outputId": "14ab23cc-93bd-44bb-963a-c71850f90d22"
      },
      "source": [
        "# Print one row at a time for cleanliness\n",
        "for line in line_list:\n",
        "    print(line, end=\"\")"
      ],
      "execution_count": 50,
      "outputs": [
        {
          "output_type": "stream",
          "text": [
            "Source: https://www.genealogybranches.com/censuscosts.html\n",
            "Census Year\tTotal Population\tCensus Cost\tAverage Cost Per Person\n",
            "1790\t3,929,214\t$44,377\t1.13 cents\n",
            "1800\t5,308,483\t$66,109\t1.24 cents\n",
            "1810\t7,239,881\t$178,445\t2.46 cents\n",
            "1820\t9,633,822\t$208,526\t2.16 cents\n",
            "1830\t12,866,020\t$378,545\t2.94 cents\n",
            "1840\t17,069,458\t$833,371\t4.88 cents\n",
            "1850\t23,191,876\t$1,423,351\t6.14 cents\n",
            "1860\t31,443,321\t$1,969,377\t6.26 cents\n",
            "1870\t38,558,371\t$3,421,198\t8.87 cents\n",
            "1880\t50,155,783\t$5,790,678\t11.54 cents\n",
            "1890\t62,979,766\t$11,547,127\t18.33 cents\n",
            "1900\t76,303,387\t$11,854,000\t15.54 cents\n",
            "1910\t91,972,266\t$15,968,000\t17.07 cents\n",
            "1920\t105,710,620\t$25,117,000\t23.76 cents\n",
            "1930\t122,775,046\t$40,156,000\t32.71 cents\n",
            "1940\t131,669,275\t$67,527,000\t51.29 cents\n",
            "1950\t151,325,798\t$91,462,000\t60.44 cents\n",
            "1960\t179,323,175\t$127,934,000\t71.34 cents\n",
            "1970\t203,302,031\t$247,653,000\t$1.22\n",
            "1980\t226,542,199\t$1,078,488,000\t$4.76\n",
            "1990\t248,718,301\t$2,492,830,000\t$10.02\n",
            "2000\t281,421,906\t$4.5 Billion\t$15.99\n",
            "2010*\t308,745,538\t$13 Billion\t$42.11"
          ],
          "name": "stdout"
        }
      ]
    },
    {
      "cell_type": "markdown",
      "metadata": {
        "id": "GAS8qeg_Zpnt",
        "colab_type": "text"
      },
      "source": [
        "2. Extract the first two lines and put them in a different list named \"top2_list\". You will need to use them later. Print the top2_list."
      ]
    },
    {
      "cell_type": "code",
      "metadata": {
        "id": "oYNnpQFIXEDu",
        "colab_type": "code",
        "colab": {
          "base_uri": "https://localhost:8080/",
          "height": 69
        },
        "outputId": "79685d25-027b-446f-f22c-15341669b5e8"
      },
      "source": [
        "print(len(line_list))\n",
        "line_list[2:]\n",
        "\n",
        "top2_list = line_list[:2]\n",
        "\n",
        "for line in top2_list:\n",
        "    print(line, end=\"\")"
      ],
      "execution_count": 44,
      "outputs": [
        {
          "output_type": "stream",
          "text": [
            "25\n",
            "Source: https://www.genealogybranches.com/censuscosts.html\n",
            "Census Year\tTotal Population\tCensus Cost\tAverage Cost Per Person\n"
          ],
          "name": "stdout"
        }
      ]
    },
    {
      "cell_type": "markdown",
      "metadata": {
        "id": "LH1LpTEnZu1A",
        "colab_type": "text"
      },
      "source": [
        "3. Put the rest of the lines (containing useful data elements) in a new list named \"data_list\". Print data_list."
      ]
    },
    {
      "cell_type": "code",
      "metadata": {
        "id": "hfjY9AWJZvJU",
        "colab_type": "code",
        "colab": {
          "base_uri": "https://localhost:8080/",
          "height": 415
        },
        "outputId": "a3c8ee93-cdb8-4765-e264-320235830e23"
      },
      "source": [
        "#with open(\"new_file.txt\", \"wt\") as f:\n",
        "    #for line in line_list[2:]:\n",
        "        #f.write(line.replace(\"\\t\", \",\"))\n",
        "\n",
        "data_list = line_list[2:]\n",
        "\n",
        "for line in data_list:\n",
        "    print(line, end=\"\")"
      ],
      "execution_count": 79,
      "outputs": [
        {
          "output_type": "stream",
          "text": [
            "1790\t3,929,214\t$44,377\t1.13 cents\n",
            "1800\t5,308,483\t$66,109\t1.24 cents\n",
            "1810\t7,239,881\t$178,445\t2.46 cents\n",
            "1820\t9,633,822\t$208,526\t2.16 cents\n",
            "1830\t12,866,020\t$378,545\t2.94 cents\n",
            "1840\t17,069,458\t$833,371\t4.88 cents\n",
            "1850\t23,191,876\t$1,423,351\t6.14 cents\n",
            "1860\t31,443,321\t$1,969,377\t6.26 cents\n",
            "1870\t38,558,371\t$3,421,198\t8.87 cents\n",
            "1880\t50,155,783\t$5,790,678\t11.54 cents\n",
            "1890\t62,979,766\t$11,547,127\t18.33 cents\n",
            "1900\t76,303,387\t$11,854,000\t15.54 cents\n",
            "1910\t91,972,266\t$15,968,000\t17.07 cents\n",
            "1920\t105,710,620\t$25,117,000\t23.76 cents\n",
            "1930\t122,775,046\t$40,156,000\t32.71 cents\n",
            "1940\t131,669,275\t$67,527,000\t51.29 cents\n",
            "1950\t151,325,798\t$91,462,000\t60.44 cents\n",
            "1960\t179,323,175\t$127,934,000\t71.34 cents\n",
            "1970\t203,302,031\t$247,653,000\t$1.22\n",
            "1980\t226,542,199\t$1,078,488,000\t$4.76\n",
            "1990\t248,718,301\t$2,492,830,000\t$10.02\n",
            "2000\t281,421,906\t$4.5 Billion\t$15.99\n",
            "2010*\t308,745,538\t$13 Billion\t$42.11"
          ],
          "name": "stdout"
        }
      ]
    },
    {
      "cell_type": "markdown",
      "metadata": {
        "id": "DEYkzEmxZvmW",
        "colab_type": "text"
      },
      "source": [
        "4. Extract the column **\"Census Year\"** from data_list and assign them to a list named **year_list**. Remove the \"*\" from the last element \"2010*\". Print the cleansed year_list."
      ]
    },
    {
      "cell_type": "code",
      "metadata": {
        "id": "VN_i9zMIZvdT",
        "colab_type": "code",
        "colab": {
          "base_uri": "https://localhost:8080/",
          "height": 415
        },
        "outputId": "58dc98f4-4d89-49fc-cd87-57f2812ea21a"
      },
      "source": [
        "year_list = []\n",
        "\n",
        "for line in data_list:\n",
        "    year_list = line.replace(\"*\", \"\").split(\"\\t\")[0]\n",
        "    print(year_list)"
      ],
      "execution_count": 96,
      "outputs": [
        {
          "output_type": "stream",
          "text": [
            "1790\n",
            "1800\n",
            "1810\n",
            "1820\n",
            "1830\n",
            "1840\n",
            "1850\n",
            "1860\n",
            "1870\n",
            "1880\n",
            "1890\n",
            "1900\n",
            "1910\n",
            "1920\n",
            "1930\n",
            "1940\n",
            "1950\n",
            "1960\n",
            "1970\n",
            "1980\n",
            "1990\n",
            "2000\n",
            "2010\n"
          ],
          "name": "stdout"
        }
      ]
    },
    {
      "cell_type": "markdown",
      "metadata": {
        "id": "MtESDiA9ZvUU",
        "colab_type": "text"
      },
      "source": [
        "5. Extract the **\"Total Population\"** column from the data_list and assign them to a list named **\"pop_list\"**. Remove the \",\" from the numbers since Python doesn't recognize them. Print the cleansed \"pop_list\"."
      ]
    },
    {
      "cell_type": "code",
      "metadata": {
        "id": "AQpD1PyTZvvT",
        "colab_type": "code",
        "colab": {
          "base_uri": "https://localhost:8080/",
          "height": 415
        },
        "outputId": "cb8e061d-1ccb-4a78-de75-39b7196c558b"
      },
      "source": [
        "pop_list = []\n",
        "\n",
        "for line in data_list:\n",
        "    pop_list = line.replace(\",\", \"\").split(\"\\t\")[1]\n",
        "    print(pop_list)\n"
      ],
      "execution_count": 97,
      "outputs": [
        {
          "output_type": "stream",
          "text": [
            "3929214\n",
            "5308483\n",
            "7239881\n",
            "9633822\n",
            "12866020\n",
            "17069458\n",
            "23191876\n",
            "31443321\n",
            "38558371\n",
            "50155783\n",
            "62979766\n",
            "76303387\n",
            "91972266\n",
            "105710620\n",
            "122775046\n",
            "131669275\n",
            "151325798\n",
            "179323175\n",
            "203302031\n",
            "226542199\n",
            "248718301\n",
            "281421906\n",
            "308745538\n"
          ],
          "name": "stdout"
        }
      ]
    },
    {
      "cell_type": "markdown",
      "metadata": {
        "id": "h2F8KrEQZv4U",
        "colab_type": "text"
      },
      "source": [
        "6. Extract the **\"Census Cost\"** column from the data_list and assign them to a list named **\"cost_list\"**. Remove the \",\", and \"$\", and \"Billion\".\n",
        "Make sure to add the \"0\"s to the numbers from which you removed \"Billion\". Print the cleansed cost_list.\n"
      ]
    },
    {
      "cell_type": "code",
      "metadata": {
        "id": "8GE_UOqGZwB-",
        "colab_type": "code",
        "colab": {
          "base_uri": "https://localhost:8080/",
          "height": 415
        },
        "outputId": "e5097a9b-6751-4274-8896-1697bb8f9941"
      },
      "source": [
        "cost_list = []\n",
        "\n",
        "for line in data_list:\n",
        "    cost_list = line.replace(\",\", \"\").replace(\"$\", \"\").replace(\" Billion\", \"000000000\").replace(\".50\", \"5\").split(\"\\t\")[2]\n",
        "    print(cost_list)"
      ],
      "execution_count": 102,
      "outputs": [
        {
          "output_type": "stream",
          "text": [
            "44377\n",
            "66109\n",
            "178445\n",
            "208526\n",
            "378545\n",
            "833371\n",
            "1423351\n",
            "1969377\n",
            "3421198\n",
            "5790678\n",
            "11547127\n",
            "11854000\n",
            "15968000\n",
            "25117000\n",
            "40156000\n",
            "67527000\n",
            "91462000\n",
            "127934000\n",
            "247653000\n",
            "1078488000\n",
            "2492830000\n",
            "4500000000\n",
            "13000000000\n"
          ],
          "name": "stdout"
        }
      ]
    },
    {
      "cell_type": "markdown",
      "metadata": {
        "id": "2m1bXNvOZwLp",
        "colab_type": "text"
      },
      "source": [
        "7. Extract the **\"Average Cost per Person\"** column from the data_list and assign them to a list named **\"avg_list\"**. Remove the \"cents\", and \"$\".\n",
        "Make sure to divide the numbers in cents by 100 so that all numbers are measured in dollar. Print the cleansed avg_list.\n",
        "\n",
        "# removed cents but have not divided yet"
      ]
    },
    {
      "cell_type": "code",
      "metadata": {
        "id": "a5lrVdWDZwUo",
        "colab_type": "code",
        "colab": {
          "base_uri": "https://localhost:8080/",
          "height": 415
        },
        "outputId": "02ee1825-9be3-41dd-858c-e1dd18d347ee"
      },
      "source": [
        "avg_list = []\n",
        "remove_cents = []\n",
        "\n",
        "for line in data_list:\n",
        "    avg_list = line.replace(\"$\", \"\").replace(\"cents\", \"\").split(\"\\t\")[3]\n",
        "    print(avg_list, end=\"\")\n",
        "\n"
      ],
      "execution_count": 112,
      "outputs": [
        {
          "output_type": "stream",
          "text": [
            "1.13 \n",
            "1.24 \n",
            "2.46 \n",
            "2.16 \n",
            "2.94 \n",
            "4.88 \n",
            "6.14 \n",
            "6.26 \n",
            "8.87 \n",
            "11.54 \n",
            "18.33 \n",
            "15.54 \n",
            "17.07 \n",
            "23.76 \n",
            "32.71 \n",
            "51.29 \n",
            "60.44 \n",
            "71.34 \n",
            "1.22\n",
            "4.76\n",
            "10.02\n",
            "15.99\n",
            "42.11"
          ],
          "name": "stdout"
        }
      ]
    },
    {
      "cell_type": "markdown",
      "metadata": {
        "id": "uer8jydyodE5",
        "colab_type": "text"
      },
      "source": [
        "8. Coalesce the cleansed data and save them to a text file named \"census_cost.csv\". The new file should look similar to the original source file except that it is in comma-delimited format and the numbers have been cleansed. The top two lines from the original file should be retained in the new file."
      ]
    },
    {
      "cell_type": "code",
      "metadata": {
        "id": "3SIPlZX8oc5M",
        "colab_type": "code",
        "colab": {}
      },
      "source": [
        ""
      ],
      "execution_count": null,
      "outputs": []
    },
    {
      "cell_type": "markdown",
      "metadata": {
        "id": "yJRWUA7koesB",
        "colab_type": "text"
      },
      "source": [
        "9. Open the newly-created file \"census_cost.csv\", read all lines and display them. How does it look?"
      ]
    },
    {
      "cell_type": "code",
      "metadata": {
        "id": "nCoY5T52oe4H",
        "colab_type": "code",
        "colab": {}
      },
      "source": [
        ""
      ],
      "execution_count": null,
      "outputs": []
    }
  ]
}