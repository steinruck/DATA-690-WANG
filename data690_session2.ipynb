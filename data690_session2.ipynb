{
  "nbformat": 4,
  "nbformat_minor": 0,
  "metadata": {
    "colab": {
      "name": "data690_session2.ipynb",
      "provenance": [],
      "authorship_tag": "ABX9TyMFgr3k2PkfS7wPeeOgtr6v",
      "include_colab_link": true
    },
    "kernelspec": {
      "name": "python3",
      "display_name": "Python 3"
    }
  },
  "cells": [
    {
      "cell_type": "markdown",
      "metadata": {
        "id": "view-in-github",
        "colab_type": "text"
      },
      "source": [
        "<a href=\"https://colab.research.google.com/github/steinruck/DATA-690-WANG/blob/master/data690_session2.ipynb\" target=\"_parent\"><img src=\"https://colab.research.google.com/assets/colab-badge.svg\" alt=\"Open In Colab\"/></a>"
      ]
    },
    {
      "cell_type": "markdown",
      "metadata": {
        "id": "X1UmQ2i1Yt00",
        "colab_type": "text"
      },
      "source": [
        "# DATA690 test notebook \n",
        "## Week 2"
      ]
    },
    {
      "cell_type": "code",
      "metadata": {
        "id": "HMyIL-FQYR0H",
        "colab_type": "code",
        "colab": {
          "base_uri": "https://localhost:8080/",
          "height": 34
        },
        "outputId": "3e61fa0d-6035-4194-e498-37f458f8800b"
      },
      "source": [
        "print(\"hello world\")"
      ],
      "execution_count": 1,
      "outputs": [
        {
          "output_type": "stream",
          "text": [
            "hello world\n"
          ],
          "name": "stdout"
        }
      ]
    },
    {
      "cell_type": "code",
      "metadata": {
        "id": "XjCpsJ8nZC_m",
        "colab_type": "code",
        "colab": {
          "base_uri": "https://localhost:8080/",
          "height": 51
        },
        "outputId": "ec6682dd-455f-46a5-e01e-544161f1f5d1"
      },
      "source": [
        "age = input(\"your age? \")\n",
        "print(\"hello world\", age)"
      ],
      "execution_count": 3,
      "outputs": [
        {
          "output_type": "stream",
          "text": [
            "your age? 27\n",
            "hello world 27\n"
          ],
          "name": "stdout"
        }
      ]
    },
    {
      "cell_type": "markdown",
      "metadata": {
        "id": "XNWQHMUrhuxA",
        "colab_type": "text"
      },
      "source": [
        "# Python Basics\n"
      ]
    },
    {
      "cell_type": "code",
      "metadata": {
        "id": "vC7tKS2mh2EU",
        "colab_type": "code",
        "colab": {
          "base_uri": "https://localhost:8080/",
          "height": 102
        },
        "outputId": "3decd454-2a36-4663-b697-fa33700a253e"
      },
      "source": [
        "# write python code here\n",
        "print(\"hello world\")    # this is a simple statement\n",
        "print(10)\n",
        "print(10, 10.5)\n",
        "print(True, False)\n",
        "print(10)"
      ],
      "execution_count": 4,
      "outputs": [
        {
          "output_type": "stream",
          "text": [
            "hello world\n",
            "10\n",
            "10 10.5\n",
            "True False\n",
            "10\n"
          ],
          "name": "stdout"
        }
      ]
    },
    {
      "cell_type": "code",
      "metadata": {
        "id": "wE6xLGSfjkt5",
        "colab_type": "code",
        "colab": {
          "base_uri": "https://localhost:8080/",
          "height": 51
        },
        "outputId": "29519adf-22e0-4f8b-ebf9-7620836d7243"
      },
      "source": [
        "y = True\n",
        "print(y)\n",
        "y = False\n",
        "print(y)"
      ],
      "execution_count": 5,
      "outputs": [
        {
          "output_type": "stream",
          "text": [
            "True\n",
            "False\n"
          ],
          "name": "stdout"
        }
      ]
    },
    {
      "cell_type": "code",
      "metadata": {
        "id": "VqUf7jG9lKU4",
        "colab_type": "code",
        "colab": {
          "base_uri": "https://localhost:8080/",
          "height": 102
        },
        "outputId": "e3943261-4f4f-4bd9-d02c-d910c0141a35"
      },
      "source": [
        "text = \"Q1  My primary educational background is in: Social Science, Business, and Laws\"\n",
        "\n",
        "split_text = text.split(\":\")\n",
        "\n",
        "part1 = split_text[0]\n",
        "part2 = split_text[1]\n",
        "print(part1)\n",
        "print(part2)\n",
        "\n",
        "question_label = part1[0:2]\n",
        "print(\"label =\", question_label)\n",
        "question = part1[4:]\n",
        "print(\"question = \", question)\n",
        "print(\"answer =\", part2.strip())    # strip gets rid of trailing spaces\n",
        "\n",
        "# question_label = \"Q1 \"\n",
        "# question_text = \"My primary educational background is in: \"\n",
        "# answer = \"Social Science, Business, and Laws\""
      ],
      "execution_count": 25,
      "outputs": [
        {
          "output_type": "stream",
          "text": [
            "Q1  My primary educational background is in\n",
            " Social Science, Business, and Laws\n",
            "label = Q1\n",
            "question =  My primary educational background is in\n",
            "answer = Social Science, Business, and Laws\n"
          ],
          "name": "stdout"
        }
      ]
    },
    {
      "cell_type": "code",
      "metadata": {
        "id": "m-vswvpTnorR",
        "colab_type": "code",
        "colab": {
          "base_uri": "https://localhost:8080/",
          "height": 34
        },
        "outputId": "c068fd75-678c-4c1a-8051-419b9ffcd513"
      },
      "source": [
        "x = 20\n",
        "y = 20\n",
        "if x >y:\n",
        "    print(\"x is larger than y\")\n",
        "    print(\"hello\")\n",
        "elif x == y:\n",
        "    print(\"x is the same as y\")\n",
        "else:\n",
        "    print(\"x is less than y\")"
      ],
      "execution_count": 13,
      "outputs": [
        {
          "output_type": "stream",
          "text": [
            "x is the same as y\n"
          ],
          "name": "stdout"
        }
      ]
    },
    {
      "cell_type": "code",
      "metadata": {
        "id": "6F-aTBDUn9gh",
        "colab_type": "code",
        "colab": {
          "base_uri": "https://localhost:8080/",
          "height": 34
        },
        "outputId": "a7ebce4b-8d82-412a-8e4d-615f8fba5b99"
      },
      "source": [
        "y = \"hello world\"\n",
        "print(list(y))\n"
      ],
      "execution_count": 14,
      "outputs": [
        {
          "output_type": "stream",
          "text": [
            "['h', 'e', 'l', 'l', 'o', ' ', 'w', 'o', 'r', 'l', 'd']\n"
          ],
          "name": "stdout"
        }
      ]
    },
    {
      "cell_type": "code",
      "metadata": {
        "id": "NzRBrfPPoIvk",
        "colab_type": "code",
        "colab": {
          "base_uri": "https://localhost:8080/",
          "height": 102
        },
        "outputId": "7c28d4f7-a0ee-4db8-a47a-1a5756827d26"
      },
      "source": [
        "for sequence in range(0, 50, 10):\n",
        "    print(sequence)    #start, stop, step"
      ],
      "execution_count": 15,
      "outputs": [
        {
          "output_type": "stream",
          "text": [
            "0\n",
            "10\n",
            "20\n",
            "30\n",
            "40\n"
          ],
          "name": "stdout"
        }
      ]
    },
    {
      "cell_type": "code",
      "metadata": {
        "id": "ZpWGwbavoY3I",
        "colab_type": "code",
        "colab": {
          "base_uri": "https://localhost:8080/",
          "height": 102
        },
        "outputId": "b4ef8425-c8f0-4452-c3af-9717b40ef68f"
      },
      "source": [
        "for sequence in range(5):\n",
        "    print(y[sequence])"
      ],
      "execution_count": 16,
      "outputs": [
        {
          "output_type": "stream",
          "text": [
            "h\n",
            "e\n",
            "l\n",
            "l\n",
            "o\n"
          ],
          "name": "stdout"
        }
      ]
    },
    {
      "cell_type": "code",
      "metadata": {
        "id": "RWKE6XaAoh-T",
        "colab_type": "code",
        "colab": {
          "base_uri": "https://localhost:8080/",
          "height": 34
        },
        "outputId": "f00ff84b-7f41-4376-f0b6-531d6ad3325e"
      },
      "source": [
        "100 in range(0,10,2)    # gives even numbers through 10. 100 is not there"
      ],
      "execution_count": 17,
      "outputs": [
        {
          "output_type": "execute_result",
          "data": {
            "text/plain": [
              "False"
            ]
          },
          "metadata": {
            "tags": []
          },
          "execution_count": 17
        }
      ]
    },
    {
      "cell_type": "code",
      "metadata": {
        "id": "IiKshPpUos3R",
        "colab_type": "code",
        "colab": {
          "base_uri": "https://localhost:8080/",
          "height": 34
        },
        "outputId": "2778b8b8-a3fe-441f-e349-7dd000e924dd"
      },
      "source": [
        "2 in range(0,10,2)"
      ],
      "execution_count": 18,
      "outputs": [
        {
          "output_type": "execute_result",
          "data": {
            "text/plain": [
              "True"
            ]
          },
          "metadata": {
            "tags": []
          },
          "execution_count": 18
        }
      ]
    },
    {
      "cell_type": "code",
      "metadata": {
        "id": "lCFu5KjEoz1y",
        "colab_type": "code",
        "colab": {
          "base_uri": "https://localhost:8080/",
          "height": 34
        },
        "outputId": "e66b870e-6af2-4ff3-dde5-e0f319869239"
      },
      "source": [
        "x = \"hello world\"\n",
        "for a_member in x:\n",
        "    print(a_member.upper(), end=\"\")"
      ],
      "execution_count": 19,
      "outputs": [
        {
          "output_type": "stream",
          "text": [
            "HELLO WORLD"
          ],
          "name": "stdout"
        }
      ]
    },
    {
      "cell_type": "code",
      "metadata": {
        "id": "dnDB_zLIpIVu",
        "colab_type": "code",
        "colab": {
          "base_uri": "https://localhost:8080/",
          "height": 34
        },
        "outputId": "db710d93-f1e3-4d7e-a563-fa7265ff5104"
      },
      "source": [
        "len(x)"
      ],
      "execution_count": 20,
      "outputs": [
        {
          "output_type": "execute_result",
          "data": {
            "text/plain": [
              "11"
            ]
          },
          "metadata": {
            "tags": []
          },
          "execution_count": 20
        }
      ]
    },
    {
      "cell_type": "code",
      "metadata": {
        "id": "qiVNIuZopTQk",
        "colab_type": "code",
        "colab": {
          "base_uri": "https://localhost:8080/",
          "height": 34
        },
        "outputId": "35a9f961-4d21-49da-8355-95c55fdc79f5"
      },
      "source": [
        "a = [1, 4, 12, 0]    # list\n",
        "a[1]\n",
        "sum = 0\n",
        "\n",
        "for num in a:\n",
        "    sum = sum + num\n",
        "\n",
        "sum"
      ],
      "execution_count": 24,
      "outputs": [
        {
          "output_type": "execute_result",
          "data": {
            "text/plain": [
              "17"
            ]
          },
          "metadata": {
            "tags": []
          },
          "execution_count": 24
        }
      ]
    }
  ]
}