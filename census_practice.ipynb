{
  "nbformat": 4,
  "nbformat_minor": 0,
  "metadata": {
    "colab": {
      "name": "census_practice.ipynb",
      "provenance": [],
      "authorship_tag": "ABX9TyPxx3LVkBg5pSdzqSscXE1w",
      "include_colab_link": true
    },
    "kernelspec": {
      "name": "python3",
      "display_name": "Python 3"
    }
  },
  "cells": [
    {
      "cell_type": "markdown",
      "metadata": {
        "id": "view-in-github",
        "colab_type": "text"
      },
      "source": [
        "<a href=\"https://colab.research.google.com/github/steinruck/WANG-690-FALL-2020/blob/master/census_practice.ipynb\" target=\"_parent\"><img src=\"https://colab.research.google.com/assets/colab-badge.svg\" alt=\"Open In Colab\"/></a>"
      ]
    },
    {
      "cell_type": "code",
      "metadata": {
        "id": "mlw8AJN4mo4z",
        "colab_type": "code",
        "colab": {
          "base_uri": "https://localhost:8080/",
          "height": 831
        },
        "outputId": "3274f9b4-9204-42c2-97e2-fda30ee5a09e"
      },
      "source": [
        "with open(\"census_cost.txt\", \"rt\") as my_file:\n",
        "    census_cost = my_file.readlines()\n",
        "\n",
        "# type(census_cost) \n",
        "\n",
        "for line in census_cost:\n",
        "  print(line)"
      ],
      "execution_count": 7,
      "outputs": [
        {
          "output_type": "stream",
          "text": [
            "Census Year\tTotal Population\tCensus Cost\tAverage Cost Per Person\n",
            "\n",
            "1790\t3,929,214\t$44,377\t1.13 cents\n",
            "\n",
            "1800\t5,308,483\t$66,109\t1.24 cents\n",
            "\n",
            "1810\t7,239,881\t$178,445\t2.46 cents\n",
            "\n",
            "1820\t9,633,822\t$208,526\t2.16 cents\n",
            "\n",
            "1830\t12,866,020\t$378,545\t2.94 cents\n",
            "\n",
            "1840\t17,069,458\t$833,371\t4.88 cents\n",
            "\n",
            "1850\t23,191,876\t$1,423,351\t6.14 cents\n",
            "\n",
            "1860\t31,443,321\t$1,969,377\t6.26 cents\n",
            "\n",
            "1870\t38,558,371\t$3,421,198\t8.87 cents\n",
            "\n",
            "1880\t50,155,783\t$5,790,678\t11.54 cents\n",
            "\n",
            "1890\t62,979,766\t$11,547,127\t18.33 cents\n",
            "\n",
            "1900\t76,303,387\t$11,854,000\t15.54 cents\n",
            "\n",
            "1910\t91,972,266\t$15,968,000\t17.07 cents\n",
            "\n",
            "1920\t105,710,620\t$25,117,000\t23.76 cents\n",
            "\n",
            "1930\t122,775,046\t$40,156,000\t32.71 cents\n",
            "\n",
            "1940\t131,669,275\t$67,527,000\t51.29 cents\n",
            "\n",
            "1950\t151,325,798\t$91,462,000\t60.44 cents\n",
            "\n",
            "1960\t179,323,175\t$127,934,000\t71.34 cents\n",
            "\n",
            "1970\t203,302,031\t$247,653,000\t$1.22\n",
            "\n",
            "1980\t226,542,199\t$1,078,488,000\t$4.76\n",
            "\n",
            "1990\t248,718,301\t$2,492,830,000\t$10.02\n",
            "\n",
            "2000\t281,421,906\t$4.5 Billion\t$15.99\n",
            "\n",
            "2010*\t308,745,538\t$13 Billion\t$42.11\n"
          ],
          "name": "stdout"
        }
      ]
    },
    {
      "cell_type": "code",
      "metadata": {
        "id": "MHP7BeEJrBEs",
        "colab_type": "code",
        "colab": {
          "base_uri": "https://localhost:8080/",
          "height": 34
        },
        "outputId": "3825a6d3-3e4c-47a1-ce16-88d846cff36a"
      },
      "source": [
        "len(census_cost)"
      ],
      "execution_count": 8,
      "outputs": [
        {
          "output_type": "execute_result",
          "data": {
            "text/plain": [
              "24"
            ]
          },
          "metadata": {
            "tags": []
          },
          "execution_count": 8
        }
      ]
    },
    {
      "cell_type": "code",
      "metadata": {
        "id": "8vAmknECrD12",
        "colab_type": "code",
        "colab": {
          "base_uri": "https://localhost:8080/",
          "height": 35
        },
        "outputId": "477c96a0-cbbe-47a3-d215-9771e0818bb3"
      },
      "source": [
        "second_line = census_cost[1]\n",
        "second_line"
      ],
      "execution_count": 9,
      "outputs": [
        {
          "output_type": "execute_result",
          "data": {
            "application/vnd.google.colaboratory.intrinsic+json": {
              "type": "string"
            },
            "text/plain": [
              "'1790\\t3,929,214\\t$44,377\\t1.13 cents\\n'"
            ]
          },
          "metadata": {
            "tags": []
          },
          "execution_count": 9
        }
      ]
    },
    {
      "cell_type": "code",
      "metadata": {
        "id": "SE7Hl3WPr4xY",
        "colab_type": "code",
        "colab": {
          "base_uri": "https://localhost:8080/",
          "height": 35
        },
        "outputId": "b288f45b-fb20-4bd5-d168-fa7ccdfac1df"
      },
      "source": [
        "# second_line.strip(\"\\n\")"
      ],
      "execution_count": 13,
      "outputs": [
        {
          "output_type": "execute_result",
          "data": {
            "application/vnd.google.colaboratory.intrinsic+json": {
              "type": "string"
            },
            "text/plain": [
              "'1790\\t3,929,214\\t$44,377\\t1.13 cents'"
            ]
          },
          "metadata": {
            "tags": []
          },
          "execution_count": 13
        }
      ]
    },
    {
      "cell_type": "code",
      "metadata": {
        "id": "TiJEZ51frf0s",
        "colab_type": "code",
        "colab": {
          "base_uri": "https://localhost:8080/",
          "height": 34
        },
        "outputId": "cfe570f8-a2c3-40b1-b1d5-5c0d8e61d1eb"
      },
      "source": [
        "data_elements = second_line.strip(\"\\n\").split(\"\\t\")\n",
        "data_elements"
      ],
      "execution_count": 15,
      "outputs": [
        {
          "output_type": "execute_result",
          "data": {
            "text/plain": [
              "['1790', '3,929,214', '$44,377', '1.13 cents']"
            ]
          },
          "metadata": {
            "tags": []
          },
          "execution_count": 15
        }
      ]
    },
    {
      "cell_type": "code",
      "metadata": {
        "id": "gjaqVax-sLHO",
        "colab_type": "code",
        "colab": {
          "base_uri": "https://localhost:8080/",
          "height": 54
        },
        "outputId": "79e14520-0534-44b9-e9b9-59aca7578825"
      },
      "source": [
        "census_list = []\n",
        "for year in census_cost[1:]:\n",
        "  census_list.append(year.strip(\"\\n\").split(\"\\t\"))\n",
        "\n",
        "print(census_list)\n",
        "\n",
        "# can't really make it pretty without using other stuff (pandas, altair, etc)\n",
        "\n",
        "  "
      ],
      "execution_count": 19,
      "outputs": [
        {
          "output_type": "stream",
          "text": [
            "[['1790', '3,929,214', '$44,377', '1.13 cents'], ['1800', '5,308,483', '$66,109', '1.24 cents'], ['1810', '7,239,881', '$178,445', '2.46 cents'], ['1820', '9,633,822', '$208,526', '2.16 cents'], ['1830', '12,866,020', '$378,545', '2.94 cents'], ['1840', '17,069,458', '$833,371', '4.88 cents'], ['1850', '23,191,876', '$1,423,351', '6.14 cents'], ['1860', '31,443,321', '$1,969,377', '6.26 cents'], ['1870', '38,558,371', '$3,421,198', '8.87 cents'], ['1880', '50,155,783', '$5,790,678', '11.54 cents'], ['1890', '62,979,766', '$11,547,127', '18.33 cents'], ['1900', '76,303,387', '$11,854,000', '15.54 cents'], ['1910', '91,972,266', '$15,968,000', '17.07 cents'], ['1920', '105,710,620', '$25,117,000', '23.76 cents'], ['1930', '122,775,046', '$40,156,000', '32.71 cents'], ['1940', '131,669,275', '$67,527,000', '51.29 cents'], ['1950', '151,325,798', '$91,462,000', '60.44 cents'], ['1960', '179,323,175', '$127,934,000', '71.34 cents'], ['1970', '203,302,031', '$247,653,000', '$1.22'], ['1980', '226,542,199', '$1,078,488,000', '$4.76'], ['1990', '248,718,301', '$2,492,830,000', '$10.02'], ['2000', '281,421,906', '$4.5 Billion', '$15.99'], ['2010*', '308,745,538', '$13 Billion', '$42.11']]\n"
          ],
          "name": "stdout"
        }
      ]
    }
  ]
}